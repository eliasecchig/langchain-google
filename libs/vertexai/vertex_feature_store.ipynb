{
 "cells": [
  {
   "cell_type": "markdown",
   "metadata": {},
   "source": [
    "# Building a GenAI RAG application with Feature Store and BigQuery\n",
    "\n",
    "## Overview\n",
    "This notebook guides you through building a low-latency vector search system for your GenAI application using Vertex AI Feature Store. We'll leverage the [Vertex Feature Store Langchain integration]([link to integration]) to streamline this process.\n",
    "\n",
    "Feature Store seamlessly integrates with BigQuery, providing a unified data storage and flexible vector search options:\n",
    "\n",
    "- **BigQuery Vector Search**: Ideal for batch retrieval and prototyping, as it requires no infrastructure setup.\n",
    "- **Feature Store Online Store**: Enables low-latency retrieval with manual or scheduled data sync. Perfect for production-ready user-facing GenAI applications.\n",
    "![Image notebook journey](diagram_journey.png)\n"
   ]
  },
  {
   "cell_type": "markdown",
   "metadata": {},
   "source": [
    "# Setup\n"
   ]
  },
  {
   "cell_type": "markdown",
   "metadata": {},
   "source": [
    "### Install libraries"
   ]
  },
  {
   "cell_type": "code",
   "execution_count": null,
   "metadata": {
    "scrolled": true
   },
   "outputs": [],
   "source": [
    "!pip install langchain-google-vertexai pypdf==4.2.0 langchain pyarrow==16.0.0 db-dtypes==1.2.0 --upgrade"
   ]
  },
  {
   "cell_type": "markdown",
   "metadata": {
    "id": "Xe7OuYuGkLKF"
   },
   "source": [
    "### Authenticating your notebook environment\n",
    "* If you are using **Colab** to run this notebook, uncomment the cell below and continue.\n",
    "* If you are using **Vertex AI Workbench**, check out the setup instructions [here](https://github.com/GoogleCloudPlatform/generative-ai/tree/main/setup-env)."
   ]
  },
  {
   "cell_type": "code",
   "execution_count": null,
   "metadata": {
    "id": "U9Gx2SAZkLKF"
   },
   "outputs": [],
   "source": [
    "# from google.colab import auth\n",
    "\n",
    "# auth.authenticate_user()"
   ]
  },
  {
   "cell_type": "markdown",
   "metadata": {
    "id": "JxH62gFHCFPj"
   },
   "source": [
    "### Import libraries"
   ]
  },
  {
   "cell_type": "code",
   "execution_count": null,
   "metadata": {},
   "outputs": [],
   "source": [
    "# import sys\n",
    "# sys.path.append(\"../\")"
   ]
  },
  {
   "cell_type": "code",
   "execution_count": null,
   "metadata": {},
   "outputs": [],
   "source": [
    "%load_ext autoreload\n",
    "%autoreload 2\n",
    "from langchain_google_vertexai.vectorstores.feature_store.featurestore import VertexFSVectorStore\n",
    "from langchain_google_vertexai.vectorstores.feature_store.bigquery import BigQueryVectorStore\n",
    "from langchain_google_vertexai.vectorstores.feature_store._base import BaseBigQueryVectorStore\n",
    "\n",
    "# import logging\n",
    "# logging.basicConfig(level=logging.INFO)"
   ]
  },
  {
   "cell_type": "markdown",
   "metadata": {},
   "source": [
    "### Define environment variables"
   ]
  },
  {
   "cell_type": "code",
   "execution_count": null,
   "metadata": {},
   "outputs": [],
   "source": [
    "PROJECT_ID = \"cloud-llm-preview2\"\n",
    "DATASET = \"vertex_documentation_new1\"\n",
    "TABLE = \"mytest4\"\n",
    "REGION = \"europe-west4\""
   ]
  },
  {
   "cell_type": "markdown",
   "metadata": {
    "id": "LDSM2ZQa8eBs"
   },
   "source": [
    "# Add documents to `VertexAIFeatureStore`\n",
    "\n",
    "This step ingests and parse PDF documents, split them, generate embeddings and add the embeddings to the vector store. The document corpus used as dataset is a collection of owners car manual."
   ]
  },
  {
   "cell_type": "markdown",
   "metadata": {
    "id": "dIML1Ttj5nTk"
   },
   "source": [
    "**Summary steps**\n",
    "- Create text embeddings: LangChain `VertexAIEmbeddings`\n",
    "- Ingest PDF files: LangChain `PyPDFLoader`\n",
    "- Chunk documents: LangChain `TextSplitter`\n",
    "- Create Vector Store: LangChain  `VertexAIFeatureStore` "
   ]
  },
  {
   "cell_type": "markdown",
   "metadata": {
    "id": "q3hRmLiY2O0w"
   },
   "source": [
    "### Create the VertexAI Embedding model"
   ]
  },
  {
   "cell_type": "code",
   "execution_count": null,
   "metadata": {
    "id": "2tRYGd_Mv_ix"
   },
   "outputs": [],
   "source": [
    "from langchain_google_vertexai import VertexAIEmbeddings\n",
    "from langchain_community.vectorstores import BigQueryVectorSearch\n",
    "\n",
    "embedding_model = VertexAIEmbeddings(\n",
    "    model_name=\"textembedding-gecko@latest\", project=PROJECT_ID\n",
    ")"
   ]
  },
  {
   "cell_type": "markdown",
   "metadata": {
    "id": "pKM_QIU0WPc3"
   },
   "source": [
    "### Ingest PDF file\n",
    "\n",
    "The document is hosted on Cloud Storage bucket (at `gs://github-repo/generative-ai/sample-apps/fixmycar/cymbal-starlight-2024.pdf`) and LangChain provides a convenient document loader [`PyPDFLoader`](https://python.langchain.com/docs/modules/data_connection/document_loaders/pdf/) to load documents from pdfs.\n"
   ]
  },
  {
   "cell_type": "code",
   "execution_count": null,
   "metadata": {
    "colab": {
     "base_uri": "https://localhost:8080/"
    },
    "id": "UNEClQQjjRcc",
    "outputId": "de918892-4fae-4c5b-cd4d-915f87d11a06"
   },
   "outputs": [],
   "source": [
    "GCS_BUCKET_DOCS = (\n",
    "    \"github-repo/generative-ai/sample-apps/fixmycar\"  # @param {type: \"string\"}\n",
    ")\n",
    "\n",
    "# Copy the file to the current path\n",
    "!gsutil cp \"gs://$GCS_BUCKET_DOCS/*.pdf\" ."
   ]
  },
  {
   "cell_type": "code",
   "execution_count": null,
   "metadata": {
    "colab": {
     "base_uri": "https://localhost:8080/"
    },
    "id": "7kYw66EohYza",
    "outputId": "098e5ce1-cc21-4be4-c4c0-f2f1e203e5d6"
   },
   "outputs": [],
   "source": [
    "# Ingest PDF files\n",
    "from langchain_community.document_loaders import PyPDFLoader\n",
    "\n",
    "loader = PyPDFLoader(\"cymbal-starlight-2024.pdf\")\n",
    "documents = loader.load()\n",
    "\n",
    "\n",
    "# Add document name and source to the metadata\n",
    "for document in documents:\n",
    "    doc_md = document.metadata\n",
    "    document_name = doc_md[\"source\"].split(\"/\")[-1]\n",
    "    # derive doc source from Document loader\n",
    "    doc_source_prefix = \"/\".join(GCS_BUCKET_DOCS.split(\"/\")[:3])\n",
    "    doc_source_suffix = \"/\".join(doc_md[\"source\"].split(\"/\")[4:-1])\n",
    "    source = f\"{doc_source_prefix}/{doc_source_suffix}\"\n",
    "    document.metadata = {\"source\": source, \"document_name\": document_name}\n",
    "\n",
    "print(f\"# of documents loaded (pre-chunking) = {len(documents)}\")"
   ]
  },
  {
   "cell_type": "markdown",
   "metadata": {
    "id": "j8J7hQkVmkB1"
   },
   "source": [
    "Verify document metadata"
   ]
  },
  {
   "cell_type": "code",
   "execution_count": null,
   "metadata": {
    "colab": {
     "base_uri": "https://localhost:8080/"
    },
    "id": "jn3A13Nfmihf",
    "outputId": "3d56d945-7458-4d03-f6ce-09b9f687bada"
   },
   "outputs": [],
   "source": [
    "documents[0].metadata"
   ]
  },
  {
   "cell_type": "markdown",
   "metadata": {
    "id": "oZA9HDA0mnWW"
   },
   "source": [
    "## Chunk documents - TextSplitter\n",
    "\n",
    "Split the documents to smaller chunks. When splitting the document, ensure a few chunks can fit within the context length of LLM."
   ]
  },
  {
   "cell_type": "code",
   "execution_count": null,
   "metadata": {
    "colab": {
     "base_uri": "https://localhost:8080/"
    },
    "id": "n2QuilhMmxgA",
    "outputId": "1acae5ed-82ea-4d30-85b3-804976fbcb54"
   },
   "outputs": [],
   "source": [
    "from langchain.text_splitter import RecursiveCharacterTextSplitter\n",
    "\n",
    "# split the documents into chunks\n",
    "text_splitter = RecursiveCharacterTextSplitter(\n",
    "    chunk_size=1000,\n",
    "    chunk_overlap=50,\n",
    "    separators=[\"\\n\\n\", \"\\n\", \".\", \"!\", \"?\", \",\", \" \", \"\"],\n",
    ")\n",
    "doc_splits = text_splitter.split_documents(documents)\n",
    "\n",
    "# Add chunk number to metadata\n",
    "for idx, split in enumerate(doc_splits):\n",
    "    split.metadata[\"chunk\"] = idx\n",
    "\n",
    "print(f\"# of documents = {len(doc_splits)}\")"
   ]
  },
  {
   "cell_type": "code",
   "execution_count": null,
   "metadata": {
    "colab": {
     "base_uri": "https://localhost:8080/"
    },
    "id": "fv91BaKCmxP0",
    "outputId": "fce7f8af-94e7-44d6-e554-84a682dc41d4",
    "scrolled": true
   },
   "outputs": [],
   "source": [
    "doc_splits[0].metadata"
   ]
  },
  {
   "cell_type": "markdown",
   "metadata": {
    "id": "8QC-w_t3m9Fe"
   },
   "source": [
    "## Configure `VertexFeatureStore` as Vector Store\n",
    "\n",
    "You are now ready to start using Vertex Feature Store! \n",
    "You can initialize the class by providing `project_id`, `location`, a BQ `dataset_name` and `table_name` to be used to store embeddings. \n",
    "You can also point to an existing table. By default the class will use [BigQuery Vector Search](https://cloud.google.com/bigquery/docs/vector-search-intro) to perform vector search.\n",
    "\n",
    "See [here](TODO) for the full list of parameters of the class. "
   ]
  },
  {
   "cell_type": "code",
   "execution_count": 50,
   "metadata": {
    "colab": {
     "base_uri": "https://localhost:8080/"
    },
    "id": "Eenn_NAsnF5D",
    "outputId": "b8441c7e-23b3-482d-bd3b-275140f4f405"
   },
   "outputs": [
    {
     "name": "stdout",
     "output_type": "stream",
     "text": [
      "BigQuery table cloud-llm-preview2.vertex_documentation_new12.mytest4233 initialized/validated as persistent storage. Access via BigQuery console:\n",
      " https://console.cloud.google.com/bigquery?project=cloud-llm-preview2&ws=!1m5!1m4!4m3!1scloud-llm-preview2!2svertex_documentation_new12!3smytest4233\n",
      "Creating feature store online store\n",
      "name: \"projects/323656405210/locations/europe-west4/featureOnlineStores/vertex_documentation_new12\"\n",
      "\n",
      "name: \"projects/323656405210/locations/europe-west4/featureOnlineStores/vertex_documentation_new12\"\n",
      "\n",
      "VertexFSVectorStore initialized with Feature Store optimized Vector Search.\n",
      "Batch serving accessible through .to_big_query_vector_store() method\n"
     ]
    }
   ],
   "source": [
    "# %load_ext autoreload\n",
    "# %autoreload 2\n",
    "# from langchain_google_vertexai import VertexFeatureStore\n",
    "# PROJECT_ID = \"cloud-llm-preview2\"\n",
    "# DATASET = \"vertex_test\"\n",
    "# TABLE = \"mytest5\"\n",
    "# REGION = \"europe-west4\"\n",
    "vertex_fs = VertexFSVectorStore(\n",
    "    project_id=PROJECT_ID,\n",
    "    location=REGION,\n",
    "    dataset_name=DATASET+\"2\",\n",
    "    table_name=TABLE+\"233\",\n",
    "    embedding=embedding_model,\n",
    " )"
   ]
  },
  {
   "cell_type": "code",
   "execution_count": 44,
   "metadata": {
    "scrolled": true
   },
   "outputs": [
    {
     "name": "stdout",
     "output_type": "stream",
     "text": [
      "CPU times: user 8.89 ms, sys: 6.36 ms, total: 15.3 ms\n",
      "Wall time: 398 ms\n"
     ]
    },
    {
     "data": {
      "text/plain": [
       "[Document(page_content=\"manual.md 2024-03-23\\n5 / 22Trip computer: The trip computer provides information about the vehicle's current trip, such as the\\ntrip distance, average fuel economy, and estimated time of arrival.\\nIn addition to the gauges and indicators listed above, the instrument cluster also includes a number of\\nwarning lights and indicators. These lights and indicators are designed to alert the driver to potential\\nproblems with the vehicle.\\nWarning Lights and Indicators\\nThe following is a list of the warning lights and indicators that may appear in the instrument cluster of your\\nCymbal Starlight 2024:\\nCheck engine light: The check engine light indicates a problem with the vehicle's engine or\\nemissions system.\\nABS warning light: The ABS warning light indicates a problem with the vehicle's anti-lock braking\\nsystem.\\nTraction control warning light: The traction control warning light indicates a problem with the\\nvehicle's traction control system.\", metadata={'source': 'github-repo/generative-ai/sample-apps/', 'document_name': 'cymbal-starlight-2024.pdf', 'chunk': '11'})]"
      ]
     },
     "execution_count": 44,
     "metadata": {},
     "output_type": "execute_result"
    }
   ],
   "source": [
    "%%time\n",
    "vertex_fs.get_documents(ids=[\"5263a6e149ec43b7bf6c723bd3aabb56\"])"
   ]
  },
  {
   "cell_type": "code",
   "execution_count": 25,
   "metadata": {
    "scrolled": true
   },
   "outputs": [
    {
     "name": "stdout",
     "output_type": "stream",
     "text": [
      "Creating FeatureView\n",
      "Create FeatureView backing LRO: projects/323656405210/locations/europe-west4/featureOnlineStores/vertex_documentation_new1/featureViews/mytest4233/operations/8342730018337587200\n",
      "FeatureView created. Resource name: projects/323656405210/locations/europe-west4/featureOnlineStores/vertex_documentation_new1/featureViews/mytest4233\n",
      "To use this FeatureView in another session:\n",
      "feature_view = aiplatform.FeatureView('projects/323656405210/locations/europe-west4/featureOnlineStores/vertex_documentation_new1/featureViews/mytest4233')\n",
      "Sync ongoing, waiting for 30 seconds.\n",
      "Sync ongoing, waiting for 30 seconds.\n",
      "Sync ongoing, waiting for 30 seconds.\n",
      "Sync ongoing, waiting for 30 seconds.\n",
      "Sync ongoing, waiting for 30 seconds.\n",
      "Sync ongoing, waiting for 30 seconds.\n",
      "Sync Succeed for projects/cloud-llm-preview2/locations/europe-west4/featureOnlineStores/vertex_documentation_new1/featureViews/mytest4233/featureViewSyncs/6192508723823378432.\n"
     ]
    },
    {
     "data": {
      "text/plain": [
       "['0117f1ef1c7a48e4823ff52ff840d2a4',\n",
       " 'e2cbe8b4e004462ea6b62dff51b21977',\n",
       " '1d829b6aed7443cf99de18c210f154e8',\n",
       " '7d3f64cebd9a44c693e9e14046284043',\n",
       " '269a00e6f42f4875ae49a3fa7feffc38',\n",
       " 'b339829e85c749d3a83cc415221dcb58',\n",
       " 'c674e302ea174d24a632f5d6f797eea6',\n",
       " '19cfb5ce9f994b0a8f38a6f77e477951',\n",
       " '1d0cff4b82fe4dfdae98e49151db1647',\n",
       " 'ae0c3bfec0894ff3a09a241e8550a1e3',\n",
       " 'abf9c711279444c6b3fd30b1456e01a9',\n",
       " '5263a6e149ec43b7bf6c723bd3aabb56',\n",
       " '22cb5d9f95cd41228dd740f09075afda',\n",
       " '792b75710b6b42c3adb8366bc997d82d',\n",
       " 'fdead3e4028948d4a10591416a903ccc',\n",
       " '9930f35c377c47c486081504e17d1ad3',\n",
       " 'f5bafb6b4e7b4183a13899bf131c8a62',\n",
       " 'af09d62aa1604fda892455ad82fc953b',\n",
       " '29a77980594147de9816b9cbd665bf58',\n",
       " '3f7c01cd57f84db69c7a9a7121f58ec1',\n",
       " 'bd7a6991ca0443f9a78cd1efeb2fcb03',\n",
       " '5d2e1800d87f4489a297be2a9e620dc7',\n",
       " '91ed57ed492a451c88c487c067d38130',\n",
       " '81f0427308d046e0b733c2ef8087497b',\n",
       " 'c39b3a39d7d247ef84674b7d3958ac79',\n",
       " '1652cae8a50b4a3b9b92c19705eaa5f2',\n",
       " '9bf3e8c37ea542ef85980dfa3eeeb14c',\n",
       " '6d05190578cb4249a3f0923f98f7f9e7',\n",
       " '2027814c818a49fba9a382fa7182b47a',\n",
       " '7f70e9e050dd48008fc36926b66927ea',\n",
       " '5f0e2ccce6654513810241a2df1dcca8',\n",
       " 'c4b76b8893fc471487ab36f47a9f878c',\n",
       " '8549cb76f5dd4377a104c931877a933c',\n",
       " 'd62d86d3e145456f9c23a6d77057ca86',\n",
       " '2cffdaff85af48cd969facb5c19e8b5d',\n",
       " '204eaeefda384f4384509472082a6ecf',\n",
       " '84f135c4f7f9422e946d3a60da4fa9a4',\n",
       " '137218c66a7f4f2c9fe68064e57e0a18',\n",
       " '349276b0f7be462ebf1e4ffc51dcd073',\n",
       " '48460733a75d476b8e7104c3d2e8f611',\n",
       " '20b3d669c6ca45e3b40b5d3a60870331',\n",
       " '12670d51780a47c994d02d6d99b5ba54',\n",
       " '97d5483daf664ada92f04baf4fd3fe8d',\n",
       " 'cf2a837f29b54f889a231bacab0d6fdc',\n",
       " 'c41a07a93eff40a8b1d02a89993cd1ae',\n",
       " '8e008c8e2ffa4bf394cbc937b34cafea',\n",
       " 'ca223a8fc28a4fb2aa7b7eb9b931776e',\n",
       " '049956c84eef448791e90b7ce75ac1e2',\n",
       " 'be203eed1ff541068eaa9f3321dcb837',\n",
       " '46cb74e77f9441b685764ec5e862eda0',\n",
       " '242f9098f08c433a9928ac97fd3006c8',\n",
       " '9012730539d449a5a914caf64412e6f4',\n",
       " '6ab3d0d5fee4436b92c9bb5a298fe5a0',\n",
       " '03cd52f85ebf4049a7c712201759b027',\n",
       " '10e9debea2f748ec8fc59b54531251c5',\n",
       " '75809324cb7e47ea8508d0bebcaa7334',\n",
       " 'aa95d766475d4ba597b8047c33ede9bc',\n",
       " '65a6b83ec5ae428ab8a9607a4f845e47',\n",
       " '78bd483c4c85441899bede1cd0973cc7',\n",
       " '2c657ef219f240ebb1e6c2dc4c188959']"
      ]
     },
     "execution_count": 25,
     "metadata": {},
     "output_type": "execute_result"
    }
   ],
   "source": [
    "vertex_fs.add_documents(doc_splits)"
   ]
  },
  {
   "cell_type": "code",
   "execution_count": null,
   "metadata": {},
   "outputs": [],
   "source": []
  },
  {
   "cell_type": "code",
   "execution_count": null,
   "metadata": {},
   "outputs": [],
   "source": [
    "from google.cloud.aiplatform_v1beta1 import NearestNeighborQuery\n",
    "\n",
    "\n"
   ]
  },
  {
   "cell_type": "code",
   "execution_count": 49,
   "metadata": {
    "colab": {
     "base_uri": "https://localhost:8080/"
    },
    "id": "WAPITufi-Qca",
    "outputId": "558c53e2-eaae-44f3-8b47-1c8d095eadaf",
    "scrolled": true
   },
   "outputs": [
    {
     "name": "stdout",
     "output_type": "stream",
     "text": [
      "CPU times: user 22.8 ms, sys: 3.45 ms, total: 26.2 ms\n",
      "Wall time: 431 ms\n"
     ]
    },
    {
     "data": {
      "text/plain": [
       "[Document(page_content=\"manual.md 2024-03-23\\n2 / 22VSC can be turned off by pressing the VSC OFF button on the dashboard. However, it is\\nrecommended to leave VSC on for optimal safety.\\nAnti-Lock Braking System (ABS)\\nABS prevents the wheels from locking during braking, allowing you to maintain control of the vehicle.\\nABS can be felt as a pulsation in the brake pedal during braking. Do not release the brake pedal;\\ncontinue applying steady pressure until the vehicle comes to a stop.\\nTire Safety\\nMaintain proper tire pressure at all times (see the Tire Pressure Information label on the driver's door\\njamb).\\nCheck tire tread depth regularly and replace tires when they reach the minimum tread depth of 2/32\\ninches.\\nAvoid sudden starts, stops, and turns that can cause excessive tire wear.\\nVehicle Inspection\\nInspect your vehicle regularly for any signs of damage or malfunction, including:\\nLeaks under the vehicle\\nUnusual noises or vibrations\\nDim or flickering lights\\nWorn or damaged tires\", metadata={'source': 'github-repo/generative-ai/sample-apps/', 'document_name': 'cymbal-starlight-2024.pdf', 'chunk': 2}),\n",
       " Document(page_content='Headlight switch: The headlight switch is located on the dashboard. Use this control to turn the\\nheadlights on and off.\\nTaillight switch: The taillight switch is located on the dashboard. Use this control to turn the taillights\\non and off.\\nBrake light switch: The brake light switch is located on the brake pedal. When the brake pedal is\\ndepressed, the brake light switch activates the brake lights.\\nTurn signal lever: The turn signal lever is located on the steering column. Use this lever to activate\\nthe turn signals.', metadata={'source': 'github-repo/generative-ai/sample-apps/', 'document_name': 'cymbal-starlight-2024.pdf', 'chunk': 43}),\n",
       " Document(page_content='Stay in your vehicle and wait for emergency services to arrive.\\nIf you are stranded in a remote area, stay with your vehicle and try to attract attention by waving your\\narms or using a flashlight.', metadata={'source': 'github-repo/generative-ai/sample-apps/', 'document_name': 'cymbal-starlight-2024.pdf', 'chunk': 28}),\n",
       " Document(page_content='The nature of the emergency\\nFlat Tire\\nIf you experience a flat tire, pull over to the side of the road in a safe location. Turn on your hazard lights and\\nset out flares or reflective triangles to warn other drivers.\\nTo change a flat tire, follow these steps:\\n\\x00. Gather the necessary tools, including a jack, lug wrench, and spare tire.\\n\\x00. Loosen the lug nuts on the flat tire, but do not remove them completely.\\n\\x00. Position the jack next to the flat tire and raise the vehicle until there is approximately 6 inches of\\nclearance between the ground and the flat tire.\\n\\x00. Remove the lug nuts and take off the flat tire.\\n\\x00. Mount the spare tire on the wheel studs and tighten the lug nuts.\\n\\x00. Lower the vehicle to the ground and tighten the lug nuts further.\\n\\x00. Stow the flat tire and tools in the trunk.\\nDead Battery\\nIf your battery is dead, you can jump-start your vehicle using another vehicle. To jump-start your vehicle,\\nfollow these steps:\\n\\x00. Park the other vehicle close to yours.', metadata={'source': 'github-repo/generative-ai/sample-apps/', 'document_name': 'cymbal-starlight-2024.pdf', 'chunk': 57}),\n",
       " Document(page_content=\"indicators:\\nSpeedometer: The speedometer indicates the vehicle's speed in miles per hour (mph).\\nTachometer: The tachometer indicates the engine's speed in revolutions per minute (rpm).\\nFuel gauge: The fuel gauge indicates the amount of fuel remaining in the fuel tank.\\nOdometer: The odometer indicates the total number of miles the vehicle has traveled.\", metadata={'source': 'github-repo/generative-ai/sample-apps/', 'document_name': 'cymbal-starlight-2024.pdf', 'chunk': 10}),\n",
       " Document(page_content=\"collision.\\nForward-facing car seats: Children who have outgrown their rear-facing car seat should ride in a\\nforward-facing car seat with a harness. Forward-facing car seats should be used until your child\\nreaches the maximum height and weight limits for the seat.\\nBooster seats: Children who have outgrown their forward-facing car seat should ride in a booster\\nseat. Booster seats help position the seat belt correctly across your child's body. Booster seats\", metadata={'source': 'github-repo/generative-ai/sample-apps/', 'document_name': 'cymbal-starlight-2024.pdf', 'chunk': 4})]"
      ]
     },
     "execution_count": 49,
     "metadata": {},
     "output_type": "execute_result"
    }
   ],
   "source": [
    "%%time\n",
    "\n",
    "vertex_fs.similarity_search(\n",
    "            \"treat\",\n",
    "            k=6,\n",
    "            # \\string_filters=[\n",
    "            #    NearestNeighborQuery.StringFilter({\"name\":\"kind\",\"deny_tokens\":[\"treat\"]})\n",
    "            # ]\n",
    "        )"
   ]
  },
  {
   "cell_type": "markdown",
   "metadata": {
    "id": "Y0RTlZLY_LFP"
   },
   "source": [
    "Verify the BigQueryVectorSearch with similarity search"
   ]
  },
  {
   "cell_type": "markdown",
   "metadata": {},
   "source": [
    "### Get a langchain retriever\n",
    "The retriever will be used in a Langchain Chain to find the most similar documents for a given query."
   ]
  },
  {
   "cell_type": "code",
   "execution_count": 32,
   "metadata": {},
   "outputs": [],
   "source": [
    "langchain_retriever = vertex_fs.as_retriever()"
   ]
  },
  {
   "cell_type": "markdown",
   "metadata": {},
   "source": [
    "### Compose a Langchain Chain\n",
    "\n",
    "We are going to use the [`RetrievalQA` chain](https://python.langchain.com/docs/modules/chains/popular/vector_db_qa)\n",
    "There are several different chain types available, listed [here](https://docs.langchain.com/docs/components/chains/index_related_chains)."
   ]
  },
  {
   "cell_type": "code",
   "execution_count": 33,
   "metadata": {},
   "outputs": [
    {
     "name": "stdout",
     "output_type": "stream",
     "text": [
      "\u001b[32;1m\u001b[1;3m[chain/start]\u001b[0m \u001b[1m[chain:RetrievalQA] Entering Chain run with input:\n",
      "\u001b[0m{\n",
      "  \"query\": \"What should I do when call the emergency roadside assistance?\"\n",
      "}\n",
      "\u001b[32;1m\u001b[1;3m[chain/start]\u001b[0m \u001b[1m[chain:RetrievalQA > chain:StuffDocumentsChain] Entering Chain run with input:\n",
      "\u001b[0m[inputs]\n",
      "\u001b[32;1m\u001b[1;3m[chain/start]\u001b[0m \u001b[1m[chain:RetrievalQA > chain:StuffDocumentsChain > chain:LLMChain] Entering Chain run with input:\n",
      "\u001b[0m{\n",
      "  \"question\": \"What should I do when call the emergency roadside assistance?\",\n",
      "  \"context\": \"manual.md 2024-03-23\\n21 / 22Wash your vehicle regularly to remove dirt and grime.\\nWax your vehicle twice a year to protect the paint.\\nCheck the tire pressure regularly and adjust it as needed.\\nInspect the brakes regularly for wear and tear.\\nKeep the interior of your vehicle clean and free of debris.\\nBy following these tips, you can help to keep your Cymbal Starlight 2024 in top condition for many years to\\ncome.\\nChapter 18: Emergencies\\nRoadside Assistance\\nIf you experience a roadside emergency, such as a flat tire or a dead battery, you can call roadside\\nassistance for help. Roadside assistance is available 24 hours a day, 7 days a week.\\nTo call roadside assistance, dial the following number:\\n1-800-555-1212\\nWhen you call roadside assistance, be prepared to provide the following information:\\nYour name and contact information\\nYour vehicle's make, model, and year\\nYour vehicle's location\\nThe nature of the emergency\\nFlat Tire\\n\\nStay in your vehicle and wait for emergency services to arrive.\\nIf you are stranded in a remote area, stay with your vehicle and try to attract attention by waving your\\narms or using a flashlight.\\n\\nHorn\\nThe horn is used to alert other drivers and pedestrians of your presence.\\nTo sound the horn, press the horn button located on the steering wheel.\\nEmergency Roadside Assistance\\nYour Cymbal Starlight 2024 comes with 24/7 emergency roadside assistance.\\nTo contact emergency roadside assistance, call the following number: 1-800-555-1212.\\nWhen you call, be prepared to provide the following information:\\nYour name and contact information\\nYour vehicle's make, model, and year\\nYour vehicle's location\\nThe nature of the emergency\\nTire Repair Kit\\nYour Cymbal Starlight 2024 comes with a tire repair kit that can be used to temporarily repair a flat\\ntire.\\nThe tire repair kit is located in the trunk of the vehicle.\\nTo use the tire repair kit, follow the instructions provided in the kit.\\nOther Emergency Tips\\nIf you are involved in an accident, remain calm and call 911 immediately.\\nIf you are able to move your vehicle, pull over to the side of the road and turn on your hazard lights.\\n\\nplaying in or around the vehicle.\\nSet a good example by always wearing your seat belt and obeying traffic laws.\\nBy following these child safety tips, you can help keep your children safe while traveling in your Cymbal\\nStarlight 2024.\\nAdditional Child Safety Features\\nYour Cymbal Starlight 2024 comes equipped with the following child safety features:\\nRear child door locks: These locks prevent children from opening the rear doors from the inside.\\nWindow locks: These locks prevent children from opening the windows from the inside.\\nChild seat anchors: These anchors are located on the rear seats and can be used to secure child\\nrestraints.\\nBy using these child safety features in addition to the child safety tips outlined above, you can help ensure\\nthat your children are safe and secure while riding in your Cymbal Starlight 2024.\\nChapter 3: Emergency Assistance\\nIntroduction\\nIn the event of an emergency, it is important to know how to contact emergency services and how to use\\n\\nthe safety features in your Cymbal Starlight 2024. This chapter provides important information on how to\\nuse the following emergency assistance features:\\nHazard lights\\nHorn\\nEmergency roadside assistance\\nTire repair kit\\nHazard Lights\"\n",
      "}\n",
      "\u001b[32;1m\u001b[1;3m[llm/start]\u001b[0m \u001b[1m[chain:RetrievalQA > chain:StuffDocumentsChain > chain:LLMChain > llm:VertexAI] Entering LLM run with input:\n",
      "\u001b[0m{\n",
      "  \"prompts\": [\n",
      "    \"Use the following pieces of context to answer the question at the end. If you don't know the answer, just say that you don't know, don't try to make up an answer.\\n\\nmanual.md 2024-03-23\\n21 / 22Wash your vehicle regularly to remove dirt and grime.\\nWax your vehicle twice a year to protect the paint.\\nCheck the tire pressure regularly and adjust it as needed.\\nInspect the brakes regularly for wear and tear.\\nKeep the interior of your vehicle clean and free of debris.\\nBy following these tips, you can help to keep your Cymbal Starlight 2024 in top condition for many years to\\ncome.\\nChapter 18: Emergencies\\nRoadside Assistance\\nIf you experience a roadside emergency, such as a flat tire or a dead battery, you can call roadside\\nassistance for help. Roadside assistance is available 24 hours a day, 7 days a week.\\nTo call roadside assistance, dial the following number:\\n1-800-555-1212\\nWhen you call roadside assistance, be prepared to provide the following information:\\nYour name and contact information\\nYour vehicle's make, model, and year\\nYour vehicle's location\\nThe nature of the emergency\\nFlat Tire\\n\\nStay in your vehicle and wait for emergency services to arrive.\\nIf you are stranded in a remote area, stay with your vehicle and try to attract attention by waving your\\narms or using a flashlight.\\n\\nHorn\\nThe horn is used to alert other drivers and pedestrians of your presence.\\nTo sound the horn, press the horn button located on the steering wheel.\\nEmergency Roadside Assistance\\nYour Cymbal Starlight 2024 comes with 24/7 emergency roadside assistance.\\nTo contact emergency roadside assistance, call the following number: 1-800-555-1212.\\nWhen you call, be prepared to provide the following information:\\nYour name and contact information\\nYour vehicle's make, model, and year\\nYour vehicle's location\\nThe nature of the emergency\\nTire Repair Kit\\nYour Cymbal Starlight 2024 comes with a tire repair kit that can be used to temporarily repair a flat\\ntire.\\nThe tire repair kit is located in the trunk of the vehicle.\\nTo use the tire repair kit, follow the instructions provided in the kit.\\nOther Emergency Tips\\nIf you are involved in an accident, remain calm and call 911 immediately.\\nIf you are able to move your vehicle, pull over to the side of the road and turn on your hazard lights.\\n\\nplaying in or around the vehicle.\\nSet a good example by always wearing your seat belt and obeying traffic laws.\\nBy following these child safety tips, you can help keep your children safe while traveling in your Cymbal\\nStarlight 2024.\\nAdditional Child Safety Features\\nYour Cymbal Starlight 2024 comes equipped with the following child safety features:\\nRear child door locks: These locks prevent children from opening the rear doors from the inside.\\nWindow locks: These locks prevent children from opening the windows from the inside.\\nChild seat anchors: These anchors are located on the rear seats and can be used to secure child\\nrestraints.\\nBy using these child safety features in addition to the child safety tips outlined above, you can help ensure\\nthat your children are safe and secure while riding in your Cymbal Starlight 2024.\\nChapter 3: Emergency Assistance\\nIntroduction\\nIn the event of an emergency, it is important to know how to contact emergency services and how to use\\n\\nthe safety features in your Cymbal Starlight 2024. This chapter provides important information on how to\\nuse the following emergency assistance features:\\nHazard lights\\nHorn\\nEmergency roadside assistance\\nTire repair kit\\nHazard Lights\\n\\nQuestion: What should I do when call the emergency roadside assistance?\\nHelpful Answer:\"\n",
      "  ]\n",
      "}\n",
      "\u001b[36;1m\u001b[1;3m[llm/end]\u001b[0m \u001b[1m[chain:RetrievalQA > chain:StuffDocumentsChain > chain:LLMChain > llm:VertexAI] [2.22s] Exiting LLM run with output:\n",
      "\u001b[0m{\n",
      "  \"generations\": [\n",
      "    [\n",
      "      {\n",
      "        \"text\": \"If you experience a roadside emergency with your Cymbal Starlight 2024, you can call emergency roadside assistance. The number to call is 1-800-555-1212. \\n\\nWhen you call, be prepared to give the following information:\\n\\n* Your name and contact information\\n* Your vehicle's make, model, and year\\n* Your vehicle's location\\n* The nature of the emergency\\n\\nYou can also find this information in your car's manual in the \\\"Emergencies\\\" chapter. \",\n",
      "        \"generation_info\": {\n",
      "          \"is_blocked\": false,\n",
      "          \"safety_ratings\": [\n",
      "            {\n",
      "              \"category\": \"HARM_CATEGORY_HATE_SPEECH\",\n",
      "              \"probability_label\": \"NEGLIGIBLE\",\n",
      "              \"blocked\": false\n",
      "            },\n",
      "            {\n",
      "              \"category\": \"HARM_CATEGORY_DANGEROUS_CONTENT\",\n",
      "              \"probability_label\": \"NEGLIGIBLE\",\n",
      "              \"blocked\": false\n",
      "            },\n",
      "            {\n",
      "              \"category\": \"HARM_CATEGORY_HARASSMENT\",\n",
      "              \"probability_label\": \"NEGLIGIBLE\",\n",
      "              \"blocked\": false\n",
      "            },\n",
      "            {\n",
      "              \"category\": \"HARM_CATEGORY_SEXUALLY_EXPLICIT\",\n",
      "              \"probability_label\": \"NEGLIGIBLE\",\n",
      "              \"blocked\": false\n",
      "            }\n",
      "          ],\n",
      "          \"usage_metadata\": {\n",
      "            \"prompt_token_count\": 837,\n",
      "            \"candidates_token_count\": 114,\n",
      "            \"total_token_count\": 951\n",
      "          }\n",
      "        },\n",
      "        \"type\": \"Generation\"\n",
      "      }\n",
      "    ]\n",
      "  ],\n",
      "  \"llm_output\": null,\n",
      "  \"run\": null\n",
      "}\n",
      "\u001b[36;1m\u001b[1;3m[chain/end]\u001b[0m \u001b[1m[chain:RetrievalQA > chain:StuffDocumentsChain > chain:LLMChain] [2.22s] Exiting Chain run with output:\n",
      "\u001b[0m{\n",
      "  \"text\": \"If you experience a roadside emergency with your Cymbal Starlight 2024, you can call emergency roadside assistance. The number to call is 1-800-555-1212. \\n\\nWhen you call, be prepared to give the following information:\\n\\n* Your name and contact information\\n* Your vehicle's make, model, and year\\n* Your vehicle's location\\n* The nature of the emergency\\n\\nYou can also find this information in your car's manual in the \\\"Emergencies\\\" chapter. \"\n",
      "}\n",
      "\u001b[36;1m\u001b[1;3m[chain/end]\u001b[0m \u001b[1m[chain:RetrievalQA > chain:StuffDocumentsChain] [2.23s] Exiting Chain run with output:\n",
      "\u001b[0m{\n",
      "  \"output_text\": \"If you experience a roadside emergency with your Cymbal Starlight 2024, you can call emergency roadside assistance. The number to call is 1-800-555-1212. \\n\\nWhen you call, be prepared to give the following information:\\n\\n* Your name and contact information\\n* Your vehicle's make, model, and year\\n* Your vehicle's location\\n* The nature of the emergency\\n\\nYou can also find this information in your car's manual in the \\\"Emergencies\\\" chapter. \"\n",
      "}\n",
      "\u001b[36;1m\u001b[1;3m[chain/end]\u001b[0m \u001b[1m[chain:RetrievalQA] [3.22s] Exiting Chain run with output:\n",
      "\u001b[0m{\n",
      "  \"result\": \"If you experience a roadside emergency with your Cymbal Starlight 2024, you can call emergency roadside assistance. The number to call is 1-800-555-1212. \\n\\nWhen you call, be prepared to give the following information:\\n\\n* Your name and contact information\\n* Your vehicle's make, model, and year\\n* Your vehicle's location\\n* The nature of the emergency\\n\\nYou can also find this information in your car's manual in the \\\"Emergencies\\\" chapter. \"\n",
      "}\n",
      "\n",
      "################ Final Answer ################\n",
      "\n",
      "If you experience a roadside emergency with your Cymbal Starlight 2024, you can call emergency roadside assistance. The number to call is 1-800-555-1212. \n",
      "\n",
      "When you call, be prepared to give the following information:\n",
      "\n",
      "* Your name and contact information\n",
      "* Your vehicle's make, model, and year\n",
      "* Your vehicle's location\n",
      "* The nature of the emergency\n",
      "\n",
      "You can also find this information in your car's manual in the \"Emergencies\" chapter. \n",
      "CPU times: user 82.6 ms, sys: 31.5 ms, total: 114 ms\n",
      "Wall time: 3.22 s\n"
     ]
    }
   ],
   "source": [
    "%%time\n",
    "from langchain_google_vertexai import VertexAI\n",
    "from langchain.chains import RetrievalQA\n",
    "from langchain.globals import set_debug\n",
    "\n",
    "# Set high verbosity\n",
    "set_debug(True)\n",
    "\n",
    "llm = VertexAI(model_name=\"gemini-pro\")\n",
    "\n",
    "search_query = \"What should I do when call the emergency roadside assistance?\"  # @param {type:\"string\"}\n",
    "\n",
    "retrieval_qa = RetrievalQA.from_chain_type(\n",
    "    llm=llm, chain_type=\"stuff\", retriever=langchain_retriever\n",
    ")\n",
    "response = retrieval_qa.invoke(search_query)\n",
    "print(\"\\n################ Final Answer ################\\n\")\n",
    "print(response[\"result\"])"
   ]
  },
  {
   "cell_type": "markdown",
   "metadata": {},
   "source": [
    "## Low latency Vector Search with FeatureStore\n",
    "\n",
    "We are now ready to perform low latency serving with Feature Store! \n",
    "\n",
    "To do that, you can simply use the method `set_executor`, to `feature_online_store` type. \n",
    "\n",
    "See the [function definition](TODO) for all the parameters you can use."
   ]
  },
  {
   "cell_type": "code",
   "execution_count": null,
   "metadata": {},
   "outputs": [],
   "source": [
    "vertex_fs.set_executor({\"type\": \"feature_online_store\"})"
   ]
  },
  {
   "cell_type": "markdown",
   "metadata": {},
   "source": [
    "#### Kick off a synchronization process\n",
    "\n",
    "You can use the method `sync` to synchronize the data from BigQuery to the Feature Online Store, to achieve low latency serving.\n",
    "When in a production environment, you can also use `cron_schedule` to setup an automatic scheduled synchronization. \n",
    "\n",
    "The synchronization process will take around ~20 minutes. "
   ]
  },
  {
   "cell_type": "code",
   "execution_count": null,
   "metadata": {
    "scrolled": true
   },
   "outputs": [],
   "source": [
    "vertex_fs.sync()"
   ]
  },
  {
   "cell_type": "markdown",
   "metadata": {},
   "source": [
    "You can also monitor the synchronization process from GCP Console: [Vertex AI Feature Store Tab](https://console.cloud.google.com/vertex-ai/feature-store/online-stores)"
   ]
  },
  {
   "cell_type": "markdown",
   "metadata": {},
   "source": [
    "#### Serve with Feature Online Store\n",
    "\n",
    "You are now ready to serve with Feature Store! You can re-use the same retriever to perform low-latency Vector Search."
   ]
  },
  {
   "cell_type": "code",
   "execution_count": null,
   "metadata": {},
   "outputs": [],
   "source": [
    "results = langchain_retriever.invoke(search_query)\n",
    "results[0]"
   ]
  },
  {
   "cell_type": "code",
   "execution_count": null,
   "metadata": {},
   "outputs": [],
   "source": [
    "%%time\n",
    "results = langchain_retriever.invoke(\"Leaks under the vehicle\")"
   ]
  },
  {
   "cell_type": "code",
   "execution_count": null,
   "metadata": {},
   "outputs": [],
   "source": [
    "%%time\n",
    "response = retrieval_qa.invoke(search_query)\n",
    "print(\"\\n################ Final Answer ################\\n\")\n",
    "print(response[\"result\"])"
   ]
  },
  {
   "cell_type": "markdown",
   "metadata": {},
   "source": [
    "### Filtering by metadata\n"
   ]
  },
  {
   "cell_type": "code",
   "execution_count": null,
   "metadata": {},
   "outputs": [],
   "source": []
  },
  {
   "cell_type": "markdown",
   "metadata": {},
   "source": [
    "# Appendix\n",
    "\n",
    "We add here other useful examples to work with the `VertexFeatureStore` Langchain integration."
   ]
  },
  {
   "cell_type": "markdown",
   "metadata": {},
   "source": [
    "### Local Bruteforce\n",
    "\n",
    "You can also prototype by using a (local) bruteforce executor. During initialization, data is downloaded from BQ to your memory.\n",
    "\n",
    "You can use it for prototyping when the number of documents is low. "
   ]
  },
  {
   "cell_type": "markdown",
   "metadata": {},
   "source": [
    "### Get documents by ID\n",
    "\n",
    "You can also use the function `get_documents` to retrieve a set of documents given a document ID:\n"
   ]
  },
  {
   "cell_type": "code",
   "execution_count": 34,
   "metadata": {},
   "outputs": [
    {
     "ename": "NotFound",
     "evalue": "404 The FeatureOnlineStore does not exist.",
     "output_type": "error",
     "traceback": [
      "\u001b[0;31m---------------------------------------------------------------------------\u001b[0m",
      "\u001b[0;31mNotFound\u001b[0m                                  Traceback (most recent call last)",
      "Cell \u001b[0;32mIn[34], line 1\u001b[0m\n\u001b[0;32m----> 1\u001b[0m \u001b[43mvertex_fs\u001b[49m\u001b[38;5;241;43m.\u001b[39;49m\u001b[43mget_documents\u001b[49m\u001b[43m(\u001b[49m\u001b[43mids\u001b[49m\u001b[38;5;241;43m=\u001b[39;49m\u001b[43m[\u001b[49m\u001b[38;5;124;43m\"\u001b[39;49m\u001b[38;5;124;43m65a6b83ec5ae428ab8a9607a4f845e47\u001b[39;49m\u001b[38;5;124;43m\"\u001b[39;49m\u001b[43m]\u001b[49m\u001b[43m)\u001b[49m\n",
      "File \u001b[0;32m~/langchain-google/libs/vertexai/langchain_google_vertexai/vectorstores/feature_store/featurestore.py:296\u001b[0m, in \u001b[0;36mVertexFSVectorStore.get_documents\u001b[0;34m(self, ids, filter, **kwargs)\u001b[0m\n\u001b[1;32m    294\u001b[0m \u001b[38;5;28;01mfor\u001b[39;00m \u001b[38;5;28mid\u001b[39m \u001b[38;5;129;01min\u001b[39;00m ids:\n\u001b[1;32m    295\u001b[0m     \u001b[38;5;28;01mwith\u001b[39;00m telemetry\u001b[38;5;241m.\u001b[39mtool_context_manager(\u001b[38;5;28mself\u001b[39m\u001b[38;5;241m.\u001b[39m_user_agent):\n\u001b[0;32m--> 296\u001b[0m         result \u001b[38;5;241m=\u001b[39m \u001b[38;5;28;43mself\u001b[39;49m\u001b[38;5;241;43m.\u001b[39;49m\u001b[43m_feature_view\u001b[49m\u001b[38;5;241;43m.\u001b[39;49m\u001b[43mread\u001b[49m\u001b[43m(\u001b[49m\u001b[43mkey\u001b[49m\u001b[38;5;241;43m=\u001b[39;49m\u001b[43m[\u001b[49m\u001b[38;5;28;43mid\u001b[39;49m\u001b[43m]\u001b[49m\u001b[43m)\u001b[49m  \u001b[38;5;66;03m# type: ignore[union-attr]\u001b[39;00m\n\u001b[1;32m    297\u001b[0m         metadata, content \u001b[38;5;241m=\u001b[39m {}, \u001b[38;5;28;01mNone\u001b[39;00m\n\u001b[1;32m    298\u001b[0m         \u001b[38;5;28;01mfor\u001b[39;00m feature \u001b[38;5;129;01min\u001b[39;00m result\u001b[38;5;241m.\u001b[39mto_dict()[\u001b[38;5;124m\"\u001b[39m\u001b[38;5;124mfeatures\u001b[39m\u001b[38;5;124m\"\u001b[39m]:\n",
      "File \u001b[0;32m~/.pyenv/versions/3.10.9/lib/python3.10/site-packages/vertexai/resources/preview/feature_store/feature_view.py:275\u001b[0m, in \u001b[0;36mFeatureView.read\u001b[0;34m(self, key, request_timeout)\u001b[0m\n\u001b[1;32m    257\u001b[0m \u001b[38;5;250m\u001b[39m\u001b[38;5;124;03m\"\"\"Read the feature values from FeatureView.\u001b[39;00m\n\u001b[1;32m    258\u001b[0m \n\u001b[1;32m    259\u001b[0m \u001b[38;5;124;03m  Example Usage:\u001b[39;00m\n\u001b[0;32m   (...)\u001b[0m\n\u001b[1;32m    272\u001b[0m \u001b[38;5;124;03m    to_proto()\u001b[39;00m\n\u001b[1;32m    273\u001b[0m \u001b[38;5;124;03m\"\"\"\u001b[39;00m\n\u001b[1;32m    274\u001b[0m \u001b[38;5;28mself\u001b[39m\u001b[38;5;241m.\u001b[39mwait()\n\u001b[0;32m--> 275\u001b[0m response \u001b[38;5;241m=\u001b[39m \u001b[38;5;28;43mself\u001b[39;49m\u001b[38;5;241;43m.\u001b[39;49m\u001b[43m_get_online_store_client\u001b[49m\u001b[38;5;241m.\u001b[39mfetch_feature_values(\n\u001b[1;32m    276\u001b[0m     feature_view\u001b[38;5;241m=\u001b[39m\u001b[38;5;28mself\u001b[39m\u001b[38;5;241m.\u001b[39mresource_name,\n\u001b[1;32m    277\u001b[0m     data_key\u001b[38;5;241m=\u001b[39mfos_service\u001b[38;5;241m.\u001b[39mFeatureViewDataKey(\n\u001b[1;32m    278\u001b[0m         composite_key\u001b[38;5;241m=\u001b[39mfos_service\u001b[38;5;241m.\u001b[39mFeatureViewDataKey\u001b[38;5;241m.\u001b[39mCompositeKey(parts\u001b[38;5;241m=\u001b[39mkey)\n\u001b[1;32m    279\u001b[0m     ),\n\u001b[1;32m    280\u001b[0m     timeout\u001b[38;5;241m=\u001b[39mrequest_timeout,\n\u001b[1;32m    281\u001b[0m )\n\u001b[1;32m    282\u001b[0m \u001b[38;5;28;01mreturn\u001b[39;00m fs_utils\u001b[38;5;241m.\u001b[39mFeatureViewReadResponse(response)\n",
      "File \u001b[0;32m~/.pyenv/versions/3.10.9/lib/python3.10/site-packages/vertexai/resources/preview/feature_store/feature_view.py:119\u001b[0m, in \u001b[0;36mFeatureView._get_online_store_client\u001b[0;34m(self)\u001b[0m\n\u001b[1;32m    116\u001b[0m fos_name \u001b[38;5;241m=\u001b[39m fs_utils\u001b[38;5;241m.\u001b[39mget_feature_online_store_name(\u001b[38;5;28mself\u001b[39m\u001b[38;5;241m.\u001b[39mresource_name)\n\u001b[1;32m    117\u001b[0m \u001b[38;5;28;01mfrom\u001b[39;00m \u001b[38;5;21;01m.\u001b[39;00m\u001b[38;5;21;01mfeature_online_store\u001b[39;00m \u001b[38;5;28;01mimport\u001b[39;00m FeatureOnlineStore\n\u001b[0;32m--> 119\u001b[0m fos \u001b[38;5;241m=\u001b[39m \u001b[43mFeatureOnlineStore\u001b[49m\u001b[43m(\u001b[49m\u001b[43mname\u001b[49m\u001b[38;5;241;43m=\u001b[39;49m\u001b[43mfos_name\u001b[49m\u001b[43m)\u001b[49m\n\u001b[1;32m    121\u001b[0m \u001b[38;5;28;01mif\u001b[39;00m fos\u001b[38;5;241m.\u001b[39m_gca_resource\u001b[38;5;241m.\u001b[39mbigtable\u001b[38;5;241m.\u001b[39mauto_scaling:\n\u001b[1;32m    122\u001b[0m     \u001b[38;5;66;03m# This is Bigtable online store.\u001b[39;00m\n\u001b[1;32m    123\u001b[0m     _LOGGER\u001b[38;5;241m.\u001b[39minfo(\u001b[38;5;124mf\u001b[39m\u001b[38;5;124m\"\u001b[39m\u001b[38;5;124mConnecting to Bigtable online store name \u001b[39m\u001b[38;5;132;01m{\u001b[39;00mfos_name\u001b[38;5;132;01m}\u001b[39;00m\u001b[38;5;124m\"\u001b[39m)\n",
      "File \u001b[0;32m~/.pyenv/versions/3.10.9/lib/python3.10/site-packages/vertexai/resources/preview/feature_store/feature_online_store.py:98\u001b[0m, in \u001b[0;36mFeatureOnlineStore.__init__\u001b[0;34m(self, name, project, location, credentials)\u001b[0m\n\u001b[1;32m     75\u001b[0m \u001b[38;5;250m\u001b[39m\u001b[38;5;124;03m\"\"\"Retrieves an existing managed feature online store.\u001b[39;00m\n\u001b[1;32m     76\u001b[0m \n\u001b[1;32m     77\u001b[0m \u001b[38;5;124;03mArgs:\u001b[39;00m\n\u001b[0;32m   (...)\u001b[0m\n\u001b[1;32m     89\u001b[0m \u001b[38;5;124;03m        Overrides credentials set in aiplatform.init.\u001b[39;00m\n\u001b[1;32m     90\u001b[0m \u001b[38;5;124;03m\"\"\"\u001b[39;00m\n\u001b[1;32m     92\u001b[0m \u001b[38;5;28msuper\u001b[39m()\u001b[38;5;241m.\u001b[39m\u001b[38;5;21m__init__\u001b[39m(\n\u001b[1;32m     93\u001b[0m     project\u001b[38;5;241m=\u001b[39mproject,\n\u001b[1;32m     94\u001b[0m     location\u001b[38;5;241m=\u001b[39mlocation,\n\u001b[1;32m     95\u001b[0m     credentials\u001b[38;5;241m=\u001b[39mcredentials,\n\u001b[1;32m     96\u001b[0m     resource_name\u001b[38;5;241m=\u001b[39mname,\n\u001b[1;32m     97\u001b[0m )\n\u001b[0;32m---> 98\u001b[0m \u001b[38;5;28mself\u001b[39m\u001b[38;5;241m.\u001b[39m_gca_resource \u001b[38;5;241m=\u001b[39m \u001b[38;5;28;43mself\u001b[39;49m\u001b[38;5;241;43m.\u001b[39;49m\u001b[43m_get_gca_resource\u001b[49m\u001b[43m(\u001b[49m\u001b[43mresource_name\u001b[49m\u001b[38;5;241;43m=\u001b[39;49m\u001b[43mname\u001b[49m\u001b[43m)\u001b[49m\n",
      "File \u001b[0;32m~/.pyenv/versions/3.10.9/lib/python3.10/site-packages/google/cloud/aiplatform/base.py:692\u001b[0m, in \u001b[0;36mVertexAiResourceNoun._get_gca_resource\u001b[0;34m(self, resource_name, parent_resource_name_fields)\u001b[0m\n\u001b[1;32m    672\u001b[0m \u001b[38;5;250m\u001b[39m\u001b[38;5;124;03m\"\"\"Returns GAPIC service representation of client class resource.\u001b[39;00m\n\u001b[1;32m    673\u001b[0m \n\u001b[1;32m    674\u001b[0m \u001b[38;5;124;03mArgs:\u001b[39;00m\n\u001b[0;32m   (...)\u001b[0m\n\u001b[1;32m    679\u001b[0m \u001b[38;5;124;03m        Should not include project and location.\u001b[39;00m\n\u001b[1;32m    680\u001b[0m \u001b[38;5;124;03m\"\"\"\u001b[39;00m\n\u001b[1;32m    681\u001b[0m resource_name \u001b[38;5;241m=\u001b[39m utils\u001b[38;5;241m.\u001b[39mfull_resource_name(\n\u001b[1;32m    682\u001b[0m     resource_name\u001b[38;5;241m=\u001b[39mresource_name,\n\u001b[1;32m    683\u001b[0m     resource_noun\u001b[38;5;241m=\u001b[39m\u001b[38;5;28mself\u001b[39m\u001b[38;5;241m.\u001b[39m_resource_noun,\n\u001b[0;32m   (...)\u001b[0m\n\u001b[1;32m    689\u001b[0m     resource_id_validator\u001b[38;5;241m=\u001b[39m\u001b[38;5;28mself\u001b[39m\u001b[38;5;241m.\u001b[39m_resource_id_validator,\n\u001b[1;32m    690\u001b[0m )\n\u001b[0;32m--> 692\u001b[0m \u001b[38;5;28;01mreturn\u001b[39;00m \u001b[38;5;28;43mgetattr\u001b[39;49m\u001b[43m(\u001b[49m\u001b[38;5;28;43mself\u001b[39;49m\u001b[38;5;241;43m.\u001b[39;49m\u001b[43mapi_client\u001b[49m\u001b[43m,\u001b[49m\u001b[43m \u001b[49m\u001b[38;5;28;43mself\u001b[39;49m\u001b[38;5;241;43m.\u001b[39;49m\u001b[43m_getter_method\u001b[49m\u001b[43m)\u001b[49m\u001b[43m(\u001b[49m\n\u001b[1;32m    693\u001b[0m \u001b[43m    \u001b[49m\u001b[43mname\u001b[49m\u001b[38;5;241;43m=\u001b[39;49m\u001b[43mresource_name\u001b[49m\u001b[43m,\u001b[49m\u001b[43m \u001b[49m\u001b[43mretry\u001b[49m\u001b[38;5;241;43m=\u001b[39;49m\u001b[43m_DEFAULT_RETRY\u001b[49m\n\u001b[1;32m    694\u001b[0m \u001b[43m\u001b[49m\u001b[43m)\u001b[49m\n",
      "File \u001b[0;32m~/.pyenv/versions/3.10.9/lib/python3.10/site-packages/google/cloud/aiplatform_v1/services/feature_online_store_admin_service/client.py:1047\u001b[0m, in \u001b[0;36mFeatureOnlineStoreAdminServiceClient.get_feature_online_store\u001b[0;34m(self, request, name, retry, timeout, metadata)\u001b[0m\n\u001b[1;32m   1044\u001b[0m \u001b[38;5;28mself\u001b[39m\u001b[38;5;241m.\u001b[39m_validate_universe_domain()\n\u001b[1;32m   1046\u001b[0m \u001b[38;5;66;03m# Send the request.\u001b[39;00m\n\u001b[0;32m-> 1047\u001b[0m response \u001b[38;5;241m=\u001b[39m \u001b[43mrpc\u001b[49m\u001b[43m(\u001b[49m\n\u001b[1;32m   1048\u001b[0m \u001b[43m    \u001b[49m\u001b[43mrequest\u001b[49m\u001b[43m,\u001b[49m\n\u001b[1;32m   1049\u001b[0m \u001b[43m    \u001b[49m\u001b[43mretry\u001b[49m\u001b[38;5;241;43m=\u001b[39;49m\u001b[43mretry\u001b[49m\u001b[43m,\u001b[49m\n\u001b[1;32m   1050\u001b[0m \u001b[43m    \u001b[49m\u001b[43mtimeout\u001b[49m\u001b[38;5;241;43m=\u001b[39;49m\u001b[43mtimeout\u001b[49m\u001b[43m,\u001b[49m\n\u001b[1;32m   1051\u001b[0m \u001b[43m    \u001b[49m\u001b[43mmetadata\u001b[49m\u001b[38;5;241;43m=\u001b[39;49m\u001b[43mmetadata\u001b[49m\u001b[43m,\u001b[49m\n\u001b[1;32m   1052\u001b[0m \u001b[43m\u001b[49m\u001b[43m)\u001b[49m\n\u001b[1;32m   1054\u001b[0m \u001b[38;5;66;03m# Done; return the response.\u001b[39;00m\n\u001b[1;32m   1055\u001b[0m \u001b[38;5;28;01mreturn\u001b[39;00m response\n",
      "File \u001b[0;32m~/.pyenv/versions/3.10.9/lib/python3.10/site-packages/google/api_core/gapic_v1/method.py:131\u001b[0m, in \u001b[0;36m_GapicCallable.__call__\u001b[0;34m(self, timeout, retry, compression, *args, **kwargs)\u001b[0m\n\u001b[1;32m    128\u001b[0m \u001b[38;5;28;01mif\u001b[39;00m \u001b[38;5;28mself\u001b[39m\u001b[38;5;241m.\u001b[39m_compression \u001b[38;5;129;01mis\u001b[39;00m \u001b[38;5;129;01mnot\u001b[39;00m \u001b[38;5;28;01mNone\u001b[39;00m:\n\u001b[1;32m    129\u001b[0m     kwargs[\u001b[38;5;124m\"\u001b[39m\u001b[38;5;124mcompression\u001b[39m\u001b[38;5;124m\"\u001b[39m] \u001b[38;5;241m=\u001b[39m compression\n\u001b[0;32m--> 131\u001b[0m \u001b[38;5;28;01mreturn\u001b[39;00m \u001b[43mwrapped_func\u001b[49m\u001b[43m(\u001b[49m\u001b[38;5;241;43m*\u001b[39;49m\u001b[43margs\u001b[49m\u001b[43m,\u001b[49m\u001b[43m \u001b[49m\u001b[38;5;241;43m*\u001b[39;49m\u001b[38;5;241;43m*\u001b[39;49m\u001b[43mkwargs\u001b[49m\u001b[43m)\u001b[49m\n",
      "File \u001b[0;32m~/.pyenv/versions/3.10.9/lib/python3.10/site-packages/google/api_core/retry/retry_unary.py:293\u001b[0m, in \u001b[0;36mRetry.__call__.<locals>.retry_wrapped_func\u001b[0;34m(*args, **kwargs)\u001b[0m\n\u001b[1;32m    289\u001b[0m target \u001b[38;5;241m=\u001b[39m functools\u001b[38;5;241m.\u001b[39mpartial(func, \u001b[38;5;241m*\u001b[39margs, \u001b[38;5;241m*\u001b[39m\u001b[38;5;241m*\u001b[39mkwargs)\n\u001b[1;32m    290\u001b[0m sleep_generator \u001b[38;5;241m=\u001b[39m exponential_sleep_generator(\n\u001b[1;32m    291\u001b[0m     \u001b[38;5;28mself\u001b[39m\u001b[38;5;241m.\u001b[39m_initial, \u001b[38;5;28mself\u001b[39m\u001b[38;5;241m.\u001b[39m_maximum, multiplier\u001b[38;5;241m=\u001b[39m\u001b[38;5;28mself\u001b[39m\u001b[38;5;241m.\u001b[39m_multiplier\n\u001b[1;32m    292\u001b[0m )\n\u001b[0;32m--> 293\u001b[0m \u001b[38;5;28;01mreturn\u001b[39;00m \u001b[43mretry_target\u001b[49m\u001b[43m(\u001b[49m\n\u001b[1;32m    294\u001b[0m \u001b[43m    \u001b[49m\u001b[43mtarget\u001b[49m\u001b[43m,\u001b[49m\n\u001b[1;32m    295\u001b[0m \u001b[43m    \u001b[49m\u001b[38;5;28;43mself\u001b[39;49m\u001b[38;5;241;43m.\u001b[39;49m\u001b[43m_predicate\u001b[49m\u001b[43m,\u001b[49m\n\u001b[1;32m    296\u001b[0m \u001b[43m    \u001b[49m\u001b[43msleep_generator\u001b[49m\u001b[43m,\u001b[49m\n\u001b[1;32m    297\u001b[0m \u001b[43m    \u001b[49m\u001b[43mtimeout\u001b[49m\u001b[38;5;241;43m=\u001b[39;49m\u001b[38;5;28;43mself\u001b[39;49m\u001b[38;5;241;43m.\u001b[39;49m\u001b[43m_timeout\u001b[49m\u001b[43m,\u001b[49m\n\u001b[1;32m    298\u001b[0m \u001b[43m    \u001b[49m\u001b[43mon_error\u001b[49m\u001b[38;5;241;43m=\u001b[39;49m\u001b[43mon_error\u001b[49m\u001b[43m,\u001b[49m\n\u001b[1;32m    299\u001b[0m \u001b[43m\u001b[49m\u001b[43m)\u001b[49m\n",
      "File \u001b[0;32m~/.pyenv/versions/3.10.9/lib/python3.10/site-packages/google/api_core/retry/retry_unary.py:153\u001b[0m, in \u001b[0;36mretry_target\u001b[0;34m(target, predicate, sleep_generator, timeout, on_error, exception_factory, **kwargs)\u001b[0m\n\u001b[1;32m    149\u001b[0m \u001b[38;5;66;03m# pylint: disable=broad-except\u001b[39;00m\n\u001b[1;32m    150\u001b[0m \u001b[38;5;66;03m# This function explicitly must deal with broad exceptions.\u001b[39;00m\n\u001b[1;32m    151\u001b[0m \u001b[38;5;28;01mexcept\u001b[39;00m \u001b[38;5;167;01mException\u001b[39;00m \u001b[38;5;28;01mas\u001b[39;00m exc:\n\u001b[1;32m    152\u001b[0m     \u001b[38;5;66;03m# defer to shared logic for handling errors\u001b[39;00m\n\u001b[0;32m--> 153\u001b[0m     \u001b[43m_retry_error_helper\u001b[49m\u001b[43m(\u001b[49m\n\u001b[1;32m    154\u001b[0m \u001b[43m        \u001b[49m\u001b[43mexc\u001b[49m\u001b[43m,\u001b[49m\n\u001b[1;32m    155\u001b[0m \u001b[43m        \u001b[49m\u001b[43mdeadline\u001b[49m\u001b[43m,\u001b[49m\n\u001b[1;32m    156\u001b[0m \u001b[43m        \u001b[49m\u001b[43msleep\u001b[49m\u001b[43m,\u001b[49m\n\u001b[1;32m    157\u001b[0m \u001b[43m        \u001b[49m\u001b[43merror_list\u001b[49m\u001b[43m,\u001b[49m\n\u001b[1;32m    158\u001b[0m \u001b[43m        \u001b[49m\u001b[43mpredicate\u001b[49m\u001b[43m,\u001b[49m\n\u001b[1;32m    159\u001b[0m \u001b[43m        \u001b[49m\u001b[43mon_error\u001b[49m\u001b[43m,\u001b[49m\n\u001b[1;32m    160\u001b[0m \u001b[43m        \u001b[49m\u001b[43mexception_factory\u001b[49m\u001b[43m,\u001b[49m\n\u001b[1;32m    161\u001b[0m \u001b[43m        \u001b[49m\u001b[43mtimeout\u001b[49m\u001b[43m,\u001b[49m\n\u001b[1;32m    162\u001b[0m \u001b[43m    \u001b[49m\u001b[43m)\u001b[49m\n\u001b[1;32m    163\u001b[0m     \u001b[38;5;66;03m# if exception not raised, sleep before next attempt\u001b[39;00m\n\u001b[1;32m    164\u001b[0m     time\u001b[38;5;241m.\u001b[39msleep(sleep)\n",
      "File \u001b[0;32m~/.pyenv/versions/3.10.9/lib/python3.10/site-packages/google/api_core/retry/retry_base.py:212\u001b[0m, in \u001b[0;36m_retry_error_helper\u001b[0;34m(exc, deadline, next_sleep, error_list, predicate_fn, on_error_fn, exc_factory_fn, original_timeout)\u001b[0m\n\u001b[1;32m    206\u001b[0m \u001b[38;5;28;01mif\u001b[39;00m \u001b[38;5;129;01mnot\u001b[39;00m predicate_fn(exc):\n\u001b[1;32m    207\u001b[0m     final_exc, source_exc \u001b[38;5;241m=\u001b[39m exc_factory_fn(\n\u001b[1;32m    208\u001b[0m         error_list,\n\u001b[1;32m    209\u001b[0m         RetryFailureReason\u001b[38;5;241m.\u001b[39mNON_RETRYABLE_ERROR,\n\u001b[1;32m    210\u001b[0m         original_timeout,\n\u001b[1;32m    211\u001b[0m     )\n\u001b[0;32m--> 212\u001b[0m     \u001b[38;5;28;01mraise\u001b[39;00m final_exc \u001b[38;5;28;01mfrom\u001b[39;00m \u001b[38;5;21;01msource_exc\u001b[39;00m\n\u001b[1;32m    213\u001b[0m \u001b[38;5;28;01mif\u001b[39;00m on_error_fn \u001b[38;5;129;01mis\u001b[39;00m \u001b[38;5;129;01mnot\u001b[39;00m \u001b[38;5;28;01mNone\u001b[39;00m:\n\u001b[1;32m    214\u001b[0m     on_error_fn(exc)\n",
      "File \u001b[0;32m~/.pyenv/versions/3.10.9/lib/python3.10/site-packages/google/api_core/retry/retry_unary.py:144\u001b[0m, in \u001b[0;36mretry_target\u001b[0;34m(target, predicate, sleep_generator, timeout, on_error, exception_factory, **kwargs)\u001b[0m\n\u001b[1;32m    142\u001b[0m \u001b[38;5;28;01mfor\u001b[39;00m sleep \u001b[38;5;129;01min\u001b[39;00m sleep_generator:\n\u001b[1;32m    143\u001b[0m     \u001b[38;5;28;01mtry\u001b[39;00m:\n\u001b[0;32m--> 144\u001b[0m         result \u001b[38;5;241m=\u001b[39m \u001b[43mtarget\u001b[49m\u001b[43m(\u001b[49m\u001b[43m)\u001b[49m\n\u001b[1;32m    145\u001b[0m         \u001b[38;5;28;01mif\u001b[39;00m inspect\u001b[38;5;241m.\u001b[39misawaitable(result):\n\u001b[1;32m    146\u001b[0m             warnings\u001b[38;5;241m.\u001b[39mwarn(_ASYNC_RETRY_WARNING)\n",
      "File \u001b[0;32m~/.pyenv/versions/3.10.9/lib/python3.10/site-packages/google/api_core/grpc_helpers.py:78\u001b[0m, in \u001b[0;36m_wrap_unary_errors.<locals>.error_remapped_callable\u001b[0;34m(*args, **kwargs)\u001b[0m\n\u001b[1;32m     76\u001b[0m     \u001b[38;5;28;01mreturn\u001b[39;00m callable_(\u001b[38;5;241m*\u001b[39margs, \u001b[38;5;241m*\u001b[39m\u001b[38;5;241m*\u001b[39mkwargs)\n\u001b[1;32m     77\u001b[0m \u001b[38;5;28;01mexcept\u001b[39;00m grpc\u001b[38;5;241m.\u001b[39mRpcError \u001b[38;5;28;01mas\u001b[39;00m exc:\n\u001b[0;32m---> 78\u001b[0m     \u001b[38;5;28;01mraise\u001b[39;00m exceptions\u001b[38;5;241m.\u001b[39mfrom_grpc_error(exc) \u001b[38;5;28;01mfrom\u001b[39;00m \u001b[38;5;21;01mexc\u001b[39;00m\n",
      "\u001b[0;31mNotFound\u001b[0m: 404 The FeatureOnlineStore does not exist."
     ]
    }
   ],
   "source": [
    "vertex_fs.get_documents(ids=[\"65a6b83ec5ae428ab8a9607a4f845e47\"])"
   ]
  },
  {
   "cell_type": "code",
   "execution_count": null,
   "metadata": {},
   "outputs": [],
   "source": []
  }
 ],
 "metadata": {
  "kernelspec": {
   "display_name": "Python 3 (ipykernel)",
   "language": "python",
   "name": "python3"
  },
  "language_info": {
   "codemirror_mode": {
    "name": "ipython",
    "version": 3
   },
   "file_extension": ".py",
   "mimetype": "text/x-python",
   "name": "python",
   "nbconvert_exporter": "python",
   "pygments_lexer": "ipython3",
   "version": "3.10.9"
  }
 },
 "nbformat": 4,
 "nbformat_minor": 4
}
