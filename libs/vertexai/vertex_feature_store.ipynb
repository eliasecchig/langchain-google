{
 "cells": [
  {
   "cell_type": "markdown",
   "metadata": {},
   "source": [
    "# Building a GenAI RAG application with Feature Store and BigQuery\n",
    "\n",
    "## Overview\n",
    "This notebook guides you through building a low-latency vector search system for your GenAI application using Vertex AI Feature Store. We'll leverage the [Vertex Feature Store Langchain integration]([link to integration]) to streamline this process.\n",
    "\n",
    "Feature Store seamlessly integrates with BigQuery, providing a unified data storage and flexible vector search options:\n",
    "\n",
    "- **BigQuery Vector Search**: Ideal for batch retrieval and prototyping, as it requires no infrastructure setup.\n",
    "- **Feature Store Online Store**: Enables low-latency retrieval with manual or scheduled data sync. Perfect for production-ready user-facing GenAI applications.\n",
    "\n",
    "![Image notebook journey](diagram_journey.png)\n"
   ]
  },
  {
   "cell_type": "markdown",
   "metadata": {},
   "source": [
    "# Setup\n"
   ]
  },
  {
   "cell_type": "markdown",
   "metadata": {},
   "source": [
    "### Install libraries"
   ]
  },
  {
   "cell_type": "code",
   "execution_count": null,
   "metadata": {
    "scrolled": true
   },
   "outputs": [],
   "source": [
    "!pip install langchain-google-vertexai pypdf==4.2.0 langchain pyarrow==16.0.0 db-dtypes==1.2.0 --upgrade"
   ]
  },
  {
   "cell_type": "markdown",
   "metadata": {
    "id": "Xe7OuYuGkLKF"
   },
   "source": [
    "### Authenticating your notebook environment\n",
    "* If you are using **Colab** to run this notebook, uncomment the cell below and continue.\n",
    "* If you are using **Vertex AI Workbench**, check out the setup instructions [here](https://github.com/GoogleCloudPlatform/generative-ai/tree/main/setup-env)."
   ]
  },
  {
   "cell_type": "code",
   "execution_count": null,
   "metadata": {
    "id": "U9Gx2SAZkLKF"
   },
   "outputs": [],
   "source": [
    "# from google.colab import auth\n",
    "# auth.authenticate_user()"
   ]
  },
  {
   "cell_type": "markdown",
   "metadata": {
    "id": "JxH62gFHCFPj"
   },
   "source": [
    "### Import libraries"
   ]
  },
  {
   "cell_type": "code",
   "execution_count": 1,
   "metadata": {},
   "outputs": [],
   "source": [
    "%load_ext autoreload\n",
    "%autoreload 2\n",
    "from langchain_community.document_loaders import PyPDFLoader\n",
    "from langchain_google_vertexai import VertexAIEmbeddings\n",
    "from langchain.text_splitter import RecursiveCharacterTextSplitter\n",
    "from langchain_google_vertexai.vectorstores.feature_store.featurestore import VertexFSVectorStore\n",
    "from langchain_google_vertexai.vectorstores.feature_store.bigquery import BigQueryVectorStore"
   ]
  },
  {
   "cell_type": "markdown",
   "metadata": {},
   "source": [
    "### Define environment variables"
   ]
  },
  {
   "cell_type": "code",
   "execution_count": 2,
   "metadata": {},
   "outputs": [],
   "source": [
    "PROJECT_ID = \"cloud-llm-preview2\"\n",
    "DATASET = \"vertex_documentation\"\n",
    "TABLE = \"mytest99\"\n",
    "REGION = \"europe-west4\""
   ]
  },
  {
   "cell_type": "markdown",
   "metadata": {
    "id": "LDSM2ZQa8eBs"
   },
   "source": [
    "# Add documents to `BigQueryVectorStore`\n",
    "\n",
    "This step ingests and parse PDF documents, split them, generate embeddings and add the embeddings to the vector store. The document corpus used as dataset is a collection of owners car manual."
   ]
  },
  {
   "cell_type": "markdown",
   "metadata": {
    "id": "dIML1Ttj5nTk"
   },
   "source": [
    "**Summary steps**\n",
    "- Create text embeddings: LangChain `VertexAIEmbeddings`\n",
    "- Ingest PDF files: LangChain `PyPDFLoader`\n",
    "- Chunk documents: LangChain `TextSplitter`\n",
    "- Create Vector Store: LangChain  `VertexAIFeatureStore` "
   ]
  },
  {
   "cell_type": "markdown",
   "metadata": {
    "id": "q3hRmLiY2O0w"
   },
   "source": [
    "### Create the VertexAI Embedding model"
   ]
  },
  {
   "cell_type": "code",
   "execution_count": 3,
   "metadata": {
    "id": "2tRYGd_Mv_ix"
   },
   "outputs": [],
   "source": [
    "embedding_model = VertexAIEmbeddings(\n",
    "    model_name=\"textembedding-gecko@latest\", project=PROJECT_ID\n",
    ")"
   ]
  },
  {
   "cell_type": "markdown",
   "metadata": {
    "id": "pKM_QIU0WPc3"
   },
   "source": [
    "### Ingest PDF file\n",
    "\n",
    "The document is hosted on Cloud Storage bucket (at `gs://github-repo/generative-ai/sample-apps/fixmycar/cymbal-starlight-2024.pdf`) and LangChain provides a convenient document loader [`PyPDFLoader`](https://python.langchain.com/docs/modules/data_connection/document_loaders/pdf/) to load documents from pdfs.\n"
   ]
  },
  {
   "cell_type": "code",
   "execution_count": null,
   "metadata": {
    "colab": {
     "base_uri": "https://localhost:8080/"
    },
    "id": "UNEClQQjjRcc",
    "outputId": "de918892-4fae-4c5b-cd4d-915f87d11a06"
   },
   "outputs": [],
   "source": [
    "GCS_BUCKET_DOCS = (\n",
    "    \"github-repo/generative-ai/sample-apps/fixmycar\"  # @param {type: \"string\"}\n",
    ")\n",
    "\n",
    "# Copy the file to the current path\n",
    "!gsutil cp \"gs://$GCS_BUCKET_DOCS/*.pdf\" ."
   ]
  },
  {
   "cell_type": "code",
   "execution_count": null,
   "metadata": {
    "colab": {
     "base_uri": "https://localhost:8080/"
    },
    "id": "7kYw66EohYza",
    "outputId": "098e5ce1-cc21-4be4-c4c0-f2f1e203e5d6"
   },
   "outputs": [],
   "source": [
    "# Ingest PDF files\n",
    "loader = PyPDFLoader(\"cymbal-starlight-2024.pdf\")\n",
    "documents = loader.load()\n",
    "\n",
    "# Add document name and source to the metadata\n",
    "for document in documents:\n",
    "    doc_md = document.metadata\n",
    "    document_name = doc_md[\"source\"].split(\"/\")[-1]\n",
    "    # derive doc source from Document loader\n",
    "    doc_source_prefix = \"/\".join(GCS_BUCKET_DOCS.split(\"/\")[:3])\n",
    "    doc_source_suffix = \"/\".join(doc_md[\"source\"].split(\"/\")[4:-1])\n",
    "    source = f\"{doc_source_prefix}/{doc_source_suffix}\"\n",
    "    document.metadata = {\"source\": source, \"document_name\": document_name}\n",
    "\n",
    "print(f\"# of documents loaded (pre-chunking) = {len(documents)}\")"
   ]
  },
  {
   "cell_type": "markdown",
   "metadata": {
    "id": "j8J7hQkVmkB1"
   },
   "source": [
    "Verify document metadata"
   ]
  },
  {
   "cell_type": "code",
   "execution_count": null,
   "metadata": {
    "colab": {
     "base_uri": "https://localhost:8080/"
    },
    "id": "jn3A13Nfmihf",
    "outputId": "3d56d945-7458-4d03-f6ce-09b9f687bada"
   },
   "outputs": [],
   "source": [
    "documents[0].metadata"
   ]
  },
  {
   "cell_type": "markdown",
   "metadata": {
    "id": "oZA9HDA0mnWW"
   },
   "source": [
    "## Chunk documents - TextSplitter\n",
    "\n",
    "Split the documents to smaller chunks. When splitting the document, ensure a few chunks can fit within the context length of LLM."
   ]
  },
  {
   "cell_type": "code",
   "execution_count": null,
   "metadata": {
    "colab": {
     "base_uri": "https://localhost:8080/"
    },
    "id": "n2QuilhMmxgA",
    "outputId": "1acae5ed-82ea-4d30-85b3-804976fbcb54"
   },
   "outputs": [],
   "source": [
    "# split the documents into chunks\n",
    "text_splitter = RecursiveCharacterTextSplitter(\n",
    "    chunk_size=1000,\n",
    "    chunk_overlap=50,\n",
    "    separators=[\"\\n\\n\", \"\\n\", \".\", \"!\", \"?\", \",\", \" \", \"\"],\n",
    ")\n",
    "doc_splits = text_splitter.split_documents(documents)\n",
    "\n",
    "# Add chunk number to metadata\n",
    "for idx, split in enumerate(doc_splits):\n",
    "    split.metadata[\"chunk\"] = idx\n",
    "\n",
    "print(f\"# of documents = {len(doc_splits)}\")"
   ]
  },
  {
   "cell_type": "code",
   "execution_count": null,
   "metadata": {
    "colab": {
     "base_uri": "https://localhost:8080/"
    },
    "id": "fv91BaKCmxP0",
    "outputId": "fce7f8af-94e7-44d6-e554-84a682dc41d4",
    "scrolled": true
   },
   "outputs": [],
   "source": [
    "doc_splits[0].metadata"
   ]
  },
  {
   "cell_type": "markdown",
   "metadata": {
    "id": "8QC-w_t3m9Fe"
   },
   "source": [
    "## Configure `BigQueryVectorStore` as Vector Store\n",
    "\n",
    "You are now ready to use BigQuery Vector Store!\n",
    "\n",
    "You can initialize the class by providing:\n",
    "- `project_id`\n",
    "- `location`\n",
    "- `dataset_name`\n",
    "- `table_name`\n",
    "\n",
    "The table will be used to store embeddings and metadata. You can also point to an existing table. \n",
    "\n",
    "The class will use [BigQuery Vector Search](https://cloud.google.com/bigquery/docs/vector-search-intro) to perform vector search.\n",
    "\n",
    "See [here](TODO) for the full list of parameters of the class. "
   ]
  },
  {
   "cell_type": "code",
   "execution_count": 4,
   "metadata": {},
   "outputs": [
    {
     "name": "stdout",
     "output_type": "stream",
     "text": [
      "BigQuery table cloud-llm-preview2.vertex_documentation.mytest99 initialized/validated as persistent storage. Access via BigQuery console:\n",
      " https://console.cloud.google.com/bigquery?project=cloud-llm-preview2&ws=!1m5!1m4!4m3!1scloud-llm-preview2!2svertex_documentation!3smytest99\n",
      "BigQueryVectorStore initialized with BigQuery VectorSearch. \n",
      "Optional online serving available via .to_vertex_fs_vector_store() method.\n"
     ]
    }
   ],
   "source": [
    "bq_store = BigQueryVectorStore(\n",
    "    project_id=PROJECT_ID,\n",
    "    location=REGION,\n",
    "    dataset_name=DATASET,\n",
    "    table_name=TABLE,\n",
    "    embedding=embedding_model,\n",
    " )"
   ]
  },
  {
   "cell_type": "markdown",
   "metadata": {},
   "source": [
    "### Add documents to the store\n",
    "\n",
    "Note: If you have precomputed embeddings, you can add text, embeddings and potential metadata using the method `add_texts_with_embeddings`"
   ]
  },
  {
   "cell_type": "code",
   "execution_count": null,
   "metadata": {},
   "outputs": [],
   "source": [
    "bq_store.add_documents(doc_splits)"
   ]
  },
  {
   "cell_type": "markdown",
   "metadata": {},
   "source": [
    "Verify the BigQueryVectorSearch with similarity search"
   ]
  },
  {
   "cell_type": "code",
   "execution_count": 5,
   "metadata": {},
   "outputs": [
    {
     "data": {
      "text/plain": [
       "[Document(page_content=\"manual.md 2024-03-23\\n21 / 22Wash your vehicle regularly to remove dirt and grime.\\nWax your vehicle twice a year to protect the paint.\\nCheck the tire pressure regularly and adjust it as needed.\\nInspect the brakes regularly for wear and tear.\\nKeep the interior of your vehicle clean and free of debris.\\nBy following these tips, you can help to keep your Cymbal Starlight 2024 in top condition for many years to\\ncome.\\nChapter 18: Emergencies\\nRoadside Assistance\\nIf you experience a roadside emergency, such as a flat tire or a dead battery, you can call roadside\\nassistance for help. Roadside assistance is available 24 hours a day, 7 days a week.\\nTo call roadside assistance, dial the following number:\\n1-800-555-1212\\nWhen you call roadside assistance, be prepared to provide the following information:\\nYour name and contact information\\nYour vehicle's make, model, and year\\nYour vehicle's location\\nThe nature of the emergency\\nFlat Tire\", metadata={'doc_id': '89943af477d04ea5ab803dbda85ed7d4', 'source': 'github-repo/generative-ai/sample-apps/', 'document_name': 'cymbal-starlight-2024.pdf', 'chunk': 56, 'row_num': 0, 'score': 0.7102121538750392}),\n",
       " Document(page_content=\"Horn\\nThe horn is used to alert other drivers and pedestrians of your presence.\\nTo sound the horn, press the horn button located on the steering wheel.\\nEmergency Roadside Assistance\\nYour Cymbal Starlight 2024 comes with 24/7 emergency roadside assistance.\\nTo contact emergency roadside assistance, call the following number: 1-800-555-1212.\\nWhen you call, be prepared to provide the following information:\\nYour name and contact information\\nYour vehicle's make, model, and year\\nYour vehicle's location\\nThe nature of the emergency\\nTire Repair Kit\\nYour Cymbal Starlight 2024 comes with a tire repair kit that can be used to temporarily repair a flat\\ntire.\\nThe tire repair kit is located in the trunk of the vehicle.\\nTo use the tire repair kit, follow the instructions provided in the kit.\\nOther Emergency Tips\\nIf you are involved in an accident, remain calm and call 911 immediately.\\nIf you are able to move your vehicle, pull over to the side of the road and turn on your hazard lights.\", metadata={'doc_id': '052a1d7330ac41d291e6ee5719fa4200', 'source': 'github-repo/generative-ai/sample-apps/', 'document_name': 'cymbal-starlight-2024.pdf', 'chunk': 27, 'row_num': 0, 'score': 0.7450164769019703}),\n",
       " Document(page_content='Stay in your vehicle and wait for emergency services to arrive.\\nIf you are stranded in a remote area, stay with your vehicle and try to attract attention by waving your\\narms or using a flashlight.', metadata={'doc_id': '1ef3c55391594462b2de6e635a690937', 'source': 'github-repo/generative-ai/sample-apps/', 'document_name': 'cymbal-starlight-2024.pdf', 'chunk': 28, 'row_num': 0, 'score': 0.7494790601402347}),\n",
       " Document(page_content='the safety features in your Cymbal Starlight 2024. This chapter provides important information on how to\\nuse the following emergency assistance features:\\nHazard lights\\nHorn\\nEmergency roadside assistance\\nTire repair kit\\nHazard Lights', metadata={'doc_id': 'abd232d6caba4bf8ad10a79cd45b52c5', 'source': 'github-repo/generative-ai/sample-apps/', 'document_name': 'cymbal-starlight-2024.pdf', 'chunk': 7, 'row_num': 0, 'score': 0.7776846853415932}),\n",
       " Document(page_content='playing in or around the vehicle.\\nSet a good example by always wearing your seat belt and obeying traffic laws.\\nBy following these child safety tips, you can help keep your children safe while traveling in your Cymbal\\nStarlight 2024.\\nAdditional Child Safety Features\\nYour Cymbal Starlight 2024 comes equipped with the following child safety features:\\nRear child door locks: These locks prevent children from opening the rear doors from the inside.\\nWindow locks: These locks prevent children from opening the windows from the inside.\\nChild seat anchors: These anchors are located on the rear seats and can be used to secure child\\nrestraints.\\nBy using these child safety features in addition to the child safety tips outlined above, you can help ensure\\nthat your children are safe and secure while riding in your Cymbal Starlight 2024.\\nChapter 3: Emergency Assistance\\nIntroduction\\nIn the event of an emergency, it is important to know how to contact emergency services and how to use', metadata={'doc_id': 'efdf679abc7e4a60a31a4c0bc6396cd8', 'source': 'github-repo/generative-ai/sample-apps/', 'document_name': 'cymbal-starlight-2024.pdf', 'chunk': 6, 'row_num': 0, 'score': 0.7797457038273178})]"
      ]
     },
     "execution_count": 5,
     "metadata": {},
     "output_type": "execute_result"
    }
   ],
   "source": [
    "bq_store.similarity_search(\n",
    "    \"What should I do when I call the emergency roadside assistance?\"\n",
    ")"
   ]
  },
  {
   "cell_type": "markdown",
   "metadata": {
    "scrolled": true
   },
   "source": [
    "### Get a langchain retriever\n",
    "The retriever will be used in a Langchain Chain to find the most similar documents for a given query."
   ]
  },
  {
   "cell_type": "code",
   "execution_count": 6,
   "metadata": {},
   "outputs": [],
   "source": [
    "langchain_retriever = bq_store.as_retriever()"
   ]
  },
  {
   "cell_type": "markdown",
   "metadata": {},
   "source": [
    "### Compose a Langchain Chain\n",
    "\n",
    "We are going to use the [`RetrievalQA` chain](https://python.langchain.com/docs/modules/chains/popular/vector_db_qa)\n",
    "There are several different chain types available, listed [here](https://docs.langchain.com/docs/components/chains/index_related_chains)."
   ]
  },
  {
   "cell_type": "code",
   "execution_count": 7,
   "metadata": {},
   "outputs": [
    {
     "name": "stdout",
     "output_type": "stream",
     "text": [
      "\u001b[32;1m\u001b[1;3m[chain/start]\u001b[0m \u001b[1m[chain:RetrievalQA] Entering Chain run with input:\n",
      "\u001b[0m{\n",
      "  \"query\": \"What should I do when call the emergency roadside assistance?\"\n",
      "}\n",
      "\u001b[32;1m\u001b[1;3m[chain/start]\u001b[0m \u001b[1m[chain:RetrievalQA > chain:StuffDocumentsChain] Entering Chain run with input:\n",
      "\u001b[0m[inputs]\n",
      "\u001b[32;1m\u001b[1;3m[chain/start]\u001b[0m \u001b[1m[chain:RetrievalQA > chain:StuffDocumentsChain > chain:LLMChain] Entering Chain run with input:\n",
      "\u001b[0m{\n",
      "  \"question\": \"What should I do when call the emergency roadside assistance?\",\n",
      "  \"context\": \"manual.md 2024-03-23\\n21 / 22Wash your vehicle regularly to remove dirt and grime.\\nWax your vehicle twice a year to protect the paint.\\nCheck the tire pressure regularly and adjust it as needed.\\nInspect the brakes regularly for wear and tear.\\nKeep the interior of your vehicle clean and free of debris.\\nBy following these tips, you can help to keep your Cymbal Starlight 2024 in top condition for many years to\\ncome.\\nChapter 18: Emergencies\\nRoadside Assistance\\nIf you experience a roadside emergency, such as a flat tire or a dead battery, you can call roadside\\nassistance for help. Roadside assistance is available 24 hours a day, 7 days a week.\\nTo call roadside assistance, dial the following number:\\n1-800-555-1212\\nWhen you call roadside assistance, be prepared to provide the following information:\\nYour name and contact information\\nYour vehicle's make, model, and year\\nYour vehicle's location\\nThe nature of the emergency\\nFlat Tire\\n\\nStay in your vehicle and wait for emergency services to arrive.\\nIf you are stranded in a remote area, stay with your vehicle and try to attract attention by waving your\\narms or using a flashlight.\\n\\nHorn\\nThe horn is used to alert other drivers and pedestrians of your presence.\\nTo sound the horn, press the horn button located on the steering wheel.\\nEmergency Roadside Assistance\\nYour Cymbal Starlight 2024 comes with 24/7 emergency roadside assistance.\\nTo contact emergency roadside assistance, call the following number: 1-800-555-1212.\\nWhen you call, be prepared to provide the following information:\\nYour name and contact information\\nYour vehicle's make, model, and year\\nYour vehicle's location\\nThe nature of the emergency\\nTire Repair Kit\\nYour Cymbal Starlight 2024 comes with a tire repair kit that can be used to temporarily repair a flat\\ntire.\\nThe tire repair kit is located in the trunk of the vehicle.\\nTo use the tire repair kit, follow the instructions provided in the kit.\\nOther Emergency Tips\\nIf you are involved in an accident, remain calm and call 911 immediately.\\nIf you are able to move your vehicle, pull over to the side of the road and turn on your hazard lights.\\n\\nplaying in or around the vehicle.\\nSet a good example by always wearing your seat belt and obeying traffic laws.\\nBy following these child safety tips, you can help keep your children safe while traveling in your Cymbal\\nStarlight 2024.\\nAdditional Child Safety Features\\nYour Cymbal Starlight 2024 comes equipped with the following child safety features:\\nRear child door locks: These locks prevent children from opening the rear doors from the inside.\\nWindow locks: These locks prevent children from opening the windows from the inside.\\nChild seat anchors: These anchors are located on the rear seats and can be used to secure child\\nrestraints.\\nBy using these child safety features in addition to the child safety tips outlined above, you can help ensure\\nthat your children are safe and secure while riding in your Cymbal Starlight 2024.\\nChapter 3: Emergency Assistance\\nIntroduction\\nIn the event of an emergency, it is important to know how to contact emergency services and how to use\\n\\nthe safety features in your Cymbal Starlight 2024. This chapter provides important information on how to\\nuse the following emergency assistance features:\\nHazard lights\\nHorn\\nEmergency roadside assistance\\nTire repair kit\\nHazard Lights\"\n",
      "}\n",
      "\u001b[32;1m\u001b[1;3m[llm/start]\u001b[0m \u001b[1m[chain:RetrievalQA > chain:StuffDocumentsChain > chain:LLMChain > llm:VertexAI] Entering LLM run with input:\n",
      "\u001b[0m{\n",
      "  \"prompts\": [\n",
      "    \"Use the following pieces of context to answer the question at the end. If you don't know the answer, just say that you don't know, don't try to make up an answer.\\n\\nmanual.md 2024-03-23\\n21 / 22Wash your vehicle regularly to remove dirt and grime.\\nWax your vehicle twice a year to protect the paint.\\nCheck the tire pressure regularly and adjust it as needed.\\nInspect the brakes regularly for wear and tear.\\nKeep the interior of your vehicle clean and free of debris.\\nBy following these tips, you can help to keep your Cymbal Starlight 2024 in top condition for many years to\\ncome.\\nChapter 18: Emergencies\\nRoadside Assistance\\nIf you experience a roadside emergency, such as a flat tire or a dead battery, you can call roadside\\nassistance for help. Roadside assistance is available 24 hours a day, 7 days a week.\\nTo call roadside assistance, dial the following number:\\n1-800-555-1212\\nWhen you call roadside assistance, be prepared to provide the following information:\\nYour name and contact information\\nYour vehicle's make, model, and year\\nYour vehicle's location\\nThe nature of the emergency\\nFlat Tire\\n\\nStay in your vehicle and wait for emergency services to arrive.\\nIf you are stranded in a remote area, stay with your vehicle and try to attract attention by waving your\\narms or using a flashlight.\\n\\nHorn\\nThe horn is used to alert other drivers and pedestrians of your presence.\\nTo sound the horn, press the horn button located on the steering wheel.\\nEmergency Roadside Assistance\\nYour Cymbal Starlight 2024 comes with 24/7 emergency roadside assistance.\\nTo contact emergency roadside assistance, call the following number: 1-800-555-1212.\\nWhen you call, be prepared to provide the following information:\\nYour name and contact information\\nYour vehicle's make, model, and year\\nYour vehicle's location\\nThe nature of the emergency\\nTire Repair Kit\\nYour Cymbal Starlight 2024 comes with a tire repair kit that can be used to temporarily repair a flat\\ntire.\\nThe tire repair kit is located in the trunk of the vehicle.\\nTo use the tire repair kit, follow the instructions provided in the kit.\\nOther Emergency Tips\\nIf you are involved in an accident, remain calm and call 911 immediately.\\nIf you are able to move your vehicle, pull over to the side of the road and turn on your hazard lights.\\n\\nplaying in or around the vehicle.\\nSet a good example by always wearing your seat belt and obeying traffic laws.\\nBy following these child safety tips, you can help keep your children safe while traveling in your Cymbal\\nStarlight 2024.\\nAdditional Child Safety Features\\nYour Cymbal Starlight 2024 comes equipped with the following child safety features:\\nRear child door locks: These locks prevent children from opening the rear doors from the inside.\\nWindow locks: These locks prevent children from opening the windows from the inside.\\nChild seat anchors: These anchors are located on the rear seats and can be used to secure child\\nrestraints.\\nBy using these child safety features in addition to the child safety tips outlined above, you can help ensure\\nthat your children are safe and secure while riding in your Cymbal Starlight 2024.\\nChapter 3: Emergency Assistance\\nIntroduction\\nIn the event of an emergency, it is important to know how to contact emergency services and how to use\\n\\nthe safety features in your Cymbal Starlight 2024. This chapter provides important information on how to\\nuse the following emergency assistance features:\\nHazard lights\\nHorn\\nEmergency roadside assistance\\nTire repair kit\\nHazard Lights\\n\\nQuestion: What should I do when call the emergency roadside assistance?\\nHelpful Answer:\"\n",
      "  ]\n",
      "}\n",
      "\u001b[36;1m\u001b[1;3m[llm/end]\u001b[0m \u001b[1m[chain:RetrievalQA > chain:StuffDocumentsChain > chain:LLMChain > llm:VertexAI] [2.14s] Exiting LLM run with output:\n",
      "\u001b[0m{\n",
      "  \"generations\": [\n",
      "    [\n",
      "      {\n",
      "        \"text\": \"After calling emergency roadside assistance for your Cymbal Starlight, be sure to have the following information ready. \\n* Your name and contact information \\n* Your vehicle's make, model, and year\\n* The location of your car\\n* The type of emergency you are experiencing \",\n",
      "        \"generation_info\": {\n",
      "          \"is_blocked\": false,\n",
      "          \"safety_ratings\": [\n",
      "            {\n",
      "              \"category\": \"HARM_CATEGORY_HATE_SPEECH\",\n",
      "              \"probability_label\": \"NEGLIGIBLE\",\n",
      "              \"blocked\": false\n",
      "            },\n",
      "            {\n",
      "              \"category\": \"HARM_CATEGORY_DANGEROUS_CONTENT\",\n",
      "              \"probability_label\": \"NEGLIGIBLE\",\n",
      "              \"blocked\": false\n",
      "            },\n",
      "            {\n",
      "              \"category\": \"HARM_CATEGORY_HARASSMENT\",\n",
      "              \"probability_label\": \"NEGLIGIBLE\",\n",
      "              \"blocked\": false\n",
      "            },\n",
      "            {\n",
      "              \"category\": \"HARM_CATEGORY_SEXUALLY_EXPLICIT\",\n",
      "              \"probability_label\": \"NEGLIGIBLE\",\n",
      "              \"blocked\": false\n",
      "            }\n",
      "          ],\n",
      "          \"usage_metadata\": {\n",
      "            \"prompt_token_count\": 837,\n",
      "            \"candidates_token_count\": 58,\n",
      "            \"total_token_count\": 895\n",
      "          }\n",
      "        },\n",
      "        \"type\": \"Generation\"\n",
      "      }\n",
      "    ]\n",
      "  ],\n",
      "  \"llm_output\": null,\n",
      "  \"run\": null\n",
      "}\n",
      "\u001b[36;1m\u001b[1;3m[chain/end]\u001b[0m \u001b[1m[chain:RetrievalQA > chain:StuffDocumentsChain > chain:LLMChain] [2.14s] Exiting Chain run with output:\n",
      "\u001b[0m{\n",
      "  \"text\": \"After calling emergency roadside assistance for your Cymbal Starlight, be sure to have the following information ready. \\n* Your name and contact information \\n* Your vehicle's make, model, and year\\n* The location of your car\\n* The type of emergency you are experiencing \"\n",
      "}\n",
      "\u001b[36;1m\u001b[1;3m[chain/end]\u001b[0m \u001b[1m[chain:RetrievalQA > chain:StuffDocumentsChain] [2.14s] Exiting Chain run with output:\n",
      "\u001b[0m{\n",
      "  \"output_text\": \"After calling emergency roadside assistance for your Cymbal Starlight, be sure to have the following information ready. \\n* Your name and contact information \\n* Your vehicle's make, model, and year\\n* The location of your car\\n* The type of emergency you are experiencing \"\n",
      "}\n",
      "\u001b[36;1m\u001b[1;3m[chain/end]\u001b[0m \u001b[1m[chain:RetrievalQA] [3.48s] Exiting Chain run with output:\n",
      "\u001b[0m{\n",
      "  \"result\": \"After calling emergency roadside assistance for your Cymbal Starlight, be sure to have the following information ready. \\n* Your name and contact information \\n* Your vehicle's make, model, and year\\n* The location of your car\\n* The type of emergency you are experiencing \"\n",
      "}\n",
      "\n",
      "################ Final Answer ################\n",
      "\n",
      "After calling emergency roadside assistance for your Cymbal Starlight, be sure to have the following information ready. \n",
      "* Your name and contact information \n",
      "* Your vehicle's make, model, and year\n",
      "* The location of your car\n",
      "* The type of emergency you are experiencing \n",
      "CPU times: user 254 ms, sys: 65.8 ms, total: 320 ms\n",
      "Wall time: 3.67 s\n"
     ]
    }
   ],
   "source": [
    "%%time\n",
    "from langchain_google_vertexai import VertexAI\n",
    "from langchain.chains import RetrievalQA\n",
    "from langchain.globals import set_debug\n",
    "\n",
    "# Set high verbosity\n",
    "set_debug(True)\n",
    "\n",
    "llm = VertexAI(model_name=\"gemini-pro\")\n",
    "\n",
    "search_query = \"What should I do when call the emergency roadside assistance?\"  # @param {type:\"string\"}\n",
    "\n",
    "retrieval_qa = RetrievalQA.from_chain_type(\n",
    "    llm=llm, chain_type=\"stuff\", retriever=langchain_retriever\n",
    ")\n",
    "response = retrieval_qa.invoke(search_query)\n",
    "print(\"\\n################ Final Answer ################\\n\")\n",
    "print(response[\"result\"])"
   ]
  },
  {
   "cell_type": "markdown",
   "metadata": {},
   "source": [
    "## Low latency Vector Search with FeatureStore\n",
    "\n",
    "We are now ready to perform low latency serving with Feature Store! \n",
    "\n",
    "To do that, you can simply use the method `.to_vertex_fs_vector_store()`, to get a `VertexFSVectorStore` object\n",
    "\n",
    "See the [function definition](TODO) for all the parameters you can use.\n",
    "\n",
    "Note: Any method we run earlier can be equivalently called on both `BigQueryVectorStore` and `VertexFSVectorStore`. For instance it is possible to add new documents to an instance of `VertexFSVectorStore` as both stores share the same underlying BQ source."
   ]
  },
  {
   "cell_type": "code",
   "execution_count": 8,
   "metadata": {},
   "outputs": [
    {
     "name": "stdout",
     "output_type": "stream",
     "text": [
      "BigQuery table cloud-llm-preview2.vertex_documentation.mytest99 initialized/validated as persistent storage. Access via BigQuery console:\n",
      " https://console.cloud.google.com/bigquery?project=cloud-llm-preview2&ws=!1m5!1m4!4m3!1scloud-llm-preview2!2svertex_documentation!3smytest99\n",
      "VertexFSVectorStore initialized with Feature Store\n",
      "online store type: optimized\n",
      "Optional batch serving available via .to_big_query_vector_store() method.\n"
     ]
    }
   ],
   "source": [
    "vertex_fs = bq_store.to_vertex_fs_vector_store() # pass optional parameters here"
   ]
  },
  {
   "cell_type": "markdown",
   "metadata": {},
   "source": [
    "### Alternatively you can also init the VertexFSVectorStore class directly"
   ]
  },
  {
   "cell_type": "code",
   "execution_count": 9,
   "metadata": {},
   "outputs": [
    {
     "name": "stdout",
     "output_type": "stream",
     "text": [
      "BigQuery table cloud-llm-preview2.vertex_documentation.mytest99 initialized/validated as persistent storage. Access via BigQuery console:\n",
      " https://console.cloud.google.com/bigquery?project=cloud-llm-preview2&ws=!1m5!1m4!4m3!1scloud-llm-preview2!2svertex_documentation!3smytest99\n",
      "VertexFSVectorStore initialized with Feature Store\n",
      "online store type: optimized\n",
      "Optional batch serving available via .to_big_query_vector_store() method.\n"
     ]
    }
   ],
   "source": [
    "vertex_fs = VertexFSVectorStore(\n",
    "    project_id=PROJECT_ID,\n",
    "    location=REGION,\n",
    "    dataset_name=DATASET,\n",
    "    table_name=TABLE,\n",
    "    embedding=embedding_model,\n",
    "    # pass optional parameters here\n",
    " )"
   ]
  },
  {
   "cell_type": "markdown",
   "metadata": {},
   "source": [
    "#### Kick off a synchronization process\n",
    "\n",
    "We use the `sync` method to synchronize the data from BigQuery to the Feature Online Store, to achieve low latency serving.\n",
    "\n",
    "When in a production environment, you can also use `cron_schedule` to setup an automatic scheduled synchronization. \n",
    "\n",
    "The synchronization process will take around ~20 minutes."
   ]
  },
  {
   "cell_type": "code",
   "execution_count": null,
   "metadata": {
    "scrolled": true
   },
   "outputs": [],
   "source": [
    "vertex_fs.sync()"
   ]
  },
  {
   "cell_type": "markdown",
   "metadata": {},
   "source": [
    "You can monitor the synchronization process from GCP Console: [Vertex AI Feature Store Tab](https://console.cloud.google.com/vertex-ai/feature-store/online-stores)"
   ]
  },
  {
   "cell_type": "markdown",
   "metadata": {},
   "source": [
    "#### Serve with Feature Online Store\n",
    "\n",
    "You are now ready to serve with Feature Store!"
   ]
  },
  {
   "cell_type": "code",
   "execution_count": 10,
   "metadata": {},
   "outputs": [],
   "source": [
    "langchain_retriever = vertex_fs.as_retriever()"
   ]
  },
  {
   "cell_type": "code",
   "execution_count": 21,
   "metadata": {},
   "outputs": [
    {
     "name": "stdout",
     "output_type": "stream",
     "text": [
      "CPU times: user 12.2 ms, sys: 2.54 ms, total: 14.7 ms\n",
      "Wall time: 462 ms\n"
     ]
    },
    {
     "data": {
      "text/plain": [
       "[Document(page_content=\"manual.md 2024-03-23\\n2 / 22VSC can be turned off by pressing the VSC OFF button on the dashboard. However, it is\\nrecommended to leave VSC on for optimal safety.\\nAnti-Lock Braking System (ABS)\\nABS prevents the wheels from locking during braking, allowing you to maintain control of the vehicle.\\nABS can be felt as a pulsation in the brake pedal during braking. Do not release the brake pedal;\\ncontinue applying steady pressure until the vehicle comes to a stop.\\nTire Safety\\nMaintain proper tire pressure at all times (see the Tire Pressure Information label on the driver's door\\njamb).\\nCheck tire tread depth regularly and replace tires when they reach the minimum tread depth of 2/32\\ninches.\\nAvoid sudden starts, stops, and turns that can cause excessive tire wear.\\nVehicle Inspection\\nInspect your vehicle regularly for any signs of damage or malfunction, including:\\nLeaks under the vehicle\\nUnusual noises or vibrations\\nDim or flickering lights\\nWorn or damaged tires\", metadata={'source': 'github-repo/generative-ai/sample-apps/', 'document_name': 'cymbal-starlight-2024.pdf', 'chunk': 2}),\n",
       " Document(page_content=\"A faulty oil pump\\nA leak in the oil system\\nCoolant temperature warning light: The coolant temperature warning light indicates that the\\ncoolant temperature in the engine is high. This light may illuminate for a variety of reasons, including:\\nA low coolant level\\nA faulty thermostat\\nA leak in the cooling system\\nSafety Warning Lights\\nThe following safety warning lights may illuminate in the instrument cluster of your Cymbal Starlight 2024:\\nABS warning light: The ABS warning light indicates a problem with the vehicle's anti-lock braking\\nsystem. This light may illuminate for a variety of reasons, including:\\nA faulty ABS sensor\\nA problem with the ABS control module\\nA leak in the ABS hydraulic system\\nTraction control warning light: The traction control warning light indicates a problem with the\\nvehicle's traction control system. This light may illuminate for a variety of reasons, including:\\nA faulty traction control sensor\\nA problem with the traction control control module\\nA loss of traction\", metadata={'source': 'github-repo/generative-ai/sample-apps/', 'document_name': 'cymbal-starlight-2024.pdf', 'chunk': 33}),\n",
       " Document(page_content=\"manual.md 2024-03-23\\n6 / 22A loose or damaged gas cap\\nA faulty oxygen sensor\\nA problem with the catalytic converter\\nA misfire in the engine\\nOil pressure warning light: The oil pressure warning light indicates that the oil pressure in the\\nengine is low. This light may illuminate for a variety of reasons, including:\\nA low oil level\\nA faulty oil pump\\nA leak in the oil system\\nCoolant temperature warning light: The coolant temperature warning light indicates that the\\ncoolant temperature in the engine is high. This light may illuminate for a variety of reasons, including:\\nA low coolant level\\nA faulty thermostat\\nA leak in the cooling system\\nSafety Warning Lights\\nThe following safety warning lights may illuminate in the instrument cluster of your Cymbal Starlight 2024:\\nABS warning light: The ABS warning light indicates a problem with the vehicle's anti-lock braking\\nsystem. This light may illuminate for a variety of reasons, including:\\nA faulty ABS sensor\\nA problem with the ABS control module\", metadata={'source': 'github-repo/generative-ai/sample-apps/', 'document_name': 'cymbal-starlight-2024.pdf', 'chunk': 14}),\n",
       " Document(page_content='The nature of the emergency\\nFlat Tire\\nIf you experience a flat tire, pull over to the side of the road in a safe location. Turn on your hazard lights and\\nset out flares or reflective triangles to warn other drivers.\\nTo change a flat tire, follow these steps:\\n\\x00. Gather the necessary tools, including a jack, lug wrench, and spare tire.\\n\\x00. Loosen the lug nuts on the flat tire, but do not remove them completely.\\n\\x00. Position the jack next to the flat tire and raise the vehicle until there is approximately 6 inches of\\nclearance between the ground and the flat tire.\\n\\x00. Remove the lug nuts and take off the flat tire.\\n\\x00. Mount the spare tire on the wheel studs and tighten the lug nuts.\\n\\x00. Lower the vehicle to the ground and tighten the lug nuts further.\\n\\x00. Stow the flat tire and tools in the trunk.\\nDead Battery\\nIf your battery is dead, you can jump-start your vehicle using another vehicle. To jump-start your vehicle,\\nfollow these steps:\\n\\x00. Park the other vehicle close to yours.', metadata={'source': 'github-repo/generative-ai/sample-apps/', 'document_name': 'cymbal-starlight-2024.pdf', 'chunk': 57}),\n",
       " Document(page_content='A low tire pressure\\nA faulty tire pressure sensor\\nA leak in the tire\\nWhat to Do If a Warning Light Illuminates\\nIf any of the warning lights in your Cymbal Starlight 2024 illuminate, it is important to have the vehicle\\ninspected by a qualified technician as soon as possible. Ignoring a warning light can lead to further damage', metadata={'source': 'github-repo/generative-ai/sample-apps/', 'document_name': 'cymbal-starlight-2024.pdf', 'chunk': 16})]"
      ]
     },
     "execution_count": 21,
     "metadata": {},
     "output_type": "execute_result"
    }
   ],
   "source": [
    "%%time\n",
    "results = langchain_retriever.invoke(\"Leaks under the vehicle\")\n",
    "results"
   ]
  },
  {
   "cell_type": "code",
   "execution_count": 16,
   "metadata": {},
   "outputs": [
    {
     "name": "stdout",
     "output_type": "stream",
     "text": [
      "\u001b[32;1m\u001b[1;3m[chain/start]\u001b[0m \u001b[1m[chain:RetrievalQA] Entering Chain run with input:\n",
      "\u001b[0m{\n",
      "  \"query\": \"What should I do when call the emergency roadside assistance?\"\n",
      "}\n",
      "\u001b[32;1m\u001b[1;3m[chain/start]\u001b[0m \u001b[1m[chain:RetrievalQA > chain:StuffDocumentsChain] Entering Chain run with input:\n",
      "\u001b[0m[inputs]\n",
      "\u001b[32;1m\u001b[1;3m[chain/start]\u001b[0m \u001b[1m[chain:RetrievalQA > chain:StuffDocumentsChain > chain:LLMChain] Entering Chain run with input:\n",
      "\u001b[0m{\n",
      "  \"question\": \"What should I do when call the emergency roadside assistance?\",\n",
      "  \"context\": \"manual.md 2024-03-23\\n21 / 22Wash your vehicle regularly to remove dirt and grime.\\nWax your vehicle twice a year to protect the paint.\\nCheck the tire pressure regularly and adjust it as needed.\\nInspect the brakes regularly for wear and tear.\\nKeep the interior of your vehicle clean and free of debris.\\nBy following these tips, you can help to keep your Cymbal Starlight 2024 in top condition for many years to\\ncome.\\nChapter 18: Emergencies\\nRoadside Assistance\\nIf you experience a roadside emergency, such as a flat tire or a dead battery, you can call roadside\\nassistance for help. Roadside assistance is available 24 hours a day, 7 days a week.\\nTo call roadside assistance, dial the following number:\\n1-800-555-1212\\nWhen you call roadside assistance, be prepared to provide the following information:\\nYour name and contact information\\nYour vehicle's make, model, and year\\nYour vehicle's location\\nThe nature of the emergency\\nFlat Tire\\n\\nStay in your vehicle and wait for emergency services to arrive.\\nIf you are stranded in a remote area, stay with your vehicle and try to attract attention by waving your\\narms or using a flashlight.\\n\\nHorn\\nThe horn is used to alert other drivers and pedestrians of your presence.\\nTo sound the horn, press the horn button located on the steering wheel.\\nEmergency Roadside Assistance\\nYour Cymbal Starlight 2024 comes with 24/7 emergency roadside assistance.\\nTo contact emergency roadside assistance, call the following number: 1-800-555-1212.\\nWhen you call, be prepared to provide the following information:\\nYour name and contact information\\nYour vehicle's make, model, and year\\nYour vehicle's location\\nThe nature of the emergency\\nTire Repair Kit\\nYour Cymbal Starlight 2024 comes with a tire repair kit that can be used to temporarily repair a flat\\ntire.\\nThe tire repair kit is located in the trunk of the vehicle.\\nTo use the tire repair kit, follow the instructions provided in the kit.\\nOther Emergency Tips\\nIf you are involved in an accident, remain calm and call 911 immediately.\\nIf you are able to move your vehicle, pull over to the side of the road and turn on your hazard lights.\\n\\nplaying in or around the vehicle.\\nSet a good example by always wearing your seat belt and obeying traffic laws.\\nBy following these child safety tips, you can help keep your children safe while traveling in your Cymbal\\nStarlight 2024.\\nAdditional Child Safety Features\\nYour Cymbal Starlight 2024 comes equipped with the following child safety features:\\nRear child door locks: These locks prevent children from opening the rear doors from the inside.\\nWindow locks: These locks prevent children from opening the windows from the inside.\\nChild seat anchors: These anchors are located on the rear seats and can be used to secure child\\nrestraints.\\nBy using these child safety features in addition to the child safety tips outlined above, you can help ensure\\nthat your children are safe and secure while riding in your Cymbal Starlight 2024.\\nChapter 3: Emergency Assistance\\nIntroduction\\nIn the event of an emergency, it is important to know how to contact emergency services and how to use\\n\\nthe safety features in your Cymbal Starlight 2024. This chapter provides important information on how to\\nuse the following emergency assistance features:\\nHazard lights\\nHorn\\nEmergency roadside assistance\\nTire repair kit\\nHazard Lights\"\n",
      "}\n",
      "\u001b[32;1m\u001b[1;3m[llm/start]\u001b[0m \u001b[1m[chain:RetrievalQA > chain:StuffDocumentsChain > chain:LLMChain > llm:VertexAI] Entering LLM run with input:\n",
      "\u001b[0m{\n",
      "  \"prompts\": [\n",
      "    \"Use the following pieces of context to answer the question at the end. If you don't know the answer, just say that you don't know, don't try to make up an answer.\\n\\nmanual.md 2024-03-23\\n21 / 22Wash your vehicle regularly to remove dirt and grime.\\nWax your vehicle twice a year to protect the paint.\\nCheck the tire pressure regularly and adjust it as needed.\\nInspect the brakes regularly for wear and tear.\\nKeep the interior of your vehicle clean and free of debris.\\nBy following these tips, you can help to keep your Cymbal Starlight 2024 in top condition for many years to\\ncome.\\nChapter 18: Emergencies\\nRoadside Assistance\\nIf you experience a roadside emergency, such as a flat tire or a dead battery, you can call roadside\\nassistance for help. Roadside assistance is available 24 hours a day, 7 days a week.\\nTo call roadside assistance, dial the following number:\\n1-800-555-1212\\nWhen you call roadside assistance, be prepared to provide the following information:\\nYour name and contact information\\nYour vehicle's make, model, and year\\nYour vehicle's location\\nThe nature of the emergency\\nFlat Tire\\n\\nStay in your vehicle and wait for emergency services to arrive.\\nIf you are stranded in a remote area, stay with your vehicle and try to attract attention by waving your\\narms or using a flashlight.\\n\\nHorn\\nThe horn is used to alert other drivers and pedestrians of your presence.\\nTo sound the horn, press the horn button located on the steering wheel.\\nEmergency Roadside Assistance\\nYour Cymbal Starlight 2024 comes with 24/7 emergency roadside assistance.\\nTo contact emergency roadside assistance, call the following number: 1-800-555-1212.\\nWhen you call, be prepared to provide the following information:\\nYour name and contact information\\nYour vehicle's make, model, and year\\nYour vehicle's location\\nThe nature of the emergency\\nTire Repair Kit\\nYour Cymbal Starlight 2024 comes with a tire repair kit that can be used to temporarily repair a flat\\ntire.\\nThe tire repair kit is located in the trunk of the vehicle.\\nTo use the tire repair kit, follow the instructions provided in the kit.\\nOther Emergency Tips\\nIf you are involved in an accident, remain calm and call 911 immediately.\\nIf you are able to move your vehicle, pull over to the side of the road and turn on your hazard lights.\\n\\nplaying in or around the vehicle.\\nSet a good example by always wearing your seat belt and obeying traffic laws.\\nBy following these child safety tips, you can help keep your children safe while traveling in your Cymbal\\nStarlight 2024.\\nAdditional Child Safety Features\\nYour Cymbal Starlight 2024 comes equipped with the following child safety features:\\nRear child door locks: These locks prevent children from opening the rear doors from the inside.\\nWindow locks: These locks prevent children from opening the windows from the inside.\\nChild seat anchors: These anchors are located on the rear seats and can be used to secure child\\nrestraints.\\nBy using these child safety features in addition to the child safety tips outlined above, you can help ensure\\nthat your children are safe and secure while riding in your Cymbal Starlight 2024.\\nChapter 3: Emergency Assistance\\nIntroduction\\nIn the event of an emergency, it is important to know how to contact emergency services and how to use\\n\\nthe safety features in your Cymbal Starlight 2024. This chapter provides important information on how to\\nuse the following emergency assistance features:\\nHazard lights\\nHorn\\nEmergency roadside assistance\\nTire repair kit\\nHazard Lights\\n\\nQuestion: What should I do when call the emergency roadside assistance?\\nHelpful Answer:\"\n",
      "  ]\n",
      "}\n",
      "\u001b[36;1m\u001b[1;3m[llm/end]\u001b[0m \u001b[1m[chain:RetrievalQA > chain:StuffDocumentsChain > chain:LLMChain > llm:VertexAI] [1.52s] Exiting LLM run with output:\n",
      "\u001b[0m{\n",
      "  \"generations\": [\n",
      "    [\n",
      "      {\n",
      "        \"text\": \"When you call emergency roadside assistance, be prepared to provide the following information:\\n\\n * Your name and contact information\\n * Your vehicle's make, model, and year\\n * Your vehicle's location\\n * The nature of the emergency\",\n",
      "        \"generation_info\": {\n",
      "          \"is_blocked\": false,\n",
      "          \"safety_ratings\": [\n",
      "            {\n",
      "              \"category\": \"HARM_CATEGORY_HATE_SPEECH\",\n",
      "              \"probability_label\": \"NEGLIGIBLE\",\n",
      "              \"blocked\": false\n",
      "            },\n",
      "            {\n",
      "              \"category\": \"HARM_CATEGORY_DANGEROUS_CONTENT\",\n",
      "              \"probability_label\": \"LOW\",\n",
      "              \"blocked\": false\n",
      "            },\n",
      "            {\n",
      "              \"category\": \"HARM_CATEGORY_HARASSMENT\",\n",
      "              \"probability_label\": \"NEGLIGIBLE\",\n",
      "              \"blocked\": false\n",
      "            },\n",
      "            {\n",
      "              \"category\": \"HARM_CATEGORY_SEXUALLY_EXPLICIT\",\n",
      "              \"probability_label\": \"NEGLIGIBLE\",\n",
      "              \"blocked\": false\n",
      "            }\n",
      "          ],\n",
      "          \"usage_metadata\": {\n",
      "            \"prompt_token_count\": 837,\n",
      "            \"candidates_token_count\": 48,\n",
      "            \"total_token_count\": 885\n",
      "          }\n",
      "        },\n",
      "        \"type\": \"Generation\"\n",
      "      }\n",
      "    ]\n",
      "  ],\n",
      "  \"llm_output\": null,\n",
      "  \"run\": null\n",
      "}\n",
      "\u001b[36;1m\u001b[1;3m[chain/end]\u001b[0m \u001b[1m[chain:RetrievalQA > chain:StuffDocumentsChain > chain:LLMChain] [1.52s] Exiting Chain run with output:\n",
      "\u001b[0m{\n",
      "  \"text\": \"When you call emergency roadside assistance, be prepared to provide the following information:\\n\\n * Your name and contact information\\n * Your vehicle's make, model, and year\\n * Your vehicle's location\\n * The nature of the emergency\"\n",
      "}\n",
      "\u001b[36;1m\u001b[1;3m[chain/end]\u001b[0m \u001b[1m[chain:RetrievalQA > chain:StuffDocumentsChain] [1.52s] Exiting Chain run with output:\n",
      "\u001b[0m{\n",
      "  \"output_text\": \"When you call emergency roadside assistance, be prepared to provide the following information:\\n\\n * Your name and contact information\\n * Your vehicle's make, model, and year\\n * Your vehicle's location\\n * The nature of the emergency\"\n",
      "}\n",
      "\u001b[36;1m\u001b[1;3m[chain/end]\u001b[0m \u001b[1m[chain:RetrievalQA] [2.52s] Exiting Chain run with output:\n",
      "\u001b[0m{\n",
      "  \"result\": \"When you call emergency roadside assistance, be prepared to provide the following information:\\n\\n * Your name and contact information\\n * Your vehicle's make, model, and year\\n * Your vehicle's location\\n * The nature of the emergency\"\n",
      "}\n",
      "\n",
      "################ Final Answer ################\n",
      "\n",
      "When you call emergency roadside assistance, be prepared to provide the following information:\n",
      "\n",
      " * Your name and contact information\n",
      " * Your vehicle's make, model, and year\n",
      " * Your vehicle's location\n",
      " * The nature of the emergency\n",
      "CPU times: user 41.2 ms, sys: 7.13 ms, total: 48.3 ms\n",
      "Wall time: 2.52 s\n"
     ]
    }
   ],
   "source": [
    "%%time\n",
    "response = retrieval_qa.invoke(search_query)\n",
    "print(\"\\n################ Final Answer ################\\n\")\n",
    "print(response[\"result\"])"
   ]
  },
  {
   "cell_type": "markdown",
   "metadata": {},
   "source": [
    "### Filtering by metadata\n",
    "\n",
    "It is possible to post-filter results by metadata by passing the filter parameter to any search method\n",
    "\n",
    "VertexFSVectorStore also support metadata filter while performing search, for this to work:\n",
    "- the `filter_columns` parameter must be passed to `VertexFSVectorStore` when the online feature store feature view is created (first time the class is initialised with a given online store name and feature view name).\n",
    "\n",
    "- the `string_filters` parameter must be passed to any search method. Note only string fields are supported at the moment. See [here](https://github.com/googleapis/python-aiplatform/blob/8a4a41afe47aaff2f69a73e5011b34bcba5cd2e9/google/cloud/aiplatform_v1beta1/types/feature_online_store_service.py#L345) \n"
   ]
  },
  {
   "cell_type": "code",
   "execution_count": 17,
   "metadata": {},
   "outputs": [
    {
     "data": {
      "text/plain": [
       "[Document(page_content=\"manual.md 2024-03-23\\n21 / 22Wash your vehicle regularly to remove dirt and grime.\\nWax your vehicle twice a year to protect the paint.\\nCheck the tire pressure regularly and adjust it as needed.\\nInspect the brakes regularly for wear and tear.\\nKeep the interior of your vehicle clean and free of debris.\\nBy following these tips, you can help to keep your Cymbal Starlight 2024 in top condition for many years to\\ncome.\\nChapter 18: Emergencies\\nRoadside Assistance\\nIf you experience a roadside emergency, such as a flat tire or a dead battery, you can call roadside\\nassistance for help. Roadside assistance is available 24 hours a day, 7 days a week.\\nTo call roadside assistance, dial the following number:\\n1-800-555-1212\\nWhen you call roadside assistance, be prepared to provide the following information:\\nYour name and contact information\\nYour vehicle's make, model, and year\\nYour vehicle's location\\nThe nature of the emergency\\nFlat Tire\", metadata={'source': 'github-repo/generative-ai/sample-apps/', 'document_name': 'cymbal-starlight-2024.pdf', 'chunk': 56})]"
      ]
     },
     "execution_count": 17,
     "metadata": {},
     "output_type": "execute_result"
    }
   ],
   "source": [
    "# perform post search filtering\n",
    "vertex_fs.similarity_search(search_query, filter={'chunk': 56})"
   ]
  },
  {
   "cell_type": "markdown",
   "metadata": {},
   "source": [
    "# Appendix"
   ]
  },
  {
   "cell_type": "markdown",
   "metadata": {},
   "source": [
    "### Local Bruteforce\n",
    "\n",
    "You can also prototype by using a (local) bruteforce executor. During initialization, data is downloaded from BQ to your memory.\n",
    "\n",
    "You can use it for prototyping when the number of documents is low. "
   ]
  },
  {
   "cell_type": "markdown",
   "metadata": {},
   "source": [
    "### Max Marginal Relevance"
   ]
  },
  {
   "cell_type": "code",
   "execution_count": 25,
   "metadata": {},
   "outputs": [
    {
     "data": {
      "text/plain": [
       "[Document(page_content=\"manual.md 2024-03-23\\n21 / 22Wash your vehicle regularly to remove dirt and grime.\\nWax your vehicle twice a year to protect the paint.\\nCheck the tire pressure regularly and adjust it as needed.\\nInspect the brakes regularly for wear and tear.\\nKeep the interior of your vehicle clean and free of debris.\\nBy following these tips, you can help to keep your Cymbal Starlight 2024 in top condition for many years to\\ncome.\\nChapter 18: Emergencies\\nRoadside Assistance\\nIf you experience a roadside emergency, such as a flat tire or a dead battery, you can call roadside\\nassistance for help. Roadside assistance is available 24 hours a day, 7 days a week.\\nTo call roadside assistance, dial the following number:\\n1-800-555-1212\\nWhen you call roadside assistance, be prepared to provide the following information:\\nYour name and contact information\\nYour vehicle's make, model, and year\\nYour vehicle's location\\nThe nature of the emergency\\nFlat Tire\", metadata={'source': 'github-repo/generative-ai/sample-apps/', 'document_name': 'cymbal-starlight-2024.pdf', 'chunk': 56}),\n",
       " Document(page_content='Stay in your vehicle and wait for emergency services to arrive.\\nIf you are stranded in a remote area, stay with your vehicle and try to attract attention by waving your\\narms or using a flashlight.', metadata={'source': 'github-repo/generative-ai/sample-apps/', 'document_name': 'cymbal-starlight-2024.pdf', 'chunk': 28}),\n",
       " Document(page_content='The following features are included in the automatic support system:\\nLane departure warning: This feature warns you if you are drifting out of your lane.\\nLane keeping assist: This feature helps to keep you in your lane by gently steering the vehicle back\\ninto the lane if you start to drift.\\nAdaptive cruise control: This feature automatically adjusts your speed to maintain a safe following\\ndistance from the vehicle in front of you.\\nForward collision warning: This feature warns you if you are approaching another vehicle too\\nquickly.\\nAutomatic emergency braking: This feature can automatically apply the brakes to avoid a collision.\\nUsing the Automatic Support System\\nTo use the automatic support system, simply activate the cruise control system. The automatic support\\nsystem will then automatically activate and begin to monitor your driving.\\nIf the automatic support system detects that you are drifting out of your lane, it will warn you with a chime', metadata={'source': 'github-repo/generative-ai/sample-apps/', 'document_name': 'cymbal-starlight-2024.pdf', 'chunk': 24}),\n",
       " Document(page_content='The nature of the emergency\\nFlat Tire\\nIf you experience a flat tire, pull over to the side of the road in a safe location. Turn on your hazard lights and\\nset out flares or reflective triangles to warn other drivers.\\nTo change a flat tire, follow these steps:\\n\\x00. Gather the necessary tools, including a jack, lug wrench, and spare tire.\\n\\x00. Loosen the lug nuts on the flat tire, but do not remove them completely.\\n\\x00. Position the jack next to the flat tire and raise the vehicle until there is approximately 6 inches of\\nclearance between the ground and the flat tire.\\n\\x00. Remove the lug nuts and take off the flat tire.\\n\\x00. Mount the spare tire on the wheel studs and tighten the lug nuts.\\n\\x00. Lower the vehicle to the ground and tighten the lug nuts further.\\n\\x00. Stow the flat tire and tools in the trunk.\\nDead Battery\\nIf your battery is dead, you can jump-start your vehicle using another vehicle. To jump-start your vehicle,\\nfollow these steps:\\n\\x00. Park the other vehicle close to yours.', metadata={'source': 'github-repo/generative-ai/sample-apps/', 'document_name': 'cymbal-starlight-2024.pdf', 'chunk': 57}),\n",
       " Document(page_content='the safety features in your Cymbal Starlight 2024. This chapter provides important information on how to\\nuse the following emergency assistance features:\\nHazard lights\\nHorn\\nEmergency roadside assistance\\nTire repair kit\\nHazard Lights', metadata={'source': 'github-repo/generative-ai/sample-apps/', 'document_name': 'cymbal-starlight-2024.pdf', 'chunk': 7})]"
      ]
     },
     "execution_count": 25,
     "metadata": {},
     "output_type": "execute_result"
    }
   ],
   "source": [
    "mmr_retriever = vertex_fs.as_retriever(search_type=\"mmr\")\n",
    "mmr_retriever.invoke(search_query)"
   ]
  },
  {
   "cell_type": "markdown",
   "metadata": {},
   "source": [
    "### Get documents by ID\n",
    "\n",
    "You can also use the function `get_documents` to retrieve a set of documents given a document ID:\n"
   ]
  },
  {
   "cell_type": "code",
   "execution_count": 20,
   "metadata": {},
   "outputs": [
    {
     "data": {
      "text/plain": [
       "[Document(page_content='Car Care Tips\\nIn addition to following the maintenance schedule, there are a number of things you can do to keep your\\nCymbal Starlight 2024 in good condition. These include:', metadata={'source': 'github-repo/generative-ai/sample-apps/', 'document_name': 'cymbal-starlight-2024.pdf', 'chunk': '55'})]"
      ]
     },
     "execution_count": 20,
     "metadata": {},
     "output_type": "execute_result"
    }
   ],
   "source": [
    "vertex_fs.get_documents(ids=[\"6470d610abbd40e2af3c32ede29e09d5\"])"
   ]
  },
  {
   "cell_type": "markdown",
   "metadata": {},
   "source": [
    "### Remove documents by ID\n",
    "\n",
    "You can also use the function `delete` to remove a set of documents given a document ID:"
   ]
  },
  {
   "cell_type": "code",
   "execution_count": null,
   "metadata": {},
   "outputs": [],
   "source": [
    "vertex_fs.delete(ids=[\"my_id1\", \"my_id2\"])"
   ]
  }
 ],
 "metadata": {
  "kernelspec": {
   "display_name": "Python 3 (ipykernel)",
   "language": "python",
   "name": "python3"
  },
  "language_info": {
   "codemirror_mode": {
    "name": "ipython",
    "version": 3
   },
   "file_extension": ".py",
   "mimetype": "text/x-python",
   "name": "python",
   "nbconvert_exporter": "python",
   "pygments_lexer": "ipython3",
   "version": "3.10.14"
  }
 },
 "nbformat": 4,
 "nbformat_minor": 4
}
