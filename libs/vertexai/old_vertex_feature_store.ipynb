{
 "cells": [
  {
   "cell_type": "markdown",
   "metadata": {},
   "source": [
    "# Building a GenAI RAG application with Feature Store and BigQuery\n",
    "\n",
    "## Overview\n",
    "This notebook guides you through building a low-latency vector search system for your GenAI application using Vertex AI Feature Store. We'll leverage the [Vertex Feature Store Langchain integration]([link to integration]) to streamline this process.\n",
    "\n",
    "Feature Store seamlessly integrates with BigQuery, providing a unified data storage and flexible vector search options:\n",
    "\n",
    "- **BigQuery Vector Search**: Ideal for batch retrieval and prototyping, as it requires no infrastructure setup.\n",
    "- **Feature Store Online Store**: Enables low-latency retrieval with manual or scheduled data sync. Perfect for production-ready user-facing GenAI applications.\n",
    "![Image notebook journey](diagram_journey.png)\n"
   ]
  },
  {
   "cell_type": "markdown",
   "metadata": {},
   "source": [
    "# Setup\n"
   ]
  },
  {
   "cell_type": "markdown",
   "metadata": {},
   "source": [
    "### Install libraries"
   ]
  },
  {
   "cell_type": "code",
   "execution_count": 37,
   "metadata": {
    "scrolled": true
   },
   "outputs": [
    {
     "name": "stdout",
     "output_type": "stream",
     "text": [
      "Requirement already satisfied: langchain-google-vertexai==1.0.3 in /Users/eliasecchi/Library/Caches/pypoetry/virtualenvs/fs-genai-FlJ9pXa9-py3.10/lib/python3.10/site-packages (1.0.3)\n",
      "Requirement already satisfied: pypdf==4.2.0 in /Users/eliasecchi/Library/Caches/pypoetry/virtualenvs/fs-genai-FlJ9pXa9-py3.10/lib/python3.10/site-packages (4.2.0)\n",
      "Requirement already satisfied: langchain in /Users/eliasecchi/Library/Caches/pypoetry/virtualenvs/fs-genai-FlJ9pXa9-py3.10/lib/python3.10/site-packages (0.1.20)\n",
      "Requirement already satisfied: pyarrow==16.0.0 in /Users/eliasecchi/Library/Caches/pypoetry/virtualenvs/fs-genai-FlJ9pXa9-py3.10/lib/python3.10/site-packages (16.0.0)\n",
      "Collecting db-dtypes\n",
      "  Downloading db_dtypes-1.2.0-py2.py3-none-any.whl.metadata (3.0 kB)\n",
      "Requirement already satisfied: google-cloud-aiplatform<2.0.0,>=1.47.0 in /Users/eliasecchi/Library/Caches/pypoetry/virtualenvs/fs-genai-FlJ9pXa9-py3.10/lib/python3.10/site-packages (from langchain-google-vertexai==1.0.3) (1.51.0)\n",
      "Requirement already satisfied: google-cloud-storage<3.0.0,>=2.14.0 in /Users/eliasecchi/Library/Caches/pypoetry/virtualenvs/fs-genai-FlJ9pXa9-py3.10/lib/python3.10/site-packages (from langchain-google-vertexai==1.0.3) (2.16.0)\n",
      "Requirement already satisfied: langchain-core<0.2.0,>=0.1.42 in /Users/eliasecchi/Library/Caches/pypoetry/virtualenvs/fs-genai-FlJ9pXa9-py3.10/lib/python3.10/site-packages (from langchain-google-vertexai==1.0.3) (0.1.52)\n",
      "Requirement already satisfied: types-protobuf<5.0.0.0,>=4.24.0.4 in /Users/eliasecchi/Library/Caches/pypoetry/virtualenvs/fs-genai-FlJ9pXa9-py3.10/lib/python3.10/site-packages (from langchain-google-vertexai==1.0.3) (4.25.0.20240417)\n",
      "Requirement already satisfied: types-requests<3.0.0,>=2.31.0 in /Users/eliasecchi/Library/Caches/pypoetry/virtualenvs/fs-genai-FlJ9pXa9-py3.10/lib/python3.10/site-packages (from langchain-google-vertexai==1.0.3) (2.31.0.20240406)\n",
      "Requirement already satisfied: typing_extensions>=4.0 in /Users/eliasecchi/Library/Caches/pypoetry/virtualenvs/fs-genai-FlJ9pXa9-py3.10/lib/python3.10/site-packages (from pypdf==4.2.0) (4.11.0)\n",
      "Requirement already satisfied: numpy>=1.16.6 in /Users/eliasecchi/Library/Caches/pypoetry/virtualenvs/fs-genai-FlJ9pXa9-py3.10/lib/python3.10/site-packages (from pyarrow==16.0.0) (1.26.4)\n",
      "Requirement already satisfied: PyYAML>=5.3 in /Users/eliasecchi/Library/Caches/pypoetry/virtualenvs/fs-genai-FlJ9pXa9-py3.10/lib/python3.10/site-packages (from langchain) (6.0.1)\n",
      "Requirement already satisfied: SQLAlchemy<3,>=1.4 in /Users/eliasecchi/Library/Caches/pypoetry/virtualenvs/fs-genai-FlJ9pXa9-py3.10/lib/python3.10/site-packages (from langchain) (2.0.30)\n",
      "Requirement already satisfied: aiohttp<4.0.0,>=3.8.3 in /Users/eliasecchi/Library/Caches/pypoetry/virtualenvs/fs-genai-FlJ9pXa9-py3.10/lib/python3.10/site-packages (from langchain) (3.9.5)\n",
      "Requirement already satisfied: async-timeout<5.0.0,>=4.0.0 in /Users/eliasecchi/Library/Caches/pypoetry/virtualenvs/fs-genai-FlJ9pXa9-py3.10/lib/python3.10/site-packages (from langchain) (4.0.3)\n",
      "Requirement already satisfied: dataclasses-json<0.7,>=0.5.7 in /Users/eliasecchi/Library/Caches/pypoetry/virtualenvs/fs-genai-FlJ9pXa9-py3.10/lib/python3.10/site-packages (from langchain) (0.6.6)\n",
      "Requirement already satisfied: langchain-community<0.1,>=0.0.38 in /Users/eliasecchi/Library/Caches/pypoetry/virtualenvs/fs-genai-FlJ9pXa9-py3.10/lib/python3.10/site-packages (from langchain) (0.0.38)\n",
      "Requirement already satisfied: langchain-text-splitters<0.1,>=0.0.1 in /Users/eliasecchi/Library/Caches/pypoetry/virtualenvs/fs-genai-FlJ9pXa9-py3.10/lib/python3.10/site-packages (from langchain) (0.0.1)\n",
      "Requirement already satisfied: langsmith<0.2.0,>=0.1.17 in /Users/eliasecchi/Library/Caches/pypoetry/virtualenvs/fs-genai-FlJ9pXa9-py3.10/lib/python3.10/site-packages (from langchain) (0.1.56)\n",
      "Requirement already satisfied: pydantic<3,>=1 in /Users/eliasecchi/Library/Caches/pypoetry/virtualenvs/fs-genai-FlJ9pXa9-py3.10/lib/python3.10/site-packages (from langchain) (2.7.1)\n",
      "Requirement already satisfied: requests<3,>=2 in /Users/eliasecchi/Library/Caches/pypoetry/virtualenvs/fs-genai-FlJ9pXa9-py3.10/lib/python3.10/site-packages (from langchain) (2.31.0)\n",
      "Requirement already satisfied: tenacity<9.0.0,>=8.1.0 in /Users/eliasecchi/Library/Caches/pypoetry/virtualenvs/fs-genai-FlJ9pXa9-py3.10/lib/python3.10/site-packages (from langchain) (8.3.0)\n",
      "Requirement already satisfied: packaging>=17.0 in /Users/eliasecchi/Library/Caches/pypoetry/virtualenvs/fs-genai-FlJ9pXa9-py3.10/lib/python3.10/site-packages (from db-dtypes) (23.2)\n",
      "Requirement already satisfied: pandas>=0.24.2 in /Users/eliasecchi/Library/Caches/pypoetry/virtualenvs/fs-genai-FlJ9pXa9-py3.10/lib/python3.10/site-packages (from db-dtypes) (2.2.2)\n",
      "Requirement already satisfied: aiosignal>=1.1.2 in /Users/eliasecchi/Library/Caches/pypoetry/virtualenvs/fs-genai-FlJ9pXa9-py3.10/lib/python3.10/site-packages (from aiohttp<4.0.0,>=3.8.3->langchain) (1.3.1)\n",
      "Requirement already satisfied: attrs>=17.3.0 in /Users/eliasecchi/Library/Caches/pypoetry/virtualenvs/fs-genai-FlJ9pXa9-py3.10/lib/python3.10/site-packages (from aiohttp<4.0.0,>=3.8.3->langchain) (23.2.0)\n",
      "Requirement already satisfied: frozenlist>=1.1.1 in /Users/eliasecchi/Library/Caches/pypoetry/virtualenvs/fs-genai-FlJ9pXa9-py3.10/lib/python3.10/site-packages (from aiohttp<4.0.0,>=3.8.3->langchain) (1.4.1)\n",
      "Requirement already satisfied: multidict<7.0,>=4.5 in /Users/eliasecchi/Library/Caches/pypoetry/virtualenvs/fs-genai-FlJ9pXa9-py3.10/lib/python3.10/site-packages (from aiohttp<4.0.0,>=3.8.3->langchain) (6.0.5)\n",
      "Requirement already satisfied: yarl<2.0,>=1.0 in /Users/eliasecchi/Library/Caches/pypoetry/virtualenvs/fs-genai-FlJ9pXa9-py3.10/lib/python3.10/site-packages (from aiohttp<4.0.0,>=3.8.3->langchain) (1.9.4)\n",
      "Requirement already satisfied: marshmallow<4.0.0,>=3.18.0 in /Users/eliasecchi/Library/Caches/pypoetry/virtualenvs/fs-genai-FlJ9pXa9-py3.10/lib/python3.10/site-packages (from dataclasses-json<0.7,>=0.5.7->langchain) (3.21.2)\n",
      "Requirement already satisfied: typing-inspect<1,>=0.4.0 in /Users/eliasecchi/Library/Caches/pypoetry/virtualenvs/fs-genai-FlJ9pXa9-py3.10/lib/python3.10/site-packages (from dataclasses-json<0.7,>=0.5.7->langchain) (0.9.0)\n",
      "Requirement already satisfied: google-api-core!=2.0.*,!=2.1.*,!=2.2.*,!=2.3.*,!=2.4.*,!=2.5.*,!=2.6.*,!=2.7.*,<3.0.0dev,>=1.34.1 in /Users/eliasecchi/Library/Caches/pypoetry/virtualenvs/fs-genai-FlJ9pXa9-py3.10/lib/python3.10/site-packages (from google-api-core[grpc]!=2.0.*,!=2.1.*,!=2.2.*,!=2.3.*,!=2.4.*,!=2.5.*,!=2.6.*,!=2.7.*,<3.0.0dev,>=1.34.1->google-cloud-aiplatform<2.0.0,>=1.47.0->langchain-google-vertexai==1.0.3) (2.19.0)\n",
      "Requirement already satisfied: google-auth<3.0.0dev,>=2.14.1 in /Users/eliasecchi/Library/Caches/pypoetry/virtualenvs/fs-genai-FlJ9pXa9-py3.10/lib/python3.10/site-packages (from google-cloud-aiplatform<2.0.0,>=1.47.0->langchain-google-vertexai==1.0.3) (2.29.0)\n",
      "Requirement already satisfied: proto-plus<2.0.0dev,>=1.22.0 in /Users/eliasecchi/Library/Caches/pypoetry/virtualenvs/fs-genai-FlJ9pXa9-py3.10/lib/python3.10/site-packages (from google-cloud-aiplatform<2.0.0,>=1.47.0->langchain-google-vertexai==1.0.3) (1.23.0)\n",
      "Requirement already satisfied: protobuf!=3.20.0,!=3.20.1,!=4.21.0,!=4.21.1,!=4.21.2,!=4.21.3,!=4.21.4,!=4.21.5,<5.0.0dev,>=3.19.5 in /Users/eliasecchi/Library/Caches/pypoetry/virtualenvs/fs-genai-FlJ9pXa9-py3.10/lib/python3.10/site-packages (from google-cloud-aiplatform<2.0.0,>=1.47.0->langchain-google-vertexai==1.0.3) (4.25.3)\n",
      "Requirement already satisfied: google-cloud-bigquery!=3.20.0,<4.0.0dev,>=1.15.0 in /Users/eliasecchi/Library/Caches/pypoetry/virtualenvs/fs-genai-FlJ9pXa9-py3.10/lib/python3.10/site-packages (from google-cloud-aiplatform<2.0.0,>=1.47.0->langchain-google-vertexai==1.0.3) (3.22.0)\n",
      "Requirement already satisfied: google-cloud-resource-manager<3.0.0dev,>=1.3.3 in /Users/eliasecchi/Library/Caches/pypoetry/virtualenvs/fs-genai-FlJ9pXa9-py3.10/lib/python3.10/site-packages (from google-cloud-aiplatform<2.0.0,>=1.47.0->langchain-google-vertexai==1.0.3) (1.12.3)\n",
      "Requirement already satisfied: shapely<3.0.0dev in /Users/eliasecchi/Library/Caches/pypoetry/virtualenvs/fs-genai-FlJ9pXa9-py3.10/lib/python3.10/site-packages (from google-cloud-aiplatform<2.0.0,>=1.47.0->langchain-google-vertexai==1.0.3) (2.0.4)\n",
      "Requirement already satisfied: docstring-parser<1 in /Users/eliasecchi/Library/Caches/pypoetry/virtualenvs/fs-genai-FlJ9pXa9-py3.10/lib/python3.10/site-packages (from google-cloud-aiplatform<2.0.0,>=1.47.0->langchain-google-vertexai==1.0.3) (0.16)\n",
      "Requirement already satisfied: google-cloud-core<3.0dev,>=2.3.0 in /Users/eliasecchi/Library/Caches/pypoetry/virtualenvs/fs-genai-FlJ9pXa9-py3.10/lib/python3.10/site-packages (from google-cloud-storage<3.0.0,>=2.14.0->langchain-google-vertexai==1.0.3) (2.4.1)\n",
      "Requirement already satisfied: google-resumable-media>=2.6.0 in /Users/eliasecchi/Library/Caches/pypoetry/virtualenvs/fs-genai-FlJ9pXa9-py3.10/lib/python3.10/site-packages (from google-cloud-storage<3.0.0,>=2.14.0->langchain-google-vertexai==1.0.3) (2.7.0)\n",
      "Requirement already satisfied: google-crc32c<2.0dev,>=1.0 in /Users/eliasecchi/Library/Caches/pypoetry/virtualenvs/fs-genai-FlJ9pXa9-py3.10/lib/python3.10/site-packages (from google-cloud-storage<3.0.0,>=2.14.0->langchain-google-vertexai==1.0.3) (1.5.0)\n",
      "Requirement already satisfied: jsonpatch<2.0,>=1.33 in /Users/eliasecchi/Library/Caches/pypoetry/virtualenvs/fs-genai-FlJ9pXa9-py3.10/lib/python3.10/site-packages (from langchain-core<0.2.0,>=0.1.42->langchain-google-vertexai==1.0.3) (1.33)\n",
      "Requirement already satisfied: orjson<4.0.0,>=3.9.14 in /Users/eliasecchi/Library/Caches/pypoetry/virtualenvs/fs-genai-FlJ9pXa9-py3.10/lib/python3.10/site-packages (from langsmith<0.2.0,>=0.1.17->langchain) (3.10.3)\n",
      "Requirement already satisfied: python-dateutil>=2.8.2 in /Users/eliasecchi/Library/Caches/pypoetry/virtualenvs/fs-genai-FlJ9pXa9-py3.10/lib/python3.10/site-packages (from pandas>=0.24.2->db-dtypes) (2.9.0.post0)\n",
      "Requirement already satisfied: pytz>=2020.1 in /Users/eliasecchi/Library/Caches/pypoetry/virtualenvs/fs-genai-FlJ9pXa9-py3.10/lib/python3.10/site-packages (from pandas>=0.24.2->db-dtypes) (2024.1)\n",
      "Requirement already satisfied: tzdata>=2022.7 in /Users/eliasecchi/Library/Caches/pypoetry/virtualenvs/fs-genai-FlJ9pXa9-py3.10/lib/python3.10/site-packages (from pandas>=0.24.2->db-dtypes) (2024.1)\n",
      "Requirement already satisfied: annotated-types>=0.4.0 in /Users/eliasecchi/Library/Caches/pypoetry/virtualenvs/fs-genai-FlJ9pXa9-py3.10/lib/python3.10/site-packages (from pydantic<3,>=1->langchain) (0.6.0)\n",
      "Requirement already satisfied: pydantic-core==2.18.2 in /Users/eliasecchi/Library/Caches/pypoetry/virtualenvs/fs-genai-FlJ9pXa9-py3.10/lib/python3.10/site-packages (from pydantic<3,>=1->langchain) (2.18.2)\n",
      "Requirement already satisfied: charset-normalizer<4,>=2 in /Users/eliasecchi/Library/Caches/pypoetry/virtualenvs/fs-genai-FlJ9pXa9-py3.10/lib/python3.10/site-packages (from requests<3,>=2->langchain) (3.3.2)\n",
      "Requirement already satisfied: idna<4,>=2.5 in /Users/eliasecchi/Library/Caches/pypoetry/virtualenvs/fs-genai-FlJ9pXa9-py3.10/lib/python3.10/site-packages (from requests<3,>=2->langchain) (3.7)\n",
      "Requirement already satisfied: urllib3<3,>=1.21.1 in /Users/eliasecchi/Library/Caches/pypoetry/virtualenvs/fs-genai-FlJ9pXa9-py3.10/lib/python3.10/site-packages (from requests<3,>=2->langchain) (2.2.1)\n",
      "Requirement already satisfied: certifi>=2017.4.17 in /Users/eliasecchi/Library/Caches/pypoetry/virtualenvs/fs-genai-FlJ9pXa9-py3.10/lib/python3.10/site-packages (from requests<3,>=2->langchain) (2024.2.2)\n",
      "Requirement already satisfied: googleapis-common-protos<2.0.dev0,>=1.56.2 in /Users/eliasecchi/Library/Caches/pypoetry/virtualenvs/fs-genai-FlJ9pXa9-py3.10/lib/python3.10/site-packages (from google-api-core!=2.0.*,!=2.1.*,!=2.2.*,!=2.3.*,!=2.4.*,!=2.5.*,!=2.6.*,!=2.7.*,<3.0.0dev,>=1.34.1->google-api-core[grpc]!=2.0.*,!=2.1.*,!=2.2.*,!=2.3.*,!=2.4.*,!=2.5.*,!=2.6.*,!=2.7.*,<3.0.0dev,>=1.34.1->google-cloud-aiplatform<2.0.0,>=1.47.0->langchain-google-vertexai==1.0.3) (1.63.0)\n",
      "Requirement already satisfied: grpcio<2.0dev,>=1.33.2 in /Users/eliasecchi/Library/Caches/pypoetry/virtualenvs/fs-genai-FlJ9pXa9-py3.10/lib/python3.10/site-packages (from google-api-core[grpc]!=2.0.*,!=2.1.*,!=2.2.*,!=2.3.*,!=2.4.*,!=2.5.*,!=2.6.*,!=2.7.*,<3.0.0dev,>=1.34.1->google-cloud-aiplatform<2.0.0,>=1.47.0->langchain-google-vertexai==1.0.3) (1.63.0)\n",
      "Requirement already satisfied: grpcio-status<2.0.dev0,>=1.33.2 in /Users/eliasecchi/Library/Caches/pypoetry/virtualenvs/fs-genai-FlJ9pXa9-py3.10/lib/python3.10/site-packages (from google-api-core[grpc]!=2.0.*,!=2.1.*,!=2.2.*,!=2.3.*,!=2.4.*,!=2.5.*,!=2.6.*,!=2.7.*,<3.0.0dev,>=1.34.1->google-cloud-aiplatform<2.0.0,>=1.47.0->langchain-google-vertexai==1.0.3) (1.62.2)\n",
      "Requirement already satisfied: cachetools<6.0,>=2.0.0 in /Users/eliasecchi/Library/Caches/pypoetry/virtualenvs/fs-genai-FlJ9pXa9-py3.10/lib/python3.10/site-packages (from google-auth<3.0.0dev,>=2.14.1->google-cloud-aiplatform<2.0.0,>=1.47.0->langchain-google-vertexai==1.0.3) (5.3.3)\n",
      "Requirement already satisfied: pyasn1-modules>=0.2.1 in /Users/eliasecchi/Library/Caches/pypoetry/virtualenvs/fs-genai-FlJ9pXa9-py3.10/lib/python3.10/site-packages (from google-auth<3.0.0dev,>=2.14.1->google-cloud-aiplatform<2.0.0,>=1.47.0->langchain-google-vertexai==1.0.3) (0.4.0)\n",
      "Requirement already satisfied: rsa<5,>=3.1.4 in /Users/eliasecchi/Library/Caches/pypoetry/virtualenvs/fs-genai-FlJ9pXa9-py3.10/lib/python3.10/site-packages (from google-auth<3.0.0dev,>=2.14.1->google-cloud-aiplatform<2.0.0,>=1.47.0->langchain-google-vertexai==1.0.3) (4.9)\n",
      "Requirement already satisfied: grpc-google-iam-v1<1.0.0dev,>=0.12.4 in /Users/eliasecchi/Library/Caches/pypoetry/virtualenvs/fs-genai-FlJ9pXa9-py3.10/lib/python3.10/site-packages (from google-cloud-resource-manager<3.0.0dev,>=1.3.3->google-cloud-aiplatform<2.0.0,>=1.47.0->langchain-google-vertexai==1.0.3) (0.13.0)\n",
      "Requirement already satisfied: jsonpointer>=1.9 in /Users/eliasecchi/Library/Caches/pypoetry/virtualenvs/fs-genai-FlJ9pXa9-py3.10/lib/python3.10/site-packages (from jsonpatch<2.0,>=1.33->langchain-core<0.2.0,>=0.1.42->langchain-google-vertexai==1.0.3) (2.4)\n",
      "Requirement already satisfied: six>=1.5 in /Users/eliasecchi/Library/Caches/pypoetry/virtualenvs/fs-genai-FlJ9pXa9-py3.10/lib/python3.10/site-packages (from python-dateutil>=2.8.2->pandas>=0.24.2->db-dtypes) (1.16.0)\n",
      "Requirement already satisfied: mypy-extensions>=0.3.0 in /Users/eliasecchi/Library/Caches/pypoetry/virtualenvs/fs-genai-FlJ9pXa9-py3.10/lib/python3.10/site-packages (from typing-inspect<1,>=0.4.0->dataclasses-json<0.7,>=0.5.7->langchain) (1.0.0)\n",
      "Requirement already satisfied: pyasn1<0.7.0,>=0.4.6 in /Users/eliasecchi/Library/Caches/pypoetry/virtualenvs/fs-genai-FlJ9pXa9-py3.10/lib/python3.10/site-packages (from pyasn1-modules>=0.2.1->google-auth<3.0.0dev,>=2.14.1->google-cloud-aiplatform<2.0.0,>=1.47.0->langchain-google-vertexai==1.0.3) (0.6.0)\n",
      "Downloading db_dtypes-1.2.0-py2.py3-none-any.whl (14 kB)\n",
      "Installing collected packages: db-dtypes\n",
      "Successfully installed db-dtypes-1.2.0\n"
     ]
    }
   ],
   "source": [
    "!pip install langchain-google-vertexai==1.0.3 pypdf==4.2.0 langchain pyarrow==16.0.0 db-dtypes==1.2.0"
   ]
  },
  {
   "cell_type": "markdown",
   "metadata": {
    "id": "Xe7OuYuGkLKF"
   },
   "source": [
    "### Authenticating your notebook environment\n",
    "* If you are using **Colab** to run this notebook, uncomment the cell below and continue.\n",
    "* If you are using **Vertex AI Workbench**, check out the setup instructions [here](https://github.com/GoogleCloudPlatform/generative-ai/tree/main/setup-env)."
   ]
  },
  {
   "cell_type": "code",
   "execution_count": 9,
   "metadata": {
    "id": "U9Gx2SAZkLKF"
   },
   "outputs": [],
   "source": [
    "# from google.colab import auth\n",
    "\n",
    "# auth.authenticate_user()"
   ]
  },
  {
   "cell_type": "markdown",
   "metadata": {
    "id": "JxH62gFHCFPj"
   },
   "source": [
    "### Import libraries"
   ]
  },
  {
   "cell_type": "code",
   "execution_count": 1,
   "metadata": {},
   "outputs": [],
   "source": [
    "%load_ext autoreload\n",
    "%autoreload 2\n",
    "from lib.integration import VertexFeatureStore\n",
    "import logging\n",
    "logging.basicConfig(level=logging.INFO)"
   ]
  },
  {
   "cell_type": "markdown",
   "metadata": {},
   "source": [
    "### Define environment variables"
   ]
  },
  {
   "cell_type": "code",
   "execution_count": 2,
   "metadata": {},
   "outputs": [],
   "source": [
    "PROJECT_ID = \"cloud-llm-preview2\"\n",
    "DATASET = \"vertex_documentation\"\n",
    "TABLE = \"mytest4\"\n",
    "REGION = \"europe-west4\""
   ]
  },
  {
   "cell_type": "markdown",
   "metadata": {
    "id": "LDSM2ZQa8eBs"
   },
   "source": [
    "# Add documents to `VertexAIFeatureStore`\n",
    "\n",
    "This step ingests and parse PDF documents, split them, generate embeddings and add the embeddings to the vector store. The document corpus used as dataset is a collection of owners car manual."
   ]
  },
  {
   "cell_type": "markdown",
   "metadata": {
    "id": "dIML1Ttj5nTk"
   },
   "source": [
    "**Summary steps**\n",
    "- Create text embeddings: LangChain `VertexAIEmbeddings`\n",
    "- Ingest PDF files: LangChain `PyPDFLoader`\n",
    "- Chunk documents: LangChain `TextSplitter`\n",
    "- Create Vector Store: LangChain  `VertexAIFeatureStore` "
   ]
  },
  {
   "cell_type": "markdown",
   "metadata": {
    "id": "q3hRmLiY2O0w"
   },
   "source": [
    "### Create the VertexAI Embedding model"
   ]
  },
  {
   "cell_type": "code",
   "execution_count": 3,
   "metadata": {
    "id": "2tRYGd_Mv_ix"
   },
   "outputs": [],
   "source": [
    "from langchain_google_vertexai import VertexAIEmbeddings\n",
    "from langchain_community.vectorstores import BigQueryVectorSearch\n",
    "\n",
    "embedding_model = VertexAIEmbeddings(\n",
    "    model_name=\"textembedding-gecko@latest\", project=PROJECT_ID\n",
    ")"
   ]
  },
  {
   "cell_type": "markdown",
   "metadata": {
    "id": "pKM_QIU0WPc3"
   },
   "source": [
    "### Ingest PDF file\n",
    "\n",
    "The document is hosted on Cloud Storage bucket (at `gs://github-repo/generative-ai/sample-apps/fixmycar/cymbal-starlight-2024.pdf`) and LangChain provides a convenient document loader [`PyPDFLoader`](https://python.langchain.com/docs/modules/data_connection/document_loaders/pdf/) to load documents from pdfs.\n"
   ]
  },
  {
   "cell_type": "markdown",
   "metadata": {
    "id": "17eO5HAx8HcG"
   },
   "source": [
    "Make a Google Cloud Storage bucket in your GCP project to copy the document files into, or directlt copy the file to the current path."
   ]
  },
  {
   "cell_type": "code",
   "execution_count": 4,
   "metadata": {
    "colab": {
     "base_uri": "https://localhost:8080/"
    },
    "id": "UNEClQQjjRcc",
    "outputId": "de918892-4fae-4c5b-cd4d-915f87d11a06"
   },
   "outputs": [
    {
     "name": "stdout",
     "output_type": "stream",
     "text": [
      "Copying gs://github-repo/generative-ai/sample-apps/fixmycar/cymbal-starlight-2024.pdf...\n",
      "- [1 files][328.9 KiB/328.9 KiB]                                                \n",
      "Operation completed over 1 objects/328.9 KiB.                                    \n"
     ]
    }
   ],
   "source": [
    "GCS_BUCKET_DOCS = (\n",
    "    \"github-repo/generative-ai/sample-apps/fixmycar\"  # @param {type: \"string\"}\n",
    ")\n",
    "\n",
    "# Copy the file to the current path\n",
    "!gsutil cp \"gs://$GCS_BUCKET_DOCS/*.pdf\" ."
   ]
  },
  {
   "cell_type": "code",
   "execution_count": 5,
   "metadata": {
    "colab": {
     "base_uri": "https://localhost:8080/"
    },
    "id": "7kYw66EohYza",
    "outputId": "098e5ce1-cc21-4be4-c4c0-f2f1e203e5d6"
   },
   "outputs": [
    {
     "name": "stdout",
     "output_type": "stream",
     "text": [
      "# of documents loaded (pre-chunking) = 22\n"
     ]
    }
   ],
   "source": [
    "# Ingest PDF files\n",
    "from langchain_community.document_loaders import PyPDFLoader\n",
    "\n",
    "loader = PyPDFLoader(\"cymbal-starlight-2024.pdf\")\n",
    "documents = loader.load()\n",
    "\n",
    "\n",
    "# Add document name and source to the metadata\n",
    "for document in documents:\n",
    "    doc_md = document.metadata\n",
    "    document_name = doc_md[\"source\"].split(\"/\")[-1]\n",
    "    # derive doc source from Document loader\n",
    "    doc_source_prefix = \"/\".join(GCS_BUCKET_DOCS.split(\"/\")[:3])\n",
    "    doc_source_suffix = \"/\".join(doc_md[\"source\"].split(\"/\")[4:-1])\n",
    "    source = f\"{doc_source_prefix}/{doc_source_suffix}\"\n",
    "    document.metadata = {\"source\": source, \"document_name\": document_name}\n",
    "\n",
    "print(f\"# of documents loaded (pre-chunking) = {len(documents)}\")"
   ]
  },
  {
   "cell_type": "markdown",
   "metadata": {
    "id": "j8J7hQkVmkB1"
   },
   "source": [
    "Verify document metadata"
   ]
  },
  {
   "cell_type": "code",
   "execution_count": 6,
   "metadata": {
    "colab": {
     "base_uri": "https://localhost:8080/"
    },
    "id": "jn3A13Nfmihf",
    "outputId": "3d56d945-7458-4d03-f6ce-09b9f687bada"
   },
   "outputs": [
    {
     "data": {
      "text/plain": [
       "{'source': 'github-repo/generative-ai/sample-apps/',\n",
       " 'document_name': 'cymbal-starlight-2024.pdf'}"
      ]
     },
     "execution_count": 6,
     "metadata": {},
     "output_type": "execute_result"
    }
   ],
   "source": [
    "documents[0].metadata"
   ]
  },
  {
   "cell_type": "markdown",
   "metadata": {
    "id": "oZA9HDA0mnWW"
   },
   "source": [
    "## Chunk documents - TextSplitter\n",
    "\n",
    "Split the documents to smaller chunks. When splitting the document, ensure a few chunks can fit within the context length of LLM."
   ]
  },
  {
   "cell_type": "code",
   "execution_count": 7,
   "metadata": {
    "colab": {
     "base_uri": "https://localhost:8080/"
    },
    "id": "n2QuilhMmxgA",
    "outputId": "1acae5ed-82ea-4d30-85b3-804976fbcb54"
   },
   "outputs": [
    {
     "name": "stdout",
     "output_type": "stream",
     "text": [
      "# of documents = 60\n"
     ]
    }
   ],
   "source": [
    "from langchain.text_splitter import RecursiveCharacterTextSplitter\n",
    "\n",
    "# split the documents into chunks\n",
    "text_splitter = RecursiveCharacterTextSplitter(\n",
    "    chunk_size=1000,\n",
    "    chunk_overlap=50,\n",
    "    separators=[\"\\n\\n\", \"\\n\", \".\", \"!\", \"?\", \",\", \" \", \"\"],\n",
    ")\n",
    "doc_splits = text_splitter.split_documents(documents)\n",
    "\n",
    "# Add chunk number to metadata\n",
    "for idx, split in enumerate(doc_splits):\n",
    "    split.metadata[\"chunk\"] = idx\n",
    "\n",
    "print(f\"# of documents = {len(doc_splits)}\")"
   ]
  },
  {
   "cell_type": "code",
   "execution_count": 8,
   "metadata": {
    "colab": {
     "base_uri": "https://localhost:8080/"
    },
    "id": "fv91BaKCmxP0",
    "outputId": "fce7f8af-94e7-44d6-e554-84a682dc41d4",
    "scrolled": true
   },
   "outputs": [
    {
     "data": {
      "text/plain": [
       "{'source': 'github-repo/generative-ai/sample-apps/',\n",
       " 'document_name': 'cymbal-starlight-2024.pdf',\n",
       " 'chunk': 0}"
      ]
     },
     "execution_count": 8,
     "metadata": {},
     "output_type": "execute_result"
    }
   ],
   "source": [
    "doc_splits[0].metadata"
   ]
  },
  {
   "cell_type": "markdown",
   "metadata": {
    "id": "8QC-w_t3m9Fe"
   },
   "source": [
    "## Configure `VertexFeatureStore` as Vector Store\n",
    "\n",
    "You are now ready to start using Vertex Feature Store! \n",
    "You can initialize the class by providing `project_id`, `location`, a BQ `dataset_name` and `table_name` to be used to store embeddings. \n",
    "You can also point to an existing table. By default the class will use [BigQuery Vector Search](https://cloud.google.com/bigquery/docs/vector-search-intro) to perform vector search.\n",
    "\n",
    "See [here](TODO) for the full list of parameters of the class. "
   ]
  },
  {
   "cell_type": "code",
   "execution_count": 9,
   "metadata": {
    "colab": {
     "base_uri": "https://localhost:8080/"
    },
    "id": "Eenn_NAsnF5D",
    "outputId": "b8441c7e-23b3-482d-bd3b-275140f4f405"
   },
   "outputs": [
    {
     "name": "stderr",
     "output_type": "stream",
     "text": [
      "INFO:lib.integration:BigQuery table cloud-llm-preview2.vertex_documentation.mytest4 initialized/validated as persistent storage. Access via BigQuery console:\n",
      " https://console.cloud.google.com/bigquery?project=cloud-llm-preview2&ws=!1m5!1m4!4m3!1scloud-llm-preview2!2svertex_documentation!3smytest4\n"
     ]
    }
   ],
   "source": [
    "vertex_fs = VertexFeatureStore(\n",
    "    project_id=PROJECT_ID,\n",
    "    location=REGION,\n",
    "    dataset_name=DATASET,\n",
    "    table_name=TABLE,\n",
    "    embedding=embedding_model,\n",
    " )"
   ]
  },
  {
   "cell_type": "code",
   "execution_count": 11,
   "metadata": {},
   "outputs": [
    {
     "data": {
      "text/plain": [
       "['6420aaaa1fdd4bae9fed083714fb6a10',\n",
       " 'f90361ee2581437fb476a97899bab304',\n",
       " '2ba7b6b4e71b473eba7ff5802702baa0',\n",
       " 'cb92c490b058456691250f1b5afd91a3',\n",
       " '1364467c299b44a7910aafc70ca49717',\n",
       " '1afb323ceed54a9db42eb851fd8edffd',\n",
       " '2c3c233495a942e3abc9057143596e78',\n",
       " '2b24b7ea1850427ab1a51f4bad4d3cef',\n",
       " 'fa3d47ef3a1c403a89ba99f6eb809756',\n",
       " 'd22896d9dd944d0da0b1038fcde11719',\n",
       " '49fa3cb1e5cc422d8c2fd967f355eeba',\n",
       " 'e6704fba5cab435db08e76c8f936583b',\n",
       " '02efe35a166942f398dc59a1d6df7125',\n",
       " '5a2e3062d4d84b498ad79e82ee089888',\n",
       " 'd6a048818ad54fdd9c765f139069a6fc',\n",
       " '2325fef7bc664db2b9f8e02d96487f46',\n",
       " '7d7c0c1a70764bf0aab3c9d515e2d961',\n",
       " 'bc6d9592127943af975c54e6f34a5428',\n",
       " 'da9dee9d88a048418939ff1b68f91c7f',\n",
       " '4eb748e6ad7543baaad4c1b99e544e0c',\n",
       " '83564fbd80b545f4bb886800e75be522',\n",
       " '8cb72976f3294bd798fe8da89e02148a',\n",
       " 'b4dde69c38434075811b4c6cc81b8279',\n",
       " '838df84cb6164a32b9ff3bbf1716f9a4',\n",
       " '6c0eb96a605f4f1ca27e1cdc9544591b',\n",
       " '9e2d6feaaa9740e2b0bec3486e9304b2',\n",
       " '44fb9eba381f4647b8296df7da525c5f',\n",
       " 'b75da8bffa144d30a8f1cc504da8ed98',\n",
       " '3875fc36bbb9401c9af45f7ec8a7ebb7',\n",
       " '28b564965c9548fa959d202864cbce28',\n",
       " 'cacd68136e154478a803c57266118971',\n",
       " '4a31c52293fb42e996acbd3ffa59ff94',\n",
       " '8c4c6ab347b9447195670d2a26f88182',\n",
       " '4b9ace8a8b7b41c4bc6dd43659d03a3e',\n",
       " 'b1b74defb4e74125a1071ba9a8e2995c',\n",
       " 'ba0def2af1ef4aaebcbd4d2620ac420f',\n",
       " 'f72c63b0e0db4701a7202226d91c9312',\n",
       " 'a844e17ae7c847589cf91812deb5bab6',\n",
       " '6830682975ce488e90abd24fae8057fc',\n",
       " '9e51ef191746400bb1f445f817bf9a2d',\n",
       " '40240147f6e1429fb471716770c9f417',\n",
       " '2c4f503ee5a84d58ad45b13fb4ed5414',\n",
       " 'c16e07db1bd64d66b156ef11e92679e9',\n",
       " 'af18141dfd644719a166b1a61a0fa2af',\n",
       " '202a560d0680447a962b35aab385fb48',\n",
       " '12120f93e9784ddf8056284849abcbc6',\n",
       " '4d2b908dbe724b68949395c97829408c',\n",
       " '90e1f504c345422e90d9ce9e2435fd31',\n",
       " '30cd2a2ec5d74dbaac379d478a7166b7',\n",
       " 'f67f9b0cdd334b1da2872f1e3b50a680',\n",
       " '65e52586452e41f5a34e151a8b149c3b',\n",
       " 'a0db2b75160b4066a473fffae3b3df43',\n",
       " 'd7aba382dca846a4b00d27e0537c5755',\n",
       " '11c1bdf3f07542618cd4974f5fde5dcb',\n",
       " '8d06c11a21f749c5819efaf474feddef',\n",
       " '24db8160dd394ca790231afa58776dd7',\n",
       " '7223315379a64ff2a5ef702d21b64ebb',\n",
       " 'e27b042f12cf4f98a7625f8ec084766f',\n",
       " '1d818f56232446e3a3cee28e71feac28',\n",
       " '9f6370d22004446184b670e40e581050']"
      ]
     },
     "execution_count": 11,
     "metadata": {},
     "output_type": "execute_result"
    }
   ],
   "source": [
    "vertex_fs.add_documents(doc_splits)"
   ]
  },
  {
   "cell_type": "markdown",
   "metadata": {
    "id": "Y0RTlZLY_LFP"
   },
   "source": [
    "Verify the BigQueryVectorSearch with similarity search"
   ]
  },
  {
   "cell_type": "code",
   "execution_count": 12,
   "metadata": {
    "colab": {
     "base_uri": "https://localhost:8080/"
    },
    "id": "WAPITufi-Qca",
    "outputId": "558c53e2-eaae-44f3-8b47-1c8d095eadaf"
   },
   "outputs": [
    {
     "data": {
      "text/plain": [
       "[Document(page_content=\"manual.md 2024-03-23\\n21 / 22Wash your vehicle regularly to remove dirt and grime.\\nWax your vehicle twice a year to protect the paint.\\nCheck the tire pressure regularly and adjust it as needed.\\nInspect the brakes regularly for wear and tear.\\nKeep the interior of your vehicle clean and free of debris.\\nBy following these tips, you can help to keep your Cymbal Starlight 2024 in top condition for many years to\\ncome.\\nChapter 18: Emergencies\\nRoadside Assistance\\nIf you experience a roadside emergency, such as a flat tire or a dead battery, you can call roadside\\nassistance for help. Roadside assistance is available 24 hours a day, 7 days a week.\\nTo call roadside assistance, dial the following number:\\n1-800-555-1212\\nWhen you call roadside assistance, be prepared to provide the following information:\\nYour name and contact information\\nYour vehicle's make, model, and year\\nYour vehicle's location\\nThe nature of the emergency\\nFlat Tire\", metadata={'doc_id': '7223315379a64ff2a5ef702d21b64ebb', 'source': 'github-repo/generative-ai/sample-apps/', 'document_name': 'cymbal-starlight-2024.pdf', 'chunk': 56, 'row_num': 0, 'score': 0.7102121538750392}),\n",
       " Document(page_content=\"Horn\\nThe horn is used to alert other drivers and pedestrians of your presence.\\nTo sound the horn, press the horn button located on the steering wheel.\\nEmergency Roadside Assistance\\nYour Cymbal Starlight 2024 comes with 24/7 emergency roadside assistance.\\nTo contact emergency roadside assistance, call the following number: 1-800-555-1212.\\nWhen you call, be prepared to provide the following information:\\nYour name and contact information\\nYour vehicle's make, model, and year\\nYour vehicle's location\\nThe nature of the emergency\\nTire Repair Kit\\nYour Cymbal Starlight 2024 comes with a tire repair kit that can be used to temporarily repair a flat\\ntire.\\nThe tire repair kit is located in the trunk of the vehicle.\\nTo use the tire repair kit, follow the instructions provided in the kit.\\nOther Emergency Tips\\nIf you are involved in an accident, remain calm and call 911 immediately.\\nIf you are able to move your vehicle, pull over to the side of the road and turn on your hazard lights.\", metadata={'doc_id': 'b75da8bffa144d30a8f1cc504da8ed98', 'source': 'github-repo/generative-ai/sample-apps/', 'document_name': 'cymbal-starlight-2024.pdf', 'chunk': 27, 'row_num': 0, 'score': 0.7450164769019703}),\n",
       " Document(page_content='Stay in your vehicle and wait for emergency services to arrive.\\nIf you are stranded in a remote area, stay with your vehicle and try to attract attention by waving your\\narms or using a flashlight.', metadata={'doc_id': '3875fc36bbb9401c9af45f7ec8a7ebb7', 'source': 'github-repo/generative-ai/sample-apps/', 'document_name': 'cymbal-starlight-2024.pdf', 'chunk': 28, 'row_num': 0, 'score': 0.7494790601402347}),\n",
       " Document(page_content='the safety features in your Cymbal Starlight 2024. This chapter provides important information on how to\\nuse the following emergency assistance features:\\nHazard lights\\nHorn\\nEmergency roadside assistance\\nTire repair kit\\nHazard Lights', metadata={'doc_id': '2b24b7ea1850427ab1a51f4bad4d3cef', 'source': 'github-repo/generative-ai/sample-apps/', 'document_name': 'cymbal-starlight-2024.pdf', 'chunk': 7, 'row_num': 0, 'score': 0.7776846853415932}),\n",
       " Document(page_content='playing in or around the vehicle.\\nSet a good example by always wearing your seat belt and obeying traffic laws.\\nBy following these child safety tips, you can help keep your children safe while traveling in your Cymbal\\nStarlight 2024.\\nAdditional Child Safety Features\\nYour Cymbal Starlight 2024 comes equipped with the following child safety features:\\nRear child door locks: These locks prevent children from opening the rear doors from the inside.\\nWindow locks: These locks prevent children from opening the windows from the inside.\\nChild seat anchors: These anchors are located on the rear seats and can be used to secure child\\nrestraints.\\nBy using these child safety features in addition to the child safety tips outlined above, you can help ensure\\nthat your children are safe and secure while riding in your Cymbal Starlight 2024.\\nChapter 3: Emergency Assistance\\nIntroduction\\nIn the event of an emergency, it is important to know how to contact emergency services and how to use', metadata={'doc_id': '2c3c233495a942e3abc9057143596e78', 'source': 'github-repo/generative-ai/sample-apps/', 'document_name': 'cymbal-starlight-2024.pdf', 'chunk': 6, 'row_num': 0, 'score': 0.7797457038273178})]"
      ]
     },
     "execution_count": 12,
     "metadata": {},
     "output_type": "execute_result"
    }
   ],
   "source": [
    "vertex_fs.similarity_search(\n",
    "    \"What should I do when I call the emergency roadside assistance?\"\n",
    ")"
   ]
  },
  {
   "cell_type": "markdown",
   "metadata": {},
   "source": [
    "### Get a langchain retriever\n",
    "The retriever will be used in a Langchain Chain to find the most similar documents for a given query."
   ]
  },
  {
   "cell_type": "code",
   "execution_count": 14,
   "metadata": {},
   "outputs": [],
   "source": [
    "langchain_retriever = vertex_fs.as_retriever()"
   ]
  },
  {
   "cell_type": "markdown",
   "metadata": {},
   "source": [
    "### Compose a Langchain Chain\n",
    "\n",
    "We are going to use the [`RetrievalQA` chain](https://python.langchain.com/docs/modules/chains/popular/vector_db_qa)\n",
    "There are several different chain types available, listed [here](https://docs.langchain.com/docs/components/chains/index_related_chains)."
   ]
  },
  {
   "cell_type": "code",
   "execution_count": 15,
   "metadata": {},
   "outputs": [
    {
     "name": "stdout",
     "output_type": "stream",
     "text": [
      "\u001b[32;1m\u001b[1;3m[chain/start]\u001b[0m \u001b[1m[1:chain:RetrievalQA] Entering Chain run with input:\n",
      "\u001b[0m{\n",
      "  \"query\": \"What should I do when call the emergency roadside assistance?\"\n",
      "}\n",
      "\u001b[32;1m\u001b[1;3m[chain/start]\u001b[0m \u001b[1m[1:chain:RetrievalQA > 3:chain:StuffDocumentsChain] Entering Chain run with input:\n",
      "\u001b[0m[inputs]\n",
      "\u001b[32;1m\u001b[1;3m[chain/start]\u001b[0m \u001b[1m[1:chain:RetrievalQA > 3:chain:StuffDocumentsChain > 4:chain:LLMChain] Entering Chain run with input:\n",
      "\u001b[0m{\n",
      "  \"question\": \"What should I do when call the emergency roadside assistance?\",\n",
      "  \"context\": \"manual.md 2024-03-23\\n21 / 22Wash your vehicle regularly to remove dirt and grime.\\nWax your vehicle twice a year to protect the paint.\\nCheck the tire pressure regularly and adjust it as needed.\\nInspect the brakes regularly for wear and tear.\\nKeep the interior of your vehicle clean and free of debris.\\nBy following these tips, you can help to keep your Cymbal Starlight 2024 in top condition for many years to\\ncome.\\nChapter 18: Emergencies\\nRoadside Assistance\\nIf you experience a roadside emergency, such as a flat tire or a dead battery, you can call roadside\\nassistance for help. Roadside assistance is available 24 hours a day, 7 days a week.\\nTo call roadside assistance, dial the following number:\\n1-800-555-1212\\nWhen you call roadside assistance, be prepared to provide the following information:\\nYour name and contact information\\nYour vehicle's make, model, and year\\nYour vehicle's location\\nThe nature of the emergency\\nFlat Tire\\n\\nStay in your vehicle and wait for emergency services to arrive.\\nIf you are stranded in a remote area, stay with your vehicle and try to attract attention by waving your\\narms or using a flashlight.\\n\\nHorn\\nThe horn is used to alert other drivers and pedestrians of your presence.\\nTo sound the horn, press the horn button located on the steering wheel.\\nEmergency Roadside Assistance\\nYour Cymbal Starlight 2024 comes with 24/7 emergency roadside assistance.\\nTo contact emergency roadside assistance, call the following number: 1-800-555-1212.\\nWhen you call, be prepared to provide the following information:\\nYour name and contact information\\nYour vehicle's make, model, and year\\nYour vehicle's location\\nThe nature of the emergency\\nTire Repair Kit\\nYour Cymbal Starlight 2024 comes with a tire repair kit that can be used to temporarily repair a flat\\ntire.\\nThe tire repair kit is located in the trunk of the vehicle.\\nTo use the tire repair kit, follow the instructions provided in the kit.\\nOther Emergency Tips\\nIf you are involved in an accident, remain calm and call 911 immediately.\\nIf you are able to move your vehicle, pull over to the side of the road and turn on your hazard lights.\\n\\nplaying in or around the vehicle.\\nSet a good example by always wearing your seat belt and obeying traffic laws.\\nBy following these child safety tips, you can help keep your children safe while traveling in your Cymbal\\nStarlight 2024.\\nAdditional Child Safety Features\\nYour Cymbal Starlight 2024 comes equipped with the following child safety features:\\nRear child door locks: These locks prevent children from opening the rear doors from the inside.\\nWindow locks: These locks prevent children from opening the windows from the inside.\\nChild seat anchors: These anchors are located on the rear seats and can be used to secure child\\nrestraints.\\nBy using these child safety features in addition to the child safety tips outlined above, you can help ensure\\nthat your children are safe and secure while riding in your Cymbal Starlight 2024.\\nChapter 3: Emergency Assistance\\nIntroduction\\nIn the event of an emergency, it is important to know how to contact emergency services and how to use\\n\\nthe safety features in your Cymbal Starlight 2024. This chapter provides important information on how to\\nuse the following emergency assistance features:\\nHazard lights\\nHorn\\nEmergency roadside assistance\\nTire repair kit\\nHazard Lights\"\n",
      "}\n",
      "\u001b[32;1m\u001b[1;3m[llm/start]\u001b[0m \u001b[1m[1:chain:RetrievalQA > 3:chain:StuffDocumentsChain > 4:chain:LLMChain > 5:llm:VertexAI] Entering LLM run with input:\n",
      "\u001b[0m{\n",
      "  \"prompts\": [\n",
      "    \"Use the following pieces of context to answer the question at the end. If you don't know the answer, just say that you don't know, don't try to make up an answer.\\n\\nmanual.md 2024-03-23\\n21 / 22Wash your vehicle regularly to remove dirt and grime.\\nWax your vehicle twice a year to protect the paint.\\nCheck the tire pressure regularly and adjust it as needed.\\nInspect the brakes regularly for wear and tear.\\nKeep the interior of your vehicle clean and free of debris.\\nBy following these tips, you can help to keep your Cymbal Starlight 2024 in top condition for many years to\\ncome.\\nChapter 18: Emergencies\\nRoadside Assistance\\nIf you experience a roadside emergency, such as a flat tire or a dead battery, you can call roadside\\nassistance for help. Roadside assistance is available 24 hours a day, 7 days a week.\\nTo call roadside assistance, dial the following number:\\n1-800-555-1212\\nWhen you call roadside assistance, be prepared to provide the following information:\\nYour name and contact information\\nYour vehicle's make, model, and year\\nYour vehicle's location\\nThe nature of the emergency\\nFlat Tire\\n\\nStay in your vehicle and wait for emergency services to arrive.\\nIf you are stranded in a remote area, stay with your vehicle and try to attract attention by waving your\\narms or using a flashlight.\\n\\nHorn\\nThe horn is used to alert other drivers and pedestrians of your presence.\\nTo sound the horn, press the horn button located on the steering wheel.\\nEmergency Roadside Assistance\\nYour Cymbal Starlight 2024 comes with 24/7 emergency roadside assistance.\\nTo contact emergency roadside assistance, call the following number: 1-800-555-1212.\\nWhen you call, be prepared to provide the following information:\\nYour name and contact information\\nYour vehicle's make, model, and year\\nYour vehicle's location\\nThe nature of the emergency\\nTire Repair Kit\\nYour Cymbal Starlight 2024 comes with a tire repair kit that can be used to temporarily repair a flat\\ntire.\\nThe tire repair kit is located in the trunk of the vehicle.\\nTo use the tire repair kit, follow the instructions provided in the kit.\\nOther Emergency Tips\\nIf you are involved in an accident, remain calm and call 911 immediately.\\nIf you are able to move your vehicle, pull over to the side of the road and turn on your hazard lights.\\n\\nplaying in or around the vehicle.\\nSet a good example by always wearing your seat belt and obeying traffic laws.\\nBy following these child safety tips, you can help keep your children safe while traveling in your Cymbal\\nStarlight 2024.\\nAdditional Child Safety Features\\nYour Cymbal Starlight 2024 comes equipped with the following child safety features:\\nRear child door locks: These locks prevent children from opening the rear doors from the inside.\\nWindow locks: These locks prevent children from opening the windows from the inside.\\nChild seat anchors: These anchors are located on the rear seats and can be used to secure child\\nrestraints.\\nBy using these child safety features in addition to the child safety tips outlined above, you can help ensure\\nthat your children are safe and secure while riding in your Cymbal Starlight 2024.\\nChapter 3: Emergency Assistance\\nIntroduction\\nIn the event of an emergency, it is important to know how to contact emergency services and how to use\\n\\nthe safety features in your Cymbal Starlight 2024. This chapter provides important information on how to\\nuse the following emergency assistance features:\\nHazard lights\\nHorn\\nEmergency roadside assistance\\nTire repair kit\\nHazard Lights\\n\\nQuestion: What should I do when call the emergency roadside assistance?\\nHelpful Answer:\"\n",
      "  ]\n",
      "}\n",
      "\u001b[36;1m\u001b[1;3m[llm/end]\u001b[0m \u001b[1m[1:chain:RetrievalQA > 3:chain:StuffDocumentsChain > 4:chain:LLMChain > 5:llm:VertexAI] [2.55s] Exiting LLM run with output:\n",
      "\u001b[0m{\n",
      "  \"generations\": [\n",
      "    [\n",
      "      {\n",
      "        \"text\": \"Here is what you should do when calling the emergency roadside assistance: \\n\\n1. Be prepared to provide the following information: \\n    - Your name and contact information \\n    - Your vehicle's make, model, and year \\n    - Your vehicle's location\\n    - The nature of the emergency\\n2. Stay safe: \\n    - If you are involved in an accident, stay calm and call 911 immediately. \\n    - If you are able to move your vehicle, pull over to the side of the road and turn on your hazard lights.\\n\",\n",
      "        \"generation_info\": {\n",
      "          \"is_blocked\": false,\n",
      "          \"safety_ratings\": [\n",
      "            {\n",
      "              \"category\": \"HARM_CATEGORY_HATE_SPEECH\",\n",
      "              \"probability_label\": \"NEGLIGIBLE\",\n",
      "              \"blocked\": false\n",
      "            },\n",
      "            {\n",
      "              \"category\": \"HARM_CATEGORY_DANGEROUS_CONTENT\",\n",
      "              \"probability_label\": \"NEGLIGIBLE\",\n",
      "              \"blocked\": false\n",
      "            },\n",
      "            {\n",
      "              \"category\": \"HARM_CATEGORY_HARASSMENT\",\n",
      "              \"probability_label\": \"NEGLIGIBLE\",\n",
      "              \"blocked\": false\n",
      "            },\n",
      "            {\n",
      "              \"category\": \"HARM_CATEGORY_SEXUALLY_EXPLICIT\",\n",
      "              \"probability_label\": \"NEGLIGIBLE\",\n",
      "              \"blocked\": false\n",
      "            }\n",
      "          ],\n",
      "          \"citation_metadata\": null,\n",
      "          \"usage_metadata\": {\n",
      "            \"prompt_token_count\": 837,\n",
      "            \"candidates_token_count\": 122,\n",
      "            \"total_token_count\": 959\n",
      "          }\n",
      "        },\n",
      "        \"type\": \"Generation\"\n",
      "      }\n",
      "    ]\n",
      "  ],\n",
      "  \"llm_output\": null,\n",
      "  \"run\": null\n",
      "}\n",
      "\u001b[36;1m\u001b[1;3m[chain/end]\u001b[0m \u001b[1m[1:chain:RetrievalQA > 3:chain:StuffDocumentsChain > 4:chain:LLMChain] [2.56s] Exiting Chain run with output:\n",
      "\u001b[0m{\n",
      "  \"text\": \"Here is what you should do when calling the emergency roadside assistance: \\n\\n1. Be prepared to provide the following information: \\n    - Your name and contact information \\n    - Your vehicle's make, model, and year \\n    - Your vehicle's location\\n    - The nature of the emergency\\n2. Stay safe: \\n    - If you are involved in an accident, stay calm and call 911 immediately. \\n    - If you are able to move your vehicle, pull over to the side of the road and turn on your hazard lights.\\n\"\n",
      "}\n",
      "\u001b[36;1m\u001b[1;3m[chain/end]\u001b[0m \u001b[1m[1:chain:RetrievalQA > 3:chain:StuffDocumentsChain] [2.56s] Exiting Chain run with output:\n",
      "\u001b[0m{\n",
      "  \"output_text\": \"Here is what you should do when calling the emergency roadside assistance: \\n\\n1. Be prepared to provide the following information: \\n    - Your name and contact information \\n    - Your vehicle's make, model, and year \\n    - Your vehicle's location\\n    - The nature of the emergency\\n2. Stay safe: \\n    - If you are involved in an accident, stay calm and call 911 immediately. \\n    - If you are able to move your vehicle, pull over to the side of the road and turn on your hazard lights.\\n\"\n",
      "}\n",
      "\u001b[36;1m\u001b[1;3m[chain/end]\u001b[0m \u001b[1m[1:chain:RetrievalQA] [3.99s] Exiting Chain run with output:\n",
      "\u001b[0m{\n",
      "  \"result\": \"Here is what you should do when calling the emergency roadside assistance: \\n\\n1. Be prepared to provide the following information: \\n    - Your name and contact information \\n    - Your vehicle's make, model, and year \\n    - Your vehicle's location\\n    - The nature of the emergency\\n2. Stay safe: \\n    - If you are involved in an accident, stay calm and call 911 immediately. \\n    - If you are able to move your vehicle, pull over to the side of the road and turn on your hazard lights.\\n\"\n",
      "}\n",
      "\n",
      "################ Final Answer ################\n",
      "\n",
      "Here is what you should do when calling the emergency roadside assistance: \n",
      "\n",
      "1. Be prepared to provide the following information: \n",
      "    - Your name and contact information \n",
      "    - Your vehicle's make, model, and year \n",
      "    - Your vehicle's location\n",
      "    - The nature of the emergency\n",
      "2. Stay safe: \n",
      "    - If you are involved in an accident, stay calm and call 911 immediately. \n",
      "    - If you are able to move your vehicle, pull over to the side of the road and turn on your hazard lights.\n",
      "\n",
      "CPU times: user 111 ms, sys: 36.6 ms, total: 148 ms\n",
      "Wall time: 4.07 s\n"
     ]
    }
   ],
   "source": [
    "%%time\n",
    "from langchain_google_vertexai import VertexAI\n",
    "from langchain.chains import RetrievalQA\n",
    "from langchain.globals import set_debug\n",
    "\n",
    "# Set high verbosity\n",
    "set_debug(True)\n",
    "\n",
    "llm = VertexAI(model_name=\"gemini-pro\")\n",
    "\n",
    "search_query = \"What should I do when call the emergency roadside assistance?\"  # @param {type:\"string\"}\n",
    "\n",
    "retrieval_qa = RetrievalQA.from_chain_type(\n",
    "    llm=llm, chain_type=\"stuff\", retriever=langchain_retriever\n",
    ")\n",
    "response = retrieval_qa.invoke(search_query)\n",
    "print(\"\\n################ Final Answer ################\\n\")\n",
    "print(response[\"result\"])"
   ]
  },
  {
   "cell_type": "markdown",
   "metadata": {},
   "source": [
    "## Low latency Vector Search with FeatureStore\n",
    "\n",
    "We are now ready to perform low latency serving with Feature Store! \n",
    "\n",
    "To do that, you can simply use the method `set_executor`, to `feature_online_store` type. \n",
    "\n",
    "See the [function definition](TODO) for all the parameters you can use."
   ]
  },
  {
   "cell_type": "code",
   "execution_count": 22,
   "metadata": {},
   "outputs": [],
   "source": [
    "vertex_fs.set_executor({\"type\": \"feature_online_store\", \"view_name\": \"mytest1\" })"
   ]
  },
  {
   "cell_type": "markdown",
   "metadata": {},
   "source": [
    "#### Kick off a synchronization process\n",
    "\n",
    "You can use the method `sync` to synchronize the data from BigQuery to the Feature Online Store, to achieve low latency serving.\n",
    "When in a production environment, you can also use `cron_schedule` to setup an automatic scheduled synchronization. \n",
    "\n",
    "The synchronization process will take around ~20 minutes. "
   ]
  },
  {
   "cell_type": "code",
   "execution_count": 25,
   "metadata": {
    "scrolled": true
   },
   "outputs": [
    {
     "name": "stdout",
     "output_type": "stream",
     "text": [
      "Sync ongoing, waiting for 30 seconds.\n",
      "Sync ongoing, waiting for 30 seconds.\n",
      "Sync ongoing, waiting for 30 seconds.\n",
      "Sync ongoing, waiting for 30 seconds.\n",
      "Sync ongoing, waiting for 30 seconds.\n",
      "Sync ongoing, waiting for 30 seconds.\n",
      "Sync ongoing, waiting for 30 seconds.\n",
      "Sync ongoing, waiting for 30 seconds.\n",
      "Sync ongoing, waiting for 30 seconds.\n",
      "Sync ongoing, waiting for 30 seconds.\n",
      "Sync ongoing, waiting for 30 seconds.\n",
      "Sync ongoing, waiting for 30 seconds.\n",
      "Sync ongoing, waiting for 30 seconds.\n",
      "Sync ongoing, waiting for 30 seconds.\n",
      "Sync ongoing, waiting for 30 seconds.\n",
      "Sync ongoing, waiting for 30 seconds.\n",
      "Sync ongoing, waiting for 30 seconds.\n",
      "Sync ongoing, waiting for 30 seconds.\n",
      "Sync ongoing, waiting for 30 seconds.\n",
      "Sync ongoing, waiting for 30 seconds.\n",
      "Sync ongoing, waiting for 30 seconds.\n",
      "Sync ongoing, waiting for 30 seconds.\n",
      "Sync ongoing, waiting for 30 seconds.\n",
      "Sync ongoing, waiting for 30 seconds.\n",
      "Sync ongoing, waiting for 30 seconds.\n",
      "Sync ongoing, waiting for 30 seconds.\n",
      "Sync ongoing, waiting for 30 seconds.\n",
      "Sync ongoing, waiting for 30 seconds.\n",
      "Sync ongoing, waiting for 30 seconds.\n",
      "Sync ongoing, waiting for 30 seconds.\n",
      "Sync ongoing, waiting for 30 seconds.\n",
      "Sync ongoing, waiting for 30 seconds.\n",
      "Sync ongoing, waiting for 30 seconds.\n",
      "Sync ongoing, waiting for 30 seconds.\n",
      "Sync ongoing, waiting for 30 seconds.\n",
      "Sync ongoing, waiting for 30 seconds.\n",
      "Sync ongoing, waiting for 30 seconds.\n",
      "Sync ongoing, waiting for 30 seconds.\n",
      "Sync ongoing, waiting for 30 seconds.\n",
      "Sync ongoing, waiting for 30 seconds.\n",
      "Sync ongoing, waiting for 30 seconds.\n",
      "Sync ongoing, waiting for 30 seconds.\n",
      "Sync ongoing, waiting for 30 seconds.\n",
      "Sync ongoing, waiting for 30 seconds.\n",
      "Sync ongoing, waiting for 30 seconds.\n",
      "Sync ongoing, waiting for 30 seconds.\n",
      "Sync ongoing, waiting for 30 seconds.\n",
      "Sync ongoing, waiting for 30 seconds.\n",
      "Sync ongoing, waiting for 30 seconds.\n",
      "Sync ongoing, waiting for 30 seconds.\n",
      "Sync ongoing, waiting for 30 seconds.\n",
      "Sync ongoing, waiting for 30 seconds.\n",
      "Sync ongoing, waiting for 30 seconds.\n",
      "Sync ongoing, waiting for 30 seconds.\n",
      "Sync ongoing, waiting for 30 seconds.\n",
      "Sync ongoing, waiting for 30 seconds.\n",
      "Sync ongoing, waiting for 30 seconds.\n",
      "Sync ongoing, waiting for 30 seconds.\n",
      "Sync Succeed for projects/cloud-llm-preview2/locations/europe-west4/featureOnlineStores/vertex_documentation/featureViews/mytest1/featureViewSyncs/3466187179380703232.\n"
     ]
    }
   ],
   "source": [
    "vertex_fs.sync()"
   ]
  },
  {
   "cell_type": "markdown",
   "metadata": {},
   "source": [
    "You can also monitor the synchronization process from GCP Console: [Vertex AI Feature Store Tab](https://console.cloud.google.com/vertex-ai/feature-store/online-stores)"
   ]
  },
  {
   "cell_type": "markdown",
   "metadata": {},
   "source": [
    "#### Serve with Feature Online Store\n",
    "\n",
    "You are now ready to serve with Feature Store! You can re-use the same retriever to perform low-latency Vector Search."
   ]
  },
  {
   "cell_type": "code",
   "execution_count": 21,
   "metadata": {},
   "outputs": [
    {
     "data": {
      "text/plain": [
       "Document(page_content=\"manual.md 2024-03-23\\n21 / 22Wash your vehicle regularly to remove dirt and grime.\\nWax your vehicle twice a year to protect the paint.\\nCheck the tire pressure regularly and adjust it as needed.\\nInspect the brakes regularly for wear and tear.\\nKeep the interior of your vehicle clean and free of debris.\\nBy following these tips, you can help to keep your Cymbal Starlight 2024 in top condition for many years to\\ncome.\\nChapter 18: Emergencies\\nRoadside Assistance\\nIf you experience a roadside emergency, such as a flat tire or a dead battery, you can call roadside\\nassistance for help. Roadside assistance is available 24 hours a day, 7 days a week.\\nTo call roadside assistance, dial the following number:\\n1-800-555-1212\\nWhen you call roadside assistance, be prepared to provide the following information:\\nYour name and contact information\\nYour vehicle's make, model, and year\\nYour vehicle's location\\nThe nature of the emergency\\nFlat Tire\", metadata={'doc_id': '7223315379a64ff2a5ef702d21b64ebb', 'source': 'github-repo/generative-ai/sample-apps/', 'document_name': 'cymbal-starlight-2024.pdf', 'chunk': 56, 'row_num': 0, 'score': 0.719137556729549})"
      ]
     },
     "execution_count": 21,
     "metadata": {},
     "output_type": "execute_result"
    }
   ],
   "source": [
    "results = langchain_retriever.invoke(search_query)\n",
    "results[0]"
   ]
  },
  {
   "cell_type": "code",
   "execution_count": 24,
   "metadata": {},
   "outputs": [
    {
     "name": "stdout",
     "output_type": "stream",
     "text": [
      "CPU times: user 15.7 ms, sys: 3.57 ms, total: 19.2 ms\n",
      "Wall time: 438 ms\n"
     ]
    }
   ],
   "source": [
    "%%time\n",
    "results = langchain_retriever.invoke(\"Leaks under the vehicle\")"
   ]
  },
  {
   "cell_type": "code",
   "execution_count": 25,
   "metadata": {},
   "outputs": [
    {
     "name": "stdout",
     "output_type": "stream",
     "text": [
      "\u001b[32;1m\u001b[1;3m[chain/start]\u001b[0m \u001b[1m[1:chain:RetrievalQA] Entering Chain run with input:\n",
      "\u001b[0m{\n",
      "  \"query\": \"What should I do when call the emergency roadside assistance?\"\n",
      "}\n",
      "\u001b[32;1m\u001b[1;3m[chain/start]\u001b[0m \u001b[1m[1:chain:RetrievalQA > 3:chain:StuffDocumentsChain] Entering Chain run with input:\n",
      "\u001b[0m[inputs]\n",
      "\u001b[32;1m\u001b[1;3m[chain/start]\u001b[0m \u001b[1m[1:chain:RetrievalQA > 3:chain:StuffDocumentsChain > 4:chain:LLMChain] Entering Chain run with input:\n",
      "\u001b[0m{\n",
      "  \"question\": \"What should I do when call the emergency roadside assistance?\",\n",
      "  \"context\": \"manual.md 2024-03-23\\n21 / 22Wash your vehicle regularly to remove dirt and grime.\\nWax your vehicle twice a year to protect the paint.\\nCheck the tire pressure regularly and adjust it as needed.\\nInspect the brakes regularly for wear and tear.\\nKeep the interior of your vehicle clean and free of debris.\\nBy following these tips, you can help to keep your Cymbal Starlight 2024 in top condition for many years to\\ncome.\\nChapter 18: Emergencies\\nRoadside Assistance\\nIf you experience a roadside emergency, such as a flat tire or a dead battery, you can call roadside\\nassistance for help. Roadside assistance is available 24 hours a day, 7 days a week.\\nTo call roadside assistance, dial the following number:\\n1-800-555-1212\\nWhen you call roadside assistance, be prepared to provide the following information:\\nYour name and contact information\\nYour vehicle's make, model, and year\\nYour vehicle's location\\nThe nature of the emergency\\nFlat Tire\\n\\nmanual.md 2024-03-23\\n21 / 22Wash your vehicle regularly to remove dirt and grime.\\nWax your vehicle twice a year to protect the paint.\\nCheck the tire pressure regularly and adjust it as needed.\\nInspect the brakes regularly for wear and tear.\\nKeep the interior of your vehicle clean and free of debris.\\nBy following these tips, you can help to keep your Cymbal Starlight 2024 in top condition for many years to\\ncome.\\nChapter 18: Emergencies\\nRoadside Assistance\\nIf you experience a roadside emergency, such as a flat tire or a dead battery, you can call roadside\\nassistance for help. Roadside assistance is available 24 hours a day, 7 days a week.\\nTo call roadside assistance, dial the following number:\\n1-800-555-1212\\nWhen you call roadside assistance, be prepared to provide the following information:\\nYour name and contact information\\nYour vehicle's make, model, and year\\nYour vehicle's location\\nThe nature of the emergency\\nFlat Tire\\n\\nmanual.md 2024-03-23\\n21 / 22Wash your vehicle regularly to remove dirt and grime.\\nWax your vehicle twice a year to protect the paint.\\nCheck the tire pressure regularly and adjust it as needed.\\nInspect the brakes regularly for wear and tear.\\nKeep the interior of your vehicle clean and free of debris.\\nBy following these tips, you can help to keep your Cymbal Starlight 2024 in top condition for many years to\\ncome.\\nChapter 18: Emergencies\\nRoadside Assistance\\nIf you experience a roadside emergency, such as a flat tire or a dead battery, you can call roadside\\nassistance for help. Roadside assistance is available 24 hours a day, 7 days a week.\\nTo call roadside assistance, dial the following number:\\n1-800-555-1212\\nWhen you call roadside assistance, be prepared to provide the following information:\\nYour name and contact information\\nYour vehicle's make, model, and year\\nYour vehicle's location\\nThe nature of the emergency\\nFlat Tire\\n\\nStay in your vehicle and wait for emergency services to arrive.\\nIf you are stranded in a remote area, stay with your vehicle and try to attract attention by waving your\\narms or using a flashlight.\\n\\nStay in your vehicle and wait for emergency services to arrive.\\nIf you are stranded in a remote area, stay with your vehicle and try to attract attention by waving your\\narms or using a flashlight.\"\n",
      "}\n",
      "\u001b[32;1m\u001b[1;3m[llm/start]\u001b[0m \u001b[1m[1:chain:RetrievalQA > 3:chain:StuffDocumentsChain > 4:chain:LLMChain > 5:llm:VertexAI] Entering LLM run with input:\n",
      "\u001b[0m{\n",
      "  \"prompts\": [\n",
      "    \"Use the following pieces of context to answer the question at the end. If you don't know the answer, just say that you don't know, don't try to make up an answer.\\n\\nmanual.md 2024-03-23\\n21 / 22Wash your vehicle regularly to remove dirt and grime.\\nWax your vehicle twice a year to protect the paint.\\nCheck the tire pressure regularly and adjust it as needed.\\nInspect the brakes regularly for wear and tear.\\nKeep the interior of your vehicle clean and free of debris.\\nBy following these tips, you can help to keep your Cymbal Starlight 2024 in top condition for many years to\\ncome.\\nChapter 18: Emergencies\\nRoadside Assistance\\nIf you experience a roadside emergency, such as a flat tire or a dead battery, you can call roadside\\nassistance for help. Roadside assistance is available 24 hours a day, 7 days a week.\\nTo call roadside assistance, dial the following number:\\n1-800-555-1212\\nWhen you call roadside assistance, be prepared to provide the following information:\\nYour name and contact information\\nYour vehicle's make, model, and year\\nYour vehicle's location\\nThe nature of the emergency\\nFlat Tire\\n\\nmanual.md 2024-03-23\\n21 / 22Wash your vehicle regularly to remove dirt and grime.\\nWax your vehicle twice a year to protect the paint.\\nCheck the tire pressure regularly and adjust it as needed.\\nInspect the brakes regularly for wear and tear.\\nKeep the interior of your vehicle clean and free of debris.\\nBy following these tips, you can help to keep your Cymbal Starlight 2024 in top condition for many years to\\ncome.\\nChapter 18: Emergencies\\nRoadside Assistance\\nIf you experience a roadside emergency, such as a flat tire or a dead battery, you can call roadside\\nassistance for help. Roadside assistance is available 24 hours a day, 7 days a week.\\nTo call roadside assistance, dial the following number:\\n1-800-555-1212\\nWhen you call roadside assistance, be prepared to provide the following information:\\nYour name and contact information\\nYour vehicle's make, model, and year\\nYour vehicle's location\\nThe nature of the emergency\\nFlat Tire\\n\\nmanual.md 2024-03-23\\n21 / 22Wash your vehicle regularly to remove dirt and grime.\\nWax your vehicle twice a year to protect the paint.\\nCheck the tire pressure regularly and adjust it as needed.\\nInspect the brakes regularly for wear and tear.\\nKeep the interior of your vehicle clean and free of debris.\\nBy following these tips, you can help to keep your Cymbal Starlight 2024 in top condition for many years to\\ncome.\\nChapter 18: Emergencies\\nRoadside Assistance\\nIf you experience a roadside emergency, such as a flat tire or a dead battery, you can call roadside\\nassistance for help. Roadside assistance is available 24 hours a day, 7 days a week.\\nTo call roadside assistance, dial the following number:\\n1-800-555-1212\\nWhen you call roadside assistance, be prepared to provide the following information:\\nYour name and contact information\\nYour vehicle's make, model, and year\\nYour vehicle's location\\nThe nature of the emergency\\nFlat Tire\\n\\nStay in your vehicle and wait for emergency services to arrive.\\nIf you are stranded in a remote area, stay with your vehicle and try to attract attention by waving your\\narms or using a flashlight.\\n\\nStay in your vehicle and wait for emergency services to arrive.\\nIf you are stranded in a remote area, stay with your vehicle and try to attract attention by waving your\\narms or using a flashlight.\\n\\nQuestion: What should I do when call the emergency roadside assistance?\\nHelpful Answer:\"\n",
      "  ]\n",
      "}\n",
      "\u001b[36;1m\u001b[1;3m[llm/end]\u001b[0m \u001b[1m[1:chain:RetrievalQA > 3:chain:StuffDocumentsChain > 4:chain:LLMChain > 5:llm:VertexAI] [4.50s] Exiting LLM run with output:\n",
      "\u001b[0m{\n",
      "  \"generations\": [\n",
      "    [\n",
      "      {\n",
      "        \"text\": \"The emergency roadside assistance number is 1-800-555-1212. When you call, make sure to have the following information ready for the operator: \\n\\n-Your name and contact information\\n-Your vehicle's make, model, and year\\n-Your vehicle's location\\n-The nature of the emergency\\n\",\n",
      "        \"generation_info\": {\n",
      "          \"is_blocked\": false,\n",
      "          \"safety_ratings\": [\n",
      "            {\n",
      "              \"category\": \"HARM_CATEGORY_HATE_SPEECH\",\n",
      "              \"probability_label\": \"NEGLIGIBLE\",\n",
      "              \"blocked\": false\n",
      "            },\n",
      "            {\n",
      "              \"category\": \"HARM_CATEGORY_DANGEROUS_CONTENT\",\n",
      "              \"probability_label\": \"LOW\",\n",
      "              \"blocked\": false\n",
      "            },\n",
      "            {\n",
      "              \"category\": \"HARM_CATEGORY_HARASSMENT\",\n",
      "              \"probability_label\": \"NEGLIGIBLE\",\n",
      "              \"blocked\": false\n",
      "            },\n",
      "            {\n",
      "              \"category\": \"HARM_CATEGORY_SEXUALLY_EXPLICIT\",\n",
      "              \"probability_label\": \"NEGLIGIBLE\",\n",
      "              \"blocked\": false\n",
      "            }\n",
      "          ],\n",
      "          \"citation_metadata\": null,\n",
      "          \"usage_metadata\": {\n",
      "            \"prompt_token_count\": 861,\n",
      "            \"candidates_token_count\": 73,\n",
      "            \"total_token_count\": 934\n",
      "          }\n",
      "        },\n",
      "        \"type\": \"Generation\"\n",
      "      }\n",
      "    ]\n",
      "  ],\n",
      "  \"llm_output\": null,\n",
      "  \"run\": null\n",
      "}\n",
      "\u001b[36;1m\u001b[1;3m[chain/end]\u001b[0m \u001b[1m[1:chain:RetrievalQA > 3:chain:StuffDocumentsChain > 4:chain:LLMChain] [4.51s] Exiting Chain run with output:\n",
      "\u001b[0m{\n",
      "  \"text\": \"The emergency roadside assistance number is 1-800-555-1212. When you call, make sure to have the following information ready for the operator: \\n\\n-Your name and contact information\\n-Your vehicle's make, model, and year\\n-Your vehicle's location\\n-The nature of the emergency\\n\"\n",
      "}\n",
      "\u001b[36;1m\u001b[1;3m[chain/end]\u001b[0m \u001b[1m[1:chain:RetrievalQA > 3:chain:StuffDocumentsChain] [4.51s] Exiting Chain run with output:\n",
      "\u001b[0m{\n",
      "  \"output_text\": \"The emergency roadside assistance number is 1-800-555-1212. When you call, make sure to have the following information ready for the operator: \\n\\n-Your name and contact information\\n-Your vehicle's make, model, and year\\n-Your vehicle's location\\n-The nature of the emergency\\n\"\n",
      "}\n",
      "\u001b[36;1m\u001b[1;3m[chain/end]\u001b[0m \u001b[1m[1:chain:RetrievalQA] [4.95s] Exiting Chain run with output:\n",
      "\u001b[0m{\n",
      "  \"result\": \"The emergency roadside assistance number is 1-800-555-1212. When you call, make sure to have the following information ready for the operator: \\n\\n-Your name and contact information\\n-Your vehicle's make, model, and year\\n-Your vehicle's location\\n-The nature of the emergency\\n\"\n",
      "}\n",
      "\n",
      "################ Final Answer ################\n",
      "\n",
      "The emergency roadside assistance number is 1-800-555-1212. When you call, make sure to have the following information ready for the operator: \n",
      "\n",
      "-Your name and contact information\n",
      "-Your vehicle's make, model, and year\n",
      "-Your vehicle's location\n",
      "-The nature of the emergency\n",
      "\n",
      "CPU times: user 39.9 ms, sys: 24.7 ms, total: 64.6 ms\n",
      "Wall time: 4.96 s\n"
     ]
    }
   ],
   "source": [
    "%%time\n",
    "response = retrieval_qa.invoke(search_query)\n",
    "print(\"\\n################ Final Answer ################\\n\")\n",
    "print(response[\"result\"])"
   ]
  },
  {
   "cell_type": "markdown",
   "metadata": {},
   "source": [
    "### Filtering by metadata\n"
   ]
  },
  {
   "cell_type": "markdown",
   "metadata": {},
   "source": [
    "# Appendix\n",
    "\n",
    "We add here other useful examples to work with the `VertexFeatureStore` Langchain integration."
   ]
  },
  {
   "cell_type": "markdown",
   "metadata": {},
   "source": [
    "### Local Bruteforce\n",
    "\n",
    "You can also prototype by using a (local) bruteforce executor. During initialization, data is downloaded from BQ to your memory.\n",
    "\n",
    "You can use it for prototyping when the number of documents is low. "
   ]
  },
  {
   "cell_type": "code",
   "execution_count": 26,
   "metadata": {},
   "outputs": [
    {
     "name": "stdout",
     "output_type": "stream",
     "text": [
      "Reading data from cloud-llm-preview2.vertex_documentation.mytest4. It might take a few minutes...\n"
     ]
    }
   ],
   "source": [
    "vertex_fs.set_executor({\"type\":\"brute_force\"})"
   ]
  },
  {
   "cell_type": "code",
   "execution_count": 27,
   "metadata": {},
   "outputs": [
    {
     "name": "stdout",
     "output_type": "stream",
     "text": [
      "CPU times: user 47.4 ms, sys: 20.7 ms, total: 68.1 ms\n",
      "Wall time: 300 ms\n"
     ]
    },
    {
     "data": {
      "text/plain": [
       "Document(page_content='and a visual alert. If you do not take corrective action, the lane keeping assist system will gently steer the\\nvehicle back into the lane.\\nIf the automatic support system detects that you are approaching another vehicle too quickly, it will warn\\nyou with a chime and a visual alert. If you do not take corrective action, the automatic emergency braking\\nsystem can automatically apply the brakes to avoid a collision.\\nTips for Using Cruise Control and the Automatic Support System\\nCruise control is not a substitute for attentive driving. Always be aware of your surroundings and be\\nprepared to take control of the vehicle at any time.\\nThe automatic support system is designed to assist you in driving, but it does not replace the need\\nfor you to be attentive and in control of the vehicle.', metadata={'doc_id': '9e2d6feaaa9740e2b0bec3486e9304b2', 'content': 'and a visual alert. If you do not take corrective action, the lane keeping assist system will gently steer the\\nvehicle back into the lane.\\nIf the automatic support system detects that you are approaching another vehicle too quickly, it will warn\\nyou with a chime and a visual alert. If you do not take corrective action, the automatic emergency braking\\nsystem can automatically apply the brakes to avoid a collision.\\nTips for Using Cruise Control and the Automatic Support System\\nCruise control is not a substitute for attentive driving. Always be aware of your surroundings and be\\nprepared to take control of the vehicle at any time.\\nThe automatic support system is designed to assist you in driving, but it does not replace the need\\nfor you to be attentive and in control of the vehicle.', 'source': 'github-repo/generative-ai/sample-apps/', 'document_name': 'cymbal-starlight-2024.pdf', 'chunk': 25})"
      ]
     },
     "execution_count": 27,
     "metadata": {},
     "output_type": "execute_result"
    }
   ],
   "source": [
    "%%time\n",
    "langchain_retriever.invoke(\"Lane departure warning?\")[1]"
   ]
  },
  {
   "cell_type": "markdown",
   "metadata": {},
   "source": [
    "### Max Marginal Relevance"
   ]
  },
  {
   "cell_type": "code",
   "execution_count": 28,
   "metadata": {},
   "outputs": [],
   "source": [
    "mmr_retriever = vertex_fs.as_retriever(search_type=\"mmr\")"
   ]
  },
  {
   "cell_type": "code",
   "execution_count": 29,
   "metadata": {},
   "outputs": [
    {
     "data": {
      "text/plain": [
       "Document(page_content=\"A loss of traction\\nOther Warning Lights\\nThe following other warning lights may illuminate in the instrument cluster of your Cymbal Starlight 2024:\\nAirbag warning light: The airbag warning light indicates a problem with the vehicle's airbag system.\\nThis light may illuminate for a variety of reasons, including:\", metadata={'doc_id': 'b1b74defb4e74125a1071ba9a8e2995c', 'content': \"A loss of traction\\nOther Warning Lights\\nThe following other warning lights may illuminate in the instrument cluster of your Cymbal Starlight 2024:\\nAirbag warning light: The airbag warning light indicates a problem with the vehicle's airbag system.\\nThis light may illuminate for a variety of reasons, including:\", 'source': 'github-repo/generative-ai/sample-apps/', 'document_name': 'cymbal-starlight-2024.pdf', 'chunk': 34})"
      ]
     },
     "execution_count": 29,
     "metadata": {},
     "output_type": "execute_result"
    }
   ],
   "source": [
    "mmr_retriever.invoke(\"Lane departure warning?\")[1]"
   ]
  },
  {
   "cell_type": "markdown",
   "metadata": {},
   "source": [
    "### Get documents by ID\n",
    "\n",
    "You can also use the function `get_documents` to retrieve a set of documents given a document ID:\n"
   ]
  },
  {
   "cell_type": "code",
   "execution_count": 22,
   "metadata": {},
   "outputs": [
    {
     "data": {
      "text/plain": [
       "[Document(page_content=\"manual.md 2024-03-23\\n1 / 22\\nCymbal Starlight 2024: Owner's Manual\\nChapter 1: Safety\\nIntroduction\\nYour safety and the safety of others is paramount. This chapter provides important information to help you\\noperate your Cymbal Starlight 2024 safely and responsibly. Please read and understand this information\\nthoroughly before operating your vehicle.\\nSeat Belts\\nAll occupants must wear seat belts at all times.\\nAdjust the seat belt to fit snugly around your hips and across your chest.\\nNever wear a seat belt under your arm or behind your back.\\nReplace any seat belt that has been damaged or frayed.\\nAirbags\\nAirbags are supplemental restraints and work in conjunction with seat belts to provide additional\\nprotection in the event of a collision.\\nDo not place objects on or near the airbag deployment areas (e.g., dashboard, steering wheel, seat\\nbacks).\\nChildren under the age of 12 should never ride in the front seat.\", metadata={'source': 'github-repo/generative-ai/sample-apps/', 'document_name': 'cymbal-starlight-2024.pdf', 'chunk': 0, '__id': '7f6bada88be94d72a13f0269cc64f9f3'})]"
      ]
     },
     "execution_count": 22,
     "metadata": {},
     "output_type": "execute_result"
    }
   ],
   "source": [
    "vertex_fs.get_documents(ids=[\"Your document ID\"])"
   ]
  },
  {
   "cell_type": "code",
   "execution_count": null,
   "metadata": {},
   "outputs": [],
   "source": []
  }
 ],
 "metadata": {
  "kernelspec": {
   "display_name": "Python 3 (ipykernel)",
   "language": "python",
   "name": "python3"
  },
  "language_info": {
   "codemirror_mode": {
    "name": "ipython",
    "version": 3
   },
   "file_extension": ".py",
   "mimetype": "text/x-python",
   "name": "python",
   "nbconvert_exporter": "python",
   "pygments_lexer": "ipython3",
   "version": "3.10.9"
  }
 },
 "nbformat": 4,
 "nbformat_minor": 4
}
