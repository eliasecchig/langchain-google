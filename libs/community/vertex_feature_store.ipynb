{
 "cells": [
  {
   "cell_type": "markdown",
   "metadata": {},
   "source": [
    "# Building a GenAI RAG application with Feature Store and BigQuery\n",
    "\n",
    "## Overview\n",
    "This notebook guides you through building a low-latency vector search system for your GenAI application using Vertex AI Feature Store. We'll leverage the [Vertex Feature Store Langchain integration]([link to integration]) to streamline this process.\n",
    "\n",
    "Feature Store seamlessly integrates with BigQuery, providing a unified data storage and flexible vector search options:\n",
    "\n",
    "- **BigQuery Vector Search**: Ideal for batch retrieval and prototyping, as it requires no infrastructure setup.\n",
    "- **Feature Store Online Store**: Enables low-latency retrieval with manual or scheduled data sync. Perfect for production-ready user-facing GenAI applications.\n",
    "![Image notebook journey](diagram_journey.png)\n"
   ]
  },
  {
   "cell_type": "markdown",
   "metadata": {},
   "source": [
    "# Setup\n"
   ]
  },
  {
   "cell_type": "markdown",
   "metadata": {},
   "source": [
    "### Install libraries"
   ]
  },
  {
   "cell_type": "code",
   "execution_count": null,
   "metadata": {
    "scrolled": true
   },
   "outputs": [],
   "source": [
    "!pip install langchain-google-vertexai pypdf==4.2.0 langchain pyarrow==16.0.0 db-dtypes==1.2.0 --upgrade"
   ]
  },
  {
   "cell_type": "markdown",
   "metadata": {
    "id": "Xe7OuYuGkLKF"
   },
   "source": [
    "### Authenticating your notebook environment\n",
    "* If you are using **Colab** to run this notebook, uncomment the cell below and continue.\n",
    "* If you are using **Vertex AI Workbench**, check out the setup instructions [here](https://github.com/GoogleCloudPlatform/generative-ai/tree/main/setup-env)."
   ]
  },
  {
   "cell_type": "code",
   "execution_count": null,
   "metadata": {
    "id": "U9Gx2SAZkLKF"
   },
   "outputs": [],
   "source": [
    "# from google.colab import auth\n",
    "\n",
    "# auth.authenticate_user()"
   ]
  },
  {
   "cell_type": "markdown",
   "metadata": {
    "id": "JxH62gFHCFPj"
   },
   "source": [
    "### Import libraries"
   ]
  },
  {
   "cell_type": "code",
   "execution_count": null,
   "metadata": {},
   "outputs": [],
   "source": [
    "# import sys\n",
    "# sys.path.append(\"../\")"
   ]
  },
  {
   "cell_type": "code",
   "execution_count": null,
   "metadata": {
    "scrolled": true
   },
   "outputs": [],
   "source": [
    "%load_ext autoreload\n",
    "%autoreload 2\n",
    "from langchain_google_community import VertexFSVectorStore\n",
    "from langchain_google_community import BigQueryVectorStore"
   ]
  },
  {
   "cell_type": "markdown",
   "metadata": {},
   "source": [
    "### Define environment variables"
   ]
  },
  {
   "cell_type": "code",
   "execution_count": null,
   "metadata": {},
   "outputs": [],
   "source": [
    "PROJECT_ID = \"cloud-llm-preview2\"\n",
    "DATASET = \"vertex_documentation_new1\"\n",
    "TABLE = \"mytest4\"\n",
    "REGION = \"europe-west4\""
   ]
  },
  {
   "cell_type": "markdown",
   "metadata": {
    "id": "LDSM2ZQa8eBs"
   },
   "source": [
    "# Add documents to `VertexAIFeatureStore`\n",
    "\n",
    "This step ingests and parse PDF documents, split them, generate embeddings and add the embeddings to the vector store. The document corpus used as dataset is a collection of owners car manual."
   ]
  },
  {
   "cell_type": "markdown",
   "metadata": {
    "id": "dIML1Ttj5nTk"
   },
   "source": [
    "**Summary steps**\n",
    "- Create text embeddings: LangChain `VertexAIEmbeddings`\n",
    "- Ingest PDF files: LangChain `PyPDFLoader`\n",
    "- Chunk documents: LangChain `TextSplitter`\n",
    "- Create Vector Store: LangChain  `VertexAIFeatureStore` "
   ]
  },
  {
   "cell_type": "markdown",
   "metadata": {
    "id": "q3hRmLiY2O0w"
   },
   "source": [
    "### Create the VertexAI Embedding model"
   ]
  },
  {
   "cell_type": "code",
   "execution_count": null,
   "metadata": {
    "id": "2tRYGd_Mv_ix"
   },
   "outputs": [],
   "source": [
    "from langchain_google_vertexai import VertexAIEmbeddings\n",
    "from langchain_community.vectorstores import BigQueryVectorSearch\n",
    "\n",
    "embedding_model = VertexAIEmbeddings(\n",
    "    model_name=\"textembedding-gecko@latest\", project=PROJECT_ID\n",
    ")"
   ]
  },
  {
   "cell_type": "markdown",
   "metadata": {
    "id": "pKM_QIU0WPc3"
   },
   "source": [
    "### Ingest PDF file\n",
    "\n",
    "The document is hosted on Cloud Storage bucket (at `gs://github-repo/generative-ai/sample-apps/fixmycar/cymbal-starlight-2024.pdf`) and LangChain provides a convenient document loader [`PyPDFLoader`](https://python.langchain.com/docs/modules/data_connection/document_loaders/pdf/) to load documents from pdfs.\n"
   ]
  },
  {
   "cell_type": "code",
   "execution_count": null,
   "metadata": {
    "colab": {
     "base_uri": "https://localhost:8080/"
    },
    "id": "UNEClQQjjRcc",
    "outputId": "de918892-4fae-4c5b-cd4d-915f87d11a06"
   },
   "outputs": [],
   "source": [
    "GCS_BUCKET_DOCS = (\n",
    "    \"github-repo/generative-ai/sample-apps/fixmycar\"  # @param {type: \"string\"}\n",
    ")\n",
    "\n",
    "# Copy the file to the current path\n",
    "!gsutil cp \"gs://$GCS_BUCKET_DOCS/*.pdf\" ."
   ]
  },
  {
   "cell_type": "code",
   "execution_count": null,
   "metadata": {
    "colab": {
     "base_uri": "https://localhost:8080/"
    },
    "id": "7kYw66EohYza",
    "outputId": "098e5ce1-cc21-4be4-c4c0-f2f1e203e5d6"
   },
   "outputs": [],
   "source": [
    "# Ingest PDF files\n",
    "from langchain_community.document_loaders import PyPDFLoader\n",
    "\n",
    "loader = PyPDFLoader(\"cymbal-starlight-2024.pdf\")\n",
    "documents = loader.load()\n",
    "\n",
    "\n",
    "# Add document name and source to the metadata\n",
    "for document in documents:\n",
    "    doc_md = document.metadata\n",
    "    document_name = doc_md[\"source\"].split(\"/\")[-1]\n",
    "    # derive doc source from Document loader\n",
    "    doc_source_prefix = \"/\".join(GCS_BUCKET_DOCS.split(\"/\")[:3])\n",
    "    doc_source_suffix = \"/\".join(doc_md[\"source\"].split(\"/\")[4:-1])\n",
    "    source = f\"{doc_source_prefix}/{doc_source_suffix}\"\n",
    "    document.metadata = {\"source\": source, \"document_name\": document_name}\n",
    "\n",
    "print(f\"# of documents loaded (pre-chunking) = {len(documents)}\")"
   ]
  },
  {
   "cell_type": "markdown",
   "metadata": {
    "id": "j8J7hQkVmkB1"
   },
   "source": [
    "Verify document metadata"
   ]
  },
  {
   "cell_type": "code",
   "execution_count": null,
   "metadata": {
    "colab": {
     "base_uri": "https://localhost:8080/"
    },
    "id": "jn3A13Nfmihf",
    "outputId": "3d56d945-7458-4d03-f6ce-09b9f687bada"
   },
   "outputs": [],
   "source": [
    "documents[0].metadata"
   ]
  },
  {
   "cell_type": "markdown",
   "metadata": {
    "id": "oZA9HDA0mnWW"
   },
   "source": [
    "## Chunk documents - TextSplitter\n",
    "\n",
    "Split the documents to smaller chunks. When splitting the document, ensure a few chunks can fit within the context length of LLM."
   ]
  },
  {
   "cell_type": "code",
   "execution_count": null,
   "metadata": {
    "colab": {
     "base_uri": "https://localhost:8080/"
    },
    "id": "n2QuilhMmxgA",
    "outputId": "1acae5ed-82ea-4d30-85b3-804976fbcb54"
   },
   "outputs": [],
   "source": [
    "from langchain.text_splitter import RecursiveCharacterTextSplitter\n",
    "\n",
    "# split the documents into chunks\n",
    "text_splitter = RecursiveCharacterTextSplitter(\n",
    "    chunk_size=1000,\n",
    "    chunk_overlap=50,\n",
    "    separators=[\"\\n\\n\", \"\\n\", \".\", \"!\", \"?\", \",\", \" \", \"\"],\n",
    ")\n",
    "doc_splits = text_splitter.split_documents(documents)\n",
    "\n",
    "# Add chunk number to metadata\n",
    "for idx, split in enumerate(doc_splits):\n",
    "    split.metadata[\"chunk\"] = idx\n",
    "\n",
    "print(f\"# of documents = {len(doc_splits)}\")"
   ]
  },
  {
   "cell_type": "code",
   "execution_count": null,
   "metadata": {
    "colab": {
     "base_uri": "https://localhost:8080/"
    },
    "id": "fv91BaKCmxP0",
    "outputId": "fce7f8af-94e7-44d6-e554-84a682dc41d4",
    "scrolled": true
   },
   "outputs": [],
   "source": [
    "doc_splits[0].metadata"
   ]
  },
  {
   "cell_type": "markdown",
   "metadata": {
    "id": "8QC-w_t3m9Fe"
   },
   "source": [
    "## Configure `VertexFeatureStore` as Vector Store\n",
    "\n",
    "You are now ready to start using Vertex Feature Store! \n",
    "You can initialize the class by providing `project_id`, `location`, a BQ `dataset_name` and `table_name` to be used to store embeddings. \n",
    "You can also point to an existing table. By default the class will use [BigQuery Vector Search](https://cloud.google.com/bigquery/docs/vector-search-intro) to perform vector search.\n",
    "\n",
    "See [here](TODO) for the full list of parameters of the class. "
   ]
  },
  {
   "cell_type": "code",
   "execution_count": null,
   "metadata": {
    "colab": {
     "base_uri": "https://localhost:8080/"
    },
    "id": "Eenn_NAsnF5D",
    "outputId": "b8441c7e-23b3-482d-bd3b-275140f4f405"
   },
   "outputs": [],
   "source": [
    "store = BigQueryVectorStore(\n",
    "    project_id=PROJECT_ID,\n",
    "    location=REGION,\n",
    "    dataset_name=DATASET+\"13\",\n",
    "    table_name=TABLE+\"2333\",\n",
    "    embedding=embedding_model,\n",
    " )"
   ]
  },
  {
   "cell_type": "code",
   "execution_count": 32,
   "metadata": {},
   "outputs": [
    {
     "name": "stdout",
     "output_type": "stream",
     "text": [
      "Sync ongoing, waiting for 30 seconds.\n",
      "Sync ongoing, waiting for 30 seconds.\n",
      "Sync ongoing, waiting for 30 seconds.\n",
      "Sync ongoing, waiting for 30 seconds.\n",
      "Sync ongoing, waiting for 30 seconds.\n",
      "Sync ongoing, waiting for 30 seconds.\n",
      "Sync ongoing, waiting for 30 seconds.\n",
      "Sync ongoing, waiting for 30 seconds.\n",
      "Sync ongoing, waiting for 30 seconds.\n",
      "Sync ongoing, waiting for 30 seconds.\n",
      "Sync ongoing, waiting for 30 seconds.\n",
      "Sync ongoing, waiting for 30 seconds.\n",
      "Sync ongoing, waiting for 30 seconds.\n",
      "Sync ongoing, waiting for 30 seconds.\n",
      "Sync ongoing, waiting for 30 seconds.\n",
      "Sync ongoing, waiting for 30 seconds.\n",
      "Sync ongoing, waiting for 30 seconds.\n",
      "Sync ongoing, waiting for 30 seconds.\n",
      "Sync ongoing, waiting for 30 seconds.\n",
      "Sync ongoing, waiting for 30 seconds.\n",
      "Sync ongoing, waiting for 30 seconds.\n",
      "Sync ongoing, waiting for 30 seconds.\n",
      "Sync ongoing, waiting for 30 seconds.\n",
      "Sync ongoing, waiting for 30 seconds.\n",
      "Sync ongoing, waiting for 30 seconds.\n",
      "Sync Succeed for projects/cloud-llm-preview2/locations/europe-west4/featureOnlineStores/vertex_documentation_new113/featureViews/mytest42333/featureViewSyncs/1991213221440126976.\n",
      "DNS certificates are being propagated, waiting for 10 seconds.  \n",
      "DNS certificates are being propagated, waiting for 10 seconds.  \n",
      "DNS certificates are being propagated, waiting for 10 seconds.  \n",
      "DNS certificates are being propagated, waiting for 10 seconds.  \n",
      "DNS certificates are being propagated, waiting for 10 seconds.  \n",
      "DNS certificates are being propagated, waiting for 10 seconds.  \n",
      "DNS certificates are being propagated, waiting for 10 seconds.  \n",
      "DNS certificates are being propagated, waiting for 10 seconds.  \n",
      "DNS certificates are being propagated, waiting for 10 seconds.  \n",
      "DNS certificates are being propagated, waiting for 10 seconds.  \n",
      "DNS certificates are being propagated, waiting for 10 seconds.  \n",
      "DNS certificates are being propagated, waiting for 10 seconds.  \n",
      "DNS certificates are being propagated, waiting for 10 seconds.  \n",
      "DNS certificates are being propagated, waiting for 10 seconds.  \n",
      "DNS certificates are being propagated, waiting for 10 seconds.  \n",
      "DNS certificates are being propagated, waiting for 10 seconds.  \n",
      "DNS certificates are being propagated, waiting for 10 seconds.  \n",
      "DNS certificates are being propagated, waiting for 10 seconds.  \n",
      "DNS certificates are being propagated, waiting for 10 seconds.  \n",
      "DNS certificates are being propagated, waiting for 10 seconds.  \n",
      "DNS certificates are being propagated, waiting for 10 seconds.  \n",
      "DNS certificates are being propagated, waiting for 10 seconds.  \n",
      "DNS certificates are being propagated, waiting for 10 seconds.  \n",
      "DNS certificates are being propagated, waiting for 10 seconds.  \n",
      "DNS certificates are being propagated, waiting for 10 seconds.  \n",
      "DNS certificates are being propagated, waiting for 10 seconds.  \n",
      "DNS certificates are being propagated, waiting for 10 seconds.  \n",
      "DNS certificates are being propagated, waiting for 10 seconds.  \n",
      "DNS certificates are being propagated, waiting for 10 seconds.  \n",
      "DNS certificates are being propagated, waiting for 10 seconds.  \n",
      "DNS certificates are being propagated, waiting for 10 seconds.  \n",
      "DNS certificates are being propagated, waiting for 10 seconds.  \n",
      "DNS certificates are being propagated, waiting for 10 seconds.  \n",
      "DNS certificates are being propagated, waiting for 10 seconds.  \n",
      "DNS certificates are being propagated, waiting for 10 seconds.  \n",
      "DNS certificates are being propagated, waiting for 10 seconds.  \n",
      "DNS certificates are being propagated, waiting for 10 seconds.  \n",
      "DNS certificates are being propagated, waiting for 10 seconds.  \n",
      "DNS certificates are being propagated, waiting for 10 seconds.  \n",
      "DNS certificates are being propagated, waiting for 10 seconds.  \n",
      "DNS certificates are being propagated, waiting for 10 seconds.  \n",
      "DNS certificates are being propagated, waiting for 10 seconds.  \n",
      "DNS certificates are being propagated, waiting for 10 seconds.  \n",
      "DNS certificates are being propagated, waiting for 10 seconds.  \n",
      "DNS certificates are being propagated, waiting for 10 seconds.  \n",
      "DNS certificates are being propagated, waiting for 10 seconds.  \n",
      "DNS certificates are being propagated, waiting for 10 seconds.  \n",
      "DNS certificates are being propagated, waiting for 10 seconds.  \n",
      "DNS certificates are being propagated, waiting for 10 seconds.  \n",
      "DNS certificates are being propagated, waiting for 10 seconds.  \n",
      "DNS certificates are being propagated, waiting for 10 seconds.  \n",
      "DNS certificates are being propagated, waiting for 10 seconds.  \n",
      "DNS certificates are being propagated, waiting for 10 seconds.  \n",
      "DNS certificates are being propagated, waiting for 10 seconds.  \n",
      "DNS certificates are being propagated, waiting for 10 seconds.  \n",
      "DNS certificates are being propagated, waiting for 10 seconds.  \n",
      "DNS certificates are being propagated, waiting for 10 seconds.  \n",
      "DNS certificates are being propagated, waiting for 10 seconds.  \n",
      "DNS certificates are being propagated, waiting for 10 seconds.  \n",
      "DNS certificates are being propagated, waiting for 10 seconds.  \n",
      "DNS certificates are being propagated, waiting for 10 seconds.  \n",
      "DNS certificates are being propagated, waiting for 10 seconds.  \n",
      "DNS certificates are being propagated, waiting for 10 seconds.  \n",
      "DNS certificates are being propagated, waiting for 10 seconds.  \n",
      "DNS certificates are being propagated, waiting for 10 seconds.  \n",
      "DNS certificates are being propagated, waiting for 10 seconds.  \n",
      "DNS certificates are being propagated, waiting for 10 seconds.  \n",
      "DNS certificates are being propagated, waiting for 10 seconds.  \n",
      "DNS certificates are being propagated, waiting for 10 seconds.  \n",
      "DNS certificates are being propagated, waiting for 10 seconds.  \n",
      "DNS certificates are being propagated, waiting for 10 seconds.  \n",
      "DNS certificates are being propagated, waiting for 10 seconds.  \n",
      "DNS certificates are being propagated, waiting for 10 seconds.  \n",
      "DNS certificates are being propagated, waiting for 10 seconds.  \n",
      "DNS certificates are being propagated, waiting for 10 seconds.  \n",
      "DNS certificates are being propagated, waiting for 10 seconds.  \n",
      "DNS certificates are being propagated, waiting for 10 seconds.  \n",
      "DNS certificates are being propagated, waiting for 10 seconds.  \n",
      "DNS certificates are being propagated, waiting for 10 seconds.  \n",
      "DNS certificates are being propagated, waiting for 10 seconds.  \n",
      "DNS certificates are being propagated, waiting for 10 seconds.  \n",
      "DNS certificates are being propagated, waiting for 10 seconds.  \n",
      "DNS certificates are being propagated, waiting for 10 seconds.  \n",
      "DNS certificates are being propagated, waiting for 10 seconds.  \n",
      "DNS certificates are being propagated, waiting for 10 seconds.  \n",
      "DNS certificates are being propagated, waiting for 10 seconds.  \n",
      "DNS certificates are being propagated, waiting for 10 seconds.  \n",
      "DNS certificates are being propagated, waiting for 10 seconds.  \n",
      "DNS certificates are being propagated, waiting for 10 seconds.  \n",
      "DNS certificates are being propagated, waiting for 10 seconds.  \n",
      "DNS certificates are being propagated, waiting for 10 seconds.  \n",
      "DNS certificates are being propagated, waiting for 10 seconds.  \n",
      "DNS certificates are being propagated, waiting for 10 seconds.  \n",
      "DNS certificates are being propagated, waiting for 10 seconds.  \n",
      "DNS certificates are being propagated, waiting for 10 seconds.  \n",
      "DNS certificates are being propagated, waiting for 10 seconds.  \n",
      "DNS certificates are being propagated, waiting for 10 seconds.  \n",
      "DNS certificates are being propagated, waiting for 10 seconds.  \n",
      "DNS certificates are being propagated, waiting for 10 seconds.  \n",
      "DNS certificates are being propagated, waiting for 10 seconds.  \n",
      "DNS certificates are being propagated, waiting for 10 seconds.  \n",
      "DNS certificates are being propagated, waiting for 10 seconds.  \n",
      "DNS certificates are being propagated, waiting for 10 seconds.  \n",
      "DNS certificates are being propagated, waiting for 10 seconds.  \n",
      "DNS certificates are being propagated, waiting for 10 seconds.  \n",
      "DNS certificates are being propagated, waiting for 10 seconds.  \n",
      "DNS certificates are being propagated, waiting for 10 seconds.  \n",
      "DNS certificates are being propagated, waiting for 10 seconds.  \n",
      "DNS certificates are being propagated, waiting for 10 seconds.  \n",
      "DNS certificates are being propagated, waiting for 10 seconds.  \n",
      "DNS certificates are being propagated, waiting for 10 seconds.  \n",
      "DNS certificates are being propagated, waiting for 10 seconds.  \n",
      "DNS certificates are being propagated, waiting for 10 seconds.  \n",
      "DNS certificates are being propagated, waiting for 10 seconds.  \n",
      "DNS certificates are being propagated, waiting for 10 seconds.  \n",
      "DNS certificates are being propagated, waiting for 10 seconds.  \n",
      "DNS certificates are being propagated, waiting for 10 seconds.  \n",
      "DNS certificates are being propagated, waiting for 10 seconds.  \n",
      "DNS certificates are being propagated, waiting for 10 seconds.  \n",
      "DNS certificates are being propagated, waiting for 10 seconds.  \n",
      "DNS certificates are being propagated, waiting for 10 seconds.  \n",
      "DNS certificates are being propagated, waiting for 10 seconds.  \n",
      "DNS certificates are being propagated, waiting for 10 seconds.  \n",
      "DNS certificates are being propagated, waiting for 10 seconds.  \n",
      "DNS certificates are being propagated, waiting for 10 seconds.  \n",
      "DNS certificates are being propagated, waiting for 10 seconds.  \n",
      "DNS certificates are being propagated, waiting for 10 seconds.  \n",
      "DNS certificates are being propagated, waiting for 10 seconds.  \n",
      "DNS certificates are being propagated, waiting for 10 seconds.  \n",
      "DNS certificates are being propagated, waiting for 10 seconds.  \n",
      "DNS certificates are being propagated, waiting for 10 seconds.  \n",
      "DNS certificates are being propagated, waiting for 10 seconds.  \n",
      "DNS certificates are being propagated, waiting for 10 seconds.  \n",
      "DNS certificates are being propagated, waiting for 10 seconds.  \n",
      "DNS certificates are being propagated, waiting for 10 seconds.  \n",
      "DNS certificates are being propagated, waiting for 10 seconds.  \n",
      "DNS certificates are being propagated, waiting for 10 seconds.  \n",
      "DNS certificates are being propagated, waiting for 10 seconds.  \n",
      "DNS certificates are being propagated, waiting for 10 seconds.  \n",
      "DNS certificates are being propagated, waiting for 10 seconds.  \n",
      "DNS certificates are being propagated, waiting for 10 seconds.  \n",
      "DNS certificates are being propagated, waiting for 10 seconds.  \n",
      "DNS certificates are being propagated, waiting for 10 seconds.  \n",
      "DNS certificates are being propagated, waiting for 10 seconds.  \n",
      "DNS certificates are being propagated, waiting for 10 seconds.  \n",
      "DNS certificates are being propagated, waiting for 10 seconds.  \n",
      "DNS certificates are being propagated, waiting for 10 seconds.  \n",
      "DNS certificates are being propagated, waiting for 10 seconds.  \n",
      "DNS certificates are being propagated, waiting for 10 seconds.  \n",
      "DNS certificates are being propagated, waiting for 10 seconds.  \n",
      "DNS certificates are being propagated, waiting for 10 seconds.  \n",
      "DNS certificates are being propagated, waiting for 10 seconds.  \n",
      "DNS certificates are being propagated, waiting for 10 seconds.  \n",
      "DNS certificates are being propagated, waiting for 10 seconds.  \n",
      "DNS certificates are being propagated, waiting for 10 seconds.  \n",
      "DNS certificates are being propagated, waiting for 10 seconds.  \n",
      "DNS certificates are being propagated, waiting for 10 seconds.  \n",
      "DNS certificates are being propagated, waiting for 10 seconds.  \n",
      "DNS certificates are being propagated, waiting for 10 seconds.  \n",
      "DNS certificates are being propagated, waiting for 10 seconds.  \n",
      "DNS certificates are being propagated, waiting for 10 seconds.  \n",
      "DNS certificates are being propagated, waiting for 10 seconds.  \n",
      "DNS certificates are being propagated, waiting for 10 seconds.  \n",
      "DNS certificates are being propagated, waiting for 10 seconds.  \n",
      "DNS certificates are being propagated, waiting for 10 seconds.  \n",
      "DNS certificates are being propagated, waiting for 10 seconds.  \n",
      "DNS certificates are being propagated, waiting for 10 seconds.  \n",
      "DNS certificates are being propagated, waiting for 10 seconds.  \n",
      "DNS certificates are being propagated, waiting for 10 seconds.  \n",
      "DNS certificates are being propagated, waiting for 10 seconds.  \n",
      "DNS certificates are being propagated, waiting for 10 seconds.  \n",
      "DNS certificates are being propagated, waiting for 10 seconds.  \n",
      "DNS certificates are being propagated, waiting for 10 seconds.  \n",
      "DNS certificates are being propagated, waiting for 10 seconds.  \n",
      "DNS certificates are being propagated, waiting for 10 seconds.  \n",
      "DNS certificates are being propagated, waiting for 10 seconds.  \n",
      "DNS certificates are being propagated, waiting for 10 seconds.  \n",
      "DNS certificates are being propagated, waiting for 10 seconds.  \n",
      "DNS certificates are being propagated, waiting for 10 seconds.  \n",
      "DNS certificates are being propagated, waiting for 10 seconds.  \n",
      "DNS certificates are being propagated, waiting for 10 seconds.  \n",
      "DNS certificates are being propagated, waiting for 10 seconds.  \n",
      "DNS certificates are being propagated, waiting for 10 seconds.  \n",
      "DNS certificates are being propagated, waiting for 10 seconds.  \n",
      "DNS certificates are being propagated, waiting for 10 seconds.  \n",
      "DNS certificates are being propagated, waiting for 10 seconds.  \n",
      "DNS certificates are being propagated, waiting for 10 seconds.  \n",
      "DNS certificates are being propagated, waiting for 10 seconds.  \n",
      "DNS certificates are being propagated, waiting for 10 seconds.  \n",
      "DNS certificates are being propagated, waiting for 10 seconds.  \n",
      "DNS certificates are being propagated, waiting for 10 seconds.  \n",
      "DNS certificates are being propagated, waiting for 10 seconds.  \n",
      "DNS certificates are being propagated, waiting for 10 seconds.  \n",
      "DNS certificates are being propagated, waiting for 10 seconds.  \n",
      "DNS certificates are being propagated, waiting for 10 seconds.  \n",
      "DNS certificates are being propagated, waiting for 10 seconds.  \n",
      "DNS certificates are being propagated, waiting for 10 seconds.  \n",
      "DNS certificates are being propagated, waiting for 10 seconds.  \n",
      "DNS certificates are being propagated, waiting for 10 seconds.  \n",
      "DNS certificates are being propagated, waiting for 10 seconds.  \n",
      "DNS certificates are being propagated, waiting for 10 seconds.  \n",
      "DNS certificates are being propagated, waiting for 10 seconds.  \n",
      "DNS certificates are being propagated, waiting for 10 seconds.  \n",
      "DNS certificates are being propagated, waiting for 10 seconds.  \n",
      "DNS certificates are being propagated, waiting for 10 seconds.  \n",
      "DNS certificates are being propagated, waiting for 10 seconds.  \n",
      "DNS certificates are being propagated, waiting for 10 seconds.  \n",
      "DNS certificates are being propagated, waiting for 10 seconds.  \n",
      "DNS certificates are being propagated, waiting for 10 seconds.  \n",
      "DNS certificates are being propagated, waiting for 10 seconds.  \n",
      "DNS certificates are being propagated, waiting for 10 seconds.  \n",
      "DNS certificates are being propagated, waiting for 10 seconds.  \n",
      "DNS certificates are being propagated, waiting for 10 seconds.  \n",
      "DNS certificates are being propagated, waiting for 10 seconds.  \n",
      "DNS certificates are being propagated, waiting for 10 seconds.  \n",
      "DNS certificates are being propagated, waiting for 10 seconds.  \n",
      "DNS certificates are being propagated, waiting for 10 seconds.  \n",
      "DNS certificates are being propagated, waiting for 10 seconds.  \n",
      "DNS certificates are being propagated, waiting for 10 seconds.  \n",
      "DNS certificates are being propagated, waiting for 10 seconds.  \n",
      "DNS certificates are being propagated, waiting for 10 seconds.  \n",
      "DNS certificates are being propagated, waiting for 10 seconds.  \n",
      "DNS certificates are being propagated, waiting for 10 seconds.  \n",
      "DNS certificates are being propagated, waiting for 10 seconds.  \n",
      "DNS certificates are being propagated, waiting for 10 seconds.  \n",
      "DNS certificates are being propagated, waiting for 10 seconds.  \n",
      "DNS certificates are being propagated, waiting for 10 seconds.  \n",
      "DNS certificates are being propagated, waiting for 10 seconds.  \n",
      "DNS certificates are being propagated, waiting for 10 seconds.  \n",
      "DNS certificates are being propagated, waiting for 10 seconds.  \n",
      "DNS certificates are being propagated, waiting for 10 seconds.  \n",
      "DNS certificates are being propagated, waiting for 10 seconds.  \n",
      "DNS certificates are being propagated, waiting for 10 seconds.  \n",
      "DNS certificates are being propagated, waiting for 10 seconds.  \n",
      "DNS certificates are being propagated, waiting for 10 seconds.  \n",
      "DNS certificates are being propagated, waiting for 10 seconds.  \n",
      "DNS certificates are being propagated, waiting for 10 seconds.  \n",
      "DNS certificates are being propagated, waiting for 10 seconds.  \n",
      "DNS certificates are being propagated, waiting for 10 seconds.  \n",
      "DNS certificates are being propagated, waiting for 10 seconds.  \n",
      "DNS certificates are being propagated, waiting for 10 seconds.  \n",
      "DNS certificates are being propagated, waiting for 10 seconds.  \n",
      "DNS certificates are being propagated, waiting for 10 seconds.  \n",
      "DNS certificates are being propagated, waiting for 10 seconds.  \n",
      "DNS certificates are being propagated, waiting for 10 seconds.  \n",
      "DNS certificates are being propagated, waiting for 10 seconds.  \n",
      "DNS certificates are being propagated, waiting for 10 seconds.  \n",
      "DNS certificates are being propagated, waiting for 10 seconds.  \n",
      "DNS certificates are being propagated, waiting for 10 seconds.  \n",
      "DNS certificates are being propagated, waiting for 10 seconds.  \n",
      "DNS certificates are being propagated, waiting for 10 seconds.  \n",
      "DNS certificates are being propagated, waiting for 10 seconds.  \n",
      "DNS certificates are being propagated, waiting for 10 seconds.  \n",
      "DNS certificates are being propagated, waiting for 10 seconds.  \n",
      "DNS certificates are being propagated, waiting for 10 seconds.  \n",
      "DNS certificates are being propagated, waiting for 10 seconds.  \n",
      "DNS certificates are being propagated, waiting for 10 seconds.  \n",
      "DNS certificates are being propagated, waiting for 10 seconds.  \n",
      "DNS certificates are being propagated, waiting for 10 seconds.  \n",
      "DNS certificates are being propagated, waiting for 10 seconds.  \n",
      "DNS certificates are being propagated, waiting for 10 seconds.  \n",
      "DNS certificates are being propagated, waiting for 10 seconds.  \n",
      "DNS certificates are being propagated, waiting for 10 seconds.  \n",
      "DNS certificates are being propagated, waiting for 10 seconds.  \n",
      "DNS certificates are being propagated, waiting for 10 seconds.  \n",
      "DNS certificates are being propagated, waiting for 10 seconds.  \n",
      "DNS certificates are being propagated, waiting for 10 seconds.  \n",
      "DNS certificates are being propagated, waiting for 10 seconds.  \n",
      "DNS certificates are being propagated, waiting for 10 seconds.  \n",
      "DNS certificates are being propagated, waiting for 10 seconds.  \n",
      "DNS certificates are being propagated, waiting for 10 seconds.  \n",
      "DNS certificates are being propagated, waiting for 10 seconds.  \n",
      "DNS certificates are being propagated, waiting for 10 seconds.  \n",
      "DNS certificates are being propagated, waiting for 10 seconds.  \n",
      "DNS certificates are being propagated, waiting for 10 seconds.  \n",
      "DNS certificates are being propagated, waiting for 10 seconds.  \n",
      "DNS certificates are being propagated, waiting for 10 seconds.  \n",
      "DNS certificates are being propagated, waiting for 10 seconds.  \n",
      "DNS certificates are being propagated, waiting for 10 seconds.  \n",
      "DNS certificates are being propagated, waiting for 10 seconds.  \n",
      "DNS certificates are being propagated, waiting for 10 seconds.  \n",
      "DNS certificates are being propagated, waiting for 10 seconds.  \n",
      "DNS certificates are being propagated, waiting for 10 seconds.  \n",
      "DNS certificates are being propagated, waiting for 10 seconds.  \n",
      "DNS certificates are being propagated, waiting for 10 seconds.  \n",
      "DNS certificates are being propagated, waiting for 10 seconds.  \n",
      "DNS certificates are being propagated, waiting for 10 seconds.  \n",
      "DNS certificates are being propagated, waiting for 10 seconds.  \n",
      "DNS certificates are being propagated, waiting for 10 seconds.  \n",
      "DNS certificates are being propagated, waiting for 10 seconds.  \n",
      "DNS certificates are being propagated, waiting for 10 seconds.  \n",
      "DNS certificates are being propagated, waiting for 10 seconds.  \n",
      "DNS certificates are being propagated, waiting for 10 seconds.  \n",
      "DNS certificates are being propagated, waiting for 10 seconds.  \n",
      "DNS certificates are being propagated, waiting for 10 seconds.  \n",
      "DNS certificates are being propagated, waiting for 10 seconds.  \n",
      "DNS certificates are being propagated, waiting for 10 seconds.  \n",
      "DNS certificates are being propagated, waiting for 10 seconds.  \n",
      "DNS certificates are being propagated, waiting for 10 seconds.  \n",
      "DNS certificates are being propagated, waiting for 10 seconds.  \n",
      "DNS certificates are being propagated, waiting for 10 seconds.  \n",
      "DNS certificates are being propagated, waiting for 10 seconds.  \n",
      "DNS certificates are being propagated, waiting for 10 seconds.  \n",
      "DNS certificates are being propagated, waiting for 10 seconds.  \n",
      "DNS certificates are being propagated, waiting for 10 seconds.  \n",
      "DNS certificates are being propagated, waiting for 10 seconds.  \n",
      "DNS certificates are being propagated, waiting for 10 seconds.  \n",
      "DNS certificates are being propagated, waiting for 10 seconds.  \n",
      "DNS certificates are being propagated, waiting for 10 seconds.  \n",
      "DNS certificates are being propagated, waiting for 10 seconds.  \n",
      "DNS certificates are being propagated, waiting for 10 seconds.  \n",
      "DNS certificates are being propagated, waiting for 10 seconds.  \n",
      "DNS certificates are being propagated, waiting for 10 seconds.  \n",
      "DNS certificates are being propagated, waiting for 10 seconds.  \n",
      "DNS certificates are being propagated, waiting for 10 seconds.  \n",
      "DNS certificates are being propagated, waiting for 10 seconds.  \n",
      "DNS certificates are being propagated, waiting for 10 seconds.  \n",
      "DNS certificates are being propagated, waiting for 10 seconds.  \n",
      "DNS certificates are being propagated, waiting for 10 seconds.  \n",
      "DNS certificates are being propagated, waiting for 10 seconds.  \n",
      "DNS certificates are being propagated, waiting for 10 seconds.  \n",
      "DNS certificates are being propagated, waiting for 10 seconds.  \n",
      "DNS certificates are being propagated, waiting for 10 seconds.  \n",
      "DNS certificates are being propagated, waiting for 10 seconds.  \n",
      "DNS certificates are being propagated, waiting for 10 seconds.  \n",
      "DNS certificates are being propagated, waiting for 10 seconds.  \n",
      "DNS certificates are being propagated, waiting for 10 seconds.  \n",
      "DNS certificates are being propagated, waiting for 10 seconds.  \n",
      "DNS certificates are being propagated, waiting for 10 seconds.  \n",
      "DNS certificates are being propagated, waiting for 10 seconds.  \n",
      "DNS certificates are being propagated, waiting for 10 seconds.  \n",
      "DNS certificates are being propagated, waiting for 10 seconds.  \n",
      "DNS certificates are being propagated, waiting for 10 seconds.  \n",
      "DNS certificates are being propagated, waiting for 10 seconds.  \n",
      "DNS certificates are being propagated, waiting for 10 seconds.  \n",
      "DNS certificates are being propagated, waiting for 10 seconds.  \n",
      "DNS certificates are being propagated, waiting for 10 seconds.  \n",
      "DNS certificates are being propagated, waiting for 10 seconds.  \n",
      "DNS certificates are being propagated, waiting for 10 seconds.  \n",
      "DNS certificates are being propagated, waiting for 10 seconds.  \n",
      "DNS certificates are being propagated, waiting for 10 seconds.  \n",
      "DNS certificates are being propagated, waiting for 10 seconds.  \n",
      "DNS certificates are being propagated, waiting for 10 seconds.  \n",
      "DNS certificates are being propagated, waiting for 10 seconds.  \n",
      "DNS certificates are being propagated, waiting for 10 seconds.  \n",
      "DNS certificates are being propagated, waiting for 10 seconds.  \n",
      "DNS certificates are being propagated, waiting for 10 seconds.  \n",
      "DNS certificates are being propagated, waiting for 10 seconds.  \n",
      "DNS certificates are being propagated, waiting for 10 seconds.  \n",
      "DNS certificates are being propagated, waiting for 10 seconds.  \n",
      "DNS certificates are being propagated, waiting for 10 seconds.  \n",
      "DNS certificates are being propagated, waiting for 10 seconds.  \n",
      "DNS certificates are being propagated, waiting for 10 seconds.  \n",
      "DNS certificates are being propagated, waiting for 10 seconds.  \n",
      "DNS certificates are being propagated, waiting for 10 seconds.  \n",
      "DNS certificates are being propagated, waiting for 10 seconds.  \n",
      "DNS certificates are being propagated, waiting for 10 seconds.  \n",
      "DNS certificates are being propagated, waiting for 10 seconds.  \n",
      "DNS certificates are being propagated, waiting for 10 seconds.  \n",
      "DNS certificates are being propagated, waiting for 10 seconds.  \n",
      "DNS certificates are being propagated, waiting for 10 seconds.  \n",
      "DNS certificates are being propagated, waiting for 10 seconds.  \n",
      "DNS certificates are being propagated, waiting for 10 seconds.  \n",
      "DNS certificates are being propagated, waiting for 10 seconds.  \n",
      "DNS certificates are being propagated, waiting for 10 seconds.  \n",
      "DNS certificates are being propagated, waiting for 10 seconds.  \n",
      "DNS certificates are being propagated, waiting for 10 seconds.  \n",
      "DNS certificates are being propagated, waiting for 10 seconds.  \n",
      "DNS certificates are being propagated, waiting for 10 seconds.  \n",
      "DNS certificates are being propagated, waiting for 10 seconds.  \n",
      "DNS certificates are being propagated, waiting for 10 seconds.  \n",
      "DNS certificates are being propagated, waiting for 10 seconds.  \n",
      "DNS certificates are being propagated, waiting for 10 seconds.  \n",
      "DNS certificates are being propagated, waiting for 10 seconds.  \n",
      "DNS certificates are being propagated, waiting for 10 seconds.  \n",
      "DNS certificates are being propagated, waiting for 10 seconds.  \n",
      "DNS certificates are being propagated, waiting for 10 seconds.  \n",
      "DNS certificates are being propagated, waiting for 10 seconds.  \n",
      "DNS certificates are being propagated, waiting for 10 seconds.  \n",
      "DNS certificates are being propagated, waiting for 10 seconds.  \n",
      "DNS certificates are being propagated, waiting for 10 seconds.  \n",
      "DNS certificates are being propagated, waiting for 10 seconds.  \n",
      "DNS certificates are being propagated, waiting for 10 seconds.  \n",
      "DNS certificates are being propagated, waiting for 10 seconds.  \n",
      "DNS certificates are being propagated, waiting for 10 seconds.  \n",
      "DNS certificates are being propagated, waiting for 10 seconds.  \n",
      "DNS certificates are being propagated, waiting for 10 seconds.  \n",
      "DNS certificates are being propagated, waiting for 10 seconds.  \n",
      "DNS certificates are being propagated, waiting for 10 seconds.  \n",
      "DNS certificates are being propagated, waiting for 10 seconds.  \n",
      "DNS certificates are being propagated, waiting for 10 seconds.  \n",
      "DNS certificates are being propagated, waiting for 10 seconds.  \n",
      "DNS certificates are being propagated, waiting for 10 seconds.  \n",
      "DNS certificates are being propagated, waiting for 10 seconds.  \n",
      "DNS certificates are being propagated, waiting for 10 seconds.  \n",
      "DNS certificates are being propagated, waiting for 10 seconds.  \n",
      "DNS certificates are being propagated, waiting for 10 seconds.  \n",
      "DNS certificates are being propagated, waiting for 10 seconds.  \n",
      "DNS certificates are being propagated, waiting for 10 seconds.  \n",
      "DNS certificates are being propagated, waiting for 10 seconds.  \n",
      "DNS certificates are being propagated, waiting for 10 seconds.  \n",
      "DNS certificates are being propagated, waiting for 10 seconds.  \n",
      "DNS certificates are being propagated, waiting for 10 seconds.  \n",
      "DNS certificates are being propagated, waiting for 10 seconds.  \n"
     ]
    },
    {
     "ename": "TimeoutExpired",
     "evalue": "Command 'Timeout of 6000 seconds exceeded' timed out after 6000 seconds",
     "output_type": "error",
     "traceback": [
      "\u001b[0;31m---------------------------------------------------------------------------\u001b[0m",
      "\u001b[0;31mTimeoutExpired\u001b[0m                            Traceback (most recent call last)",
      "Cell \u001b[0;32mIn[32], line 1\u001b[0m\n\u001b[0;32m----> 1\u001b[0m \u001b[43mstore\u001b[49m\u001b[38;5;241;43m.\u001b[39;49m\u001b[43madd_documents\u001b[49m\u001b[43m(\u001b[49m\u001b[43mdoc_splits\u001b[49m\u001b[43m)\u001b[49m\n",
      "File \u001b[0;32m~/.pyenv/versions/3.10.9/lib/python3.10/site-packages/langchain_core/vectorstores.py:138\u001b[0m, in \u001b[0;36mVectorStore.add_documents\u001b[0;34m(self, documents, **kwargs)\u001b[0m\n\u001b[1;32m    136\u001b[0m texts \u001b[38;5;241m=\u001b[39m [doc\u001b[38;5;241m.\u001b[39mpage_content \u001b[38;5;28;01mfor\u001b[39;00m doc \u001b[38;5;129;01min\u001b[39;00m documents]\n\u001b[1;32m    137\u001b[0m metadatas \u001b[38;5;241m=\u001b[39m [doc\u001b[38;5;241m.\u001b[39mmetadata \u001b[38;5;28;01mfor\u001b[39;00m doc \u001b[38;5;129;01min\u001b[39;00m documents]\n\u001b[0;32m--> 138\u001b[0m \u001b[38;5;28;01mreturn\u001b[39;00m \u001b[38;5;28;43mself\u001b[39;49m\u001b[38;5;241;43m.\u001b[39;49m\u001b[43madd_texts\u001b[49m\u001b[43m(\u001b[49m\u001b[43mtexts\u001b[49m\u001b[43m,\u001b[49m\u001b[43m \u001b[49m\u001b[43mmetadatas\u001b[49m\u001b[43m,\u001b[49m\u001b[43m \u001b[49m\u001b[38;5;241;43m*\u001b[39;49m\u001b[38;5;241;43m*\u001b[39;49m\u001b[43mkwargs\u001b[49m\u001b[43m)\u001b[49m\n",
      "File \u001b[0;32m~/langchain-google/libs/community/langchain_google_community/feature_store/_base.py:224\u001b[0m, in \u001b[0;36mBaseBigQueryVectorStore.add_texts\u001b[0;34m(self, texts, metadatas, **kwargs)\u001b[0m\n\u001b[1;32m    212\u001b[0m \u001b[38;5;250m\u001b[39m\u001b[38;5;124;03m\"\"\"Run more texts through the embeddings and add to the vectorstore.\u001b[39;00m\n\u001b[1;32m    213\u001b[0m \n\u001b[1;32m    214\u001b[0m \u001b[38;5;124;03mArgs:\u001b[39;00m\n\u001b[0;32m   (...)\u001b[0m\n\u001b[1;32m    221\u001b[0m \u001b[38;5;124;03m    List of ids from adding the texts into the vectorstore.\u001b[39;00m\n\u001b[1;32m    222\u001b[0m \u001b[38;5;124;03m\"\"\"\u001b[39;00m\n\u001b[1;32m    223\u001b[0m embs \u001b[38;5;241m=\u001b[39m \u001b[38;5;28mself\u001b[39m\u001b[38;5;241m.\u001b[39membedding\u001b[38;5;241m.\u001b[39membed_documents(texts)\n\u001b[0;32m--> 224\u001b[0m \u001b[38;5;28;01mreturn\u001b[39;00m \u001b[38;5;28;43mself\u001b[39;49m\u001b[38;5;241;43m.\u001b[39;49m\u001b[43madd_texts_with_embeddings\u001b[49m\u001b[43m(\u001b[49m\n\u001b[1;32m    225\u001b[0m \u001b[43m    \u001b[49m\u001b[43mtexts\u001b[49m\u001b[38;5;241;43m=\u001b[39;49m\u001b[43mtexts\u001b[49m\u001b[43m,\u001b[49m\u001b[43m \u001b[49m\u001b[43membs\u001b[49m\u001b[38;5;241;43m=\u001b[39;49m\u001b[43membs\u001b[49m\u001b[43m,\u001b[49m\u001b[43m \u001b[49m\u001b[43mmetadatas\u001b[49m\u001b[38;5;241;43m=\u001b[39;49m\u001b[43mmetadatas\u001b[49m\u001b[43m,\u001b[49m\u001b[43m \u001b[49m\u001b[38;5;241;43m*\u001b[39;49m\u001b[38;5;241;43m*\u001b[39;49m\u001b[43mkwargs\u001b[49m\n\u001b[1;32m    226\u001b[0m \u001b[43m\u001b[49m\u001b[43m)\u001b[49m\n",
      "File \u001b[0;32m~/langchain-google/libs/community/langchain_google_community/feature_store/_base.py:269\u001b[0m, in \u001b[0;36mBaseBigQueryVectorStore.add_texts_with_embeddings\u001b[0;34m(self, texts, embs, metadatas, **kwargs)\u001b[0m\n\u001b[1;32m    267\u001b[0m \u001b[38;5;28mself\u001b[39m\u001b[38;5;241m.\u001b[39m_validate_bq_table()\n\u001b[1;32m    268\u001b[0m logger\u001b[38;5;241m.\u001b[39mdebug(\u001b[38;5;124mf\u001b[39m\u001b[38;5;124m\"\u001b[39m\u001b[38;5;124mstored \u001b[39m\u001b[38;5;132;01m{\u001b[39;00m\u001b[38;5;28mlen\u001b[39m(ids)\u001b[38;5;132;01m}\u001b[39;00m\u001b[38;5;124m records in BQ\u001b[39m\u001b[38;5;124m\"\u001b[39m)\n\u001b[0;32m--> 269\u001b[0m \u001b[38;5;28;43mself\u001b[39;49m\u001b[38;5;241;43m.\u001b[39;49m\u001b[43msync\u001b[49m\u001b[43m(\u001b[49m\u001b[43m)\u001b[49m\n\u001b[1;32m    270\u001b[0m \u001b[38;5;28;01mreturn\u001b[39;00m ids\n",
      "File \u001b[0;32m~/langchain-google/libs/community/langchain_google_community/feature_store/featurestore.py:197\u001b[0m, in \u001b[0;36mVertexFSVectorStore.sync\u001b[0;34m(self)\u001b[0m\n\u001b[1;32m    194\u001b[0m         logger\u001b[38;5;241m.\u001b[39minfo(\u001b[38;5;124m\"\u001b[39m\u001b[38;5;124mSync ongoing, waiting for 30 seconds.\u001b[39m\u001b[38;5;124m\"\u001b[39m)\n\u001b[1;32m    195\u001b[0m     time\u001b[38;5;241m.\u001b[39msleep(\u001b[38;5;241m30\u001b[39m)\n\u001b[0;32m--> 197\u001b[0m \u001b[38;5;28;43mself\u001b[39;49m\u001b[38;5;241;43m.\u001b[39;49m\u001b[43m_wait_until_dummy_query_success\u001b[49m\u001b[43m(\u001b[49m\u001b[43m)\u001b[49m\n",
      "File \u001b[0;32m~/langchain-google/libs/community/langchain_google_community/feature_store/featurestore.py:142\u001b[0m, in \u001b[0;36mVertexFSVectorStore._wait_until_dummy_query_success\u001b[0;34m(self, timeout_seconds)\u001b[0m\n\u001b[1;32m    140\u001b[0m elapsed_time \u001b[38;5;241m=\u001b[39m time\u001b[38;5;241m.\u001b[39mtime() \u001b[38;5;241m-\u001b[39m start_time\n\u001b[1;32m    141\u001b[0m \u001b[38;5;28;01mif\u001b[39;00m elapsed_time \u001b[38;5;241m>\u001b[39m timeout_seconds:\n\u001b[0;32m--> 142\u001b[0m     \u001b[38;5;28;01mraise\u001b[39;00m TimeoutExpired(\n\u001b[1;32m    143\u001b[0m         \u001b[38;5;124m\"\u001b[39m\u001b[38;5;124mTimeout of \u001b[39m\u001b[38;5;132;01m{}\u001b[39;00m\u001b[38;5;124m seconds exceeded\u001b[39m\u001b[38;5;124m\"\u001b[39m\u001b[38;5;241m.\u001b[39mformat(timeout_seconds),\n\u001b[1;32m    144\u001b[0m         timeout\u001b[38;5;241m=\u001b[39mtimeout_seconds,\n\u001b[1;32m    145\u001b[0m     )\n\u001b[1;32m    146\u001b[0m \u001b[38;5;28;01mtry\u001b[39;00m:\n\u001b[1;32m    147\u001b[0m     \u001b[38;5;28;01mreturn\u001b[39;00m \u001b[38;5;28mself\u001b[39m\u001b[38;5;241m.\u001b[39m_search_embedding(\n\u001b[1;32m    148\u001b[0m         embedding\u001b[38;5;241m=\u001b[39m[\u001b[38;5;241m1\u001b[39m] \u001b[38;5;241m*\u001b[39m \u001b[38;5;28mself\u001b[39m\u001b[38;5;241m.\u001b[39membedding_dimension,  \u001b[38;5;66;03m# type: ignore[operator]\u001b[39;00m\n\u001b[1;32m    149\u001b[0m         k\u001b[38;5;241m=\u001b[39m\u001b[38;5;241m1\u001b[39m,\n\u001b[1;32m    150\u001b[0m     )\n",
      "\u001b[0;31mTimeoutExpired\u001b[0m: Command 'Timeout of 6000 seconds exceeded' timed out after 6000 seconds"
     ]
    }
   ],
   "source": [
    "store.add_documents(doc_splits)"
   ]
  },
  {
   "cell_type": "code",
   "execution_count": 33,
   "metadata": {
    "scrolled": true
   },
   "outputs": [
    {
     "ename": "ServiceUnavailable",
     "evalue": "503 DNS resolution failed for :443: unparseable host:port",
     "output_type": "error",
     "traceback": [
      "\u001b[0;31m---------------------------------------------------------------------------\u001b[0m",
      "\u001b[0;31m_InactiveRpcError\u001b[0m                         Traceback (most recent call last)",
      "File \u001b[0;32m~/.pyenv/versions/3.10.9/lib/python3.10/site-packages/google/api_core/grpc_helpers.py:76\u001b[0m, in \u001b[0;36m_wrap_unary_errors.<locals>.error_remapped_callable\u001b[0;34m(*args, **kwargs)\u001b[0m\n\u001b[1;32m     75\u001b[0m \u001b[38;5;28;01mtry\u001b[39;00m:\n\u001b[0;32m---> 76\u001b[0m     \u001b[38;5;28;01mreturn\u001b[39;00m \u001b[43mcallable_\u001b[49m\u001b[43m(\u001b[49m\u001b[38;5;241;43m*\u001b[39;49m\u001b[43margs\u001b[49m\u001b[43m,\u001b[49m\u001b[43m \u001b[49m\u001b[38;5;241;43m*\u001b[39;49m\u001b[38;5;241;43m*\u001b[39;49m\u001b[43mkwargs\u001b[49m\u001b[43m)\u001b[49m\n\u001b[1;32m     77\u001b[0m \u001b[38;5;28;01mexcept\u001b[39;00m grpc\u001b[38;5;241m.\u001b[39mRpcError \u001b[38;5;28;01mas\u001b[39;00m exc:\n",
      "File \u001b[0;32m~/.pyenv/versions/3.10.9/lib/python3.10/site-packages/grpc/_channel.py:1176\u001b[0m, in \u001b[0;36m_UnaryUnaryMultiCallable.__call__\u001b[0;34m(self, request, timeout, metadata, credentials, wait_for_ready, compression)\u001b[0m\n\u001b[1;32m   1170\u001b[0m (\n\u001b[1;32m   1171\u001b[0m     state,\n\u001b[1;32m   1172\u001b[0m     call,\n\u001b[1;32m   1173\u001b[0m ) \u001b[38;5;241m=\u001b[39m \u001b[38;5;28mself\u001b[39m\u001b[38;5;241m.\u001b[39m_blocking(\n\u001b[1;32m   1174\u001b[0m     request, timeout, metadata, credentials, wait_for_ready, compression\n\u001b[1;32m   1175\u001b[0m )\n\u001b[0;32m-> 1176\u001b[0m \u001b[38;5;28;01mreturn\u001b[39;00m \u001b[43m_end_unary_response_blocking\u001b[49m\u001b[43m(\u001b[49m\u001b[43mstate\u001b[49m\u001b[43m,\u001b[49m\u001b[43m \u001b[49m\u001b[43mcall\u001b[49m\u001b[43m,\u001b[49m\u001b[43m \u001b[49m\u001b[38;5;28;43;01mFalse\u001b[39;49;00m\u001b[43m,\u001b[49m\u001b[43m \u001b[49m\u001b[38;5;28;43;01mNone\u001b[39;49;00m\u001b[43m)\u001b[49m\n",
      "File \u001b[0;32m~/.pyenv/versions/3.10.9/lib/python3.10/site-packages/grpc/_channel.py:1005\u001b[0m, in \u001b[0;36m_end_unary_response_blocking\u001b[0;34m(state, call, with_call, deadline)\u001b[0m\n\u001b[1;32m   1004\u001b[0m \u001b[38;5;28;01melse\u001b[39;00m:\n\u001b[0;32m-> 1005\u001b[0m     \u001b[38;5;28;01mraise\u001b[39;00m _InactiveRpcError(state)\n",
      "\u001b[0;31m_InactiveRpcError\u001b[0m: <_InactiveRpcError of RPC that terminated with:\n\tstatus = StatusCode.UNAVAILABLE\n\tdetails = \"DNS resolution failed for :443: unparseable host:port\"\n\tdebug_error_string = \"UNKNOWN:Error received from peer  {created_time:\"2024-05-29T23:10:44.819985+02:00\", grpc_status:14, grpc_message:\"DNS resolution failed for :443: unparseable host:port\"}\"\n>",
      "\nThe above exception was the direct cause of the following exception:\n",
      "\u001b[0;31mServiceUnavailable\u001b[0m                        Traceback (most recent call last)",
      "Cell \u001b[0;32mIn[33], line 2\u001b[0m\n\u001b[1;32m      1\u001b[0m \u001b[38;5;66;03m## Now using BQ search\u001b[39;00m\n\u001b[0;32m----> 2\u001b[0m \u001b[43mstore\u001b[49m\u001b[38;5;241;43m.\u001b[39;49m\u001b[43msimilarity_search\u001b[49m\u001b[43m(\u001b[49m\u001b[38;5;124;43m\"\u001b[39;49m\u001b[38;5;124;43mtest\u001b[39;49m\u001b[38;5;124;43m\"\u001b[39;49m\u001b[43m,\u001b[49m\u001b[43mk\u001b[49m\u001b[38;5;241;43m=\u001b[39;49m\u001b[38;5;241;43m6\u001b[39;49m\u001b[43m)\u001b[49m\n",
      "File \u001b[0;32m~/langchain-google/libs/community/langchain_google_community/feature_store/_base.py:416\u001b[0m, in \u001b[0;36mBaseBigQueryVectorStore.similarity_search\u001b[0;34m(self, query, k, **kwargs)\u001b[0m\n\u001b[1;32m    404\u001b[0m \u001b[38;5;250m\u001b[39m\u001b[38;5;124;03m\"\"\"Search for top `k` docs most similar to input query.\u001b[39;00m\n\u001b[1;32m    405\u001b[0m \n\u001b[1;32m    406\u001b[0m \u001b[38;5;124;03mArgs:\u001b[39;00m\n\u001b[0;32m   (...)\u001b[0m\n\u001b[1;32m    413\u001b[0m \u001b[38;5;124;03m    Return docs most similar to input query.\u001b[39;00m\n\u001b[1;32m    414\u001b[0m \u001b[38;5;124;03m\"\"\"\u001b[39;00m\n\u001b[1;32m    415\u001b[0m embedding \u001b[38;5;241m=\u001b[39m \u001b[38;5;28mself\u001b[39m\u001b[38;5;241m.\u001b[39membedding\u001b[38;5;241m.\u001b[39membed_query(query)\n\u001b[0;32m--> 416\u001b[0m \u001b[38;5;28;01mreturn\u001b[39;00m \u001b[38;5;28;43mself\u001b[39;49m\u001b[38;5;241;43m.\u001b[39;49m\u001b[43msimilarity_search_by_vectors\u001b[49m\u001b[43m(\u001b[49m\u001b[43membeddings\u001b[49m\u001b[38;5;241;43m=\u001b[39;49m\u001b[43m[\u001b[49m\u001b[43membedding\u001b[49m\u001b[43m]\u001b[49m\u001b[43m,\u001b[49m\u001b[43m \u001b[49m\u001b[43mk\u001b[49m\u001b[38;5;241;43m=\u001b[39;49m\u001b[43mk\u001b[49m\u001b[43m,\u001b[49m\u001b[43m \u001b[49m\u001b[38;5;241;43m*\u001b[39;49m\u001b[38;5;241;43m*\u001b[39;49m\u001b[43mkwargs\u001b[49m\u001b[43m)\u001b[49m[\n\u001b[1;32m    417\u001b[0m     \u001b[38;5;241m0\u001b[39m\n\u001b[1;32m    418\u001b[0m ]\n",
      "File \u001b[0;32m~/langchain-google/libs/community/langchain_google_community/feature_store/_base.py:343\u001b[0m, in \u001b[0;36mBaseBigQueryVectorStore.similarity_search_by_vectors\u001b[0;34m(self, embeddings, filter, k, with_scores, with_embeddings, **kwargs)\u001b[0m\n\u001b[1;32m    316\u001b[0m \u001b[38;5;28;01mdef\u001b[39;00m \u001b[38;5;21msimilarity_search_by_vectors\u001b[39m(\n\u001b[1;32m    317\u001b[0m     \u001b[38;5;28mself\u001b[39m,\n\u001b[1;32m    318\u001b[0m     embeddings: List[List[\u001b[38;5;28mfloat\u001b[39m]],\n\u001b[0;32m   (...)\u001b[0m\n\u001b[1;32m    323\u001b[0m     \u001b[38;5;241m*\u001b[39m\u001b[38;5;241m*\u001b[39mkwargs: Any,\n\u001b[1;32m    324\u001b[0m ) \u001b[38;5;241m-\u001b[39m\u001b[38;5;241m>\u001b[39m List[List[Document]]:\n\u001b[1;32m    325\u001b[0m \u001b[38;5;250m    \u001b[39m\u001b[38;5;124;03m\"\"\"Core similarity search function. Handles a list of embedding vectors,\u001b[39;00m\n\u001b[1;32m    326\u001b[0m \u001b[38;5;124;03m        optionally returning scores and embeddings.\u001b[39;00m\n\u001b[1;32m    327\u001b[0m \n\u001b[0;32m   (...)\u001b[0m\n\u001b[1;32m    341\u001b[0m \u001b[38;5;124;03m        A list of `k` documents for each embedding in `embeddings`\u001b[39;00m\n\u001b[1;32m    342\u001b[0m \u001b[38;5;124;03m    \"\"\"\u001b[39;00m\n\u001b[0;32m--> 343\u001b[0m     results \u001b[38;5;241m=\u001b[39m \u001b[38;5;28;43mself\u001b[39;49m\u001b[38;5;241;43m.\u001b[39;49m\u001b[43m_similarity_search_by_vectors_with_scores_and_embeddings\u001b[49m\u001b[43m(\u001b[49m\n\u001b[1;32m    344\u001b[0m \u001b[43m        \u001b[49m\u001b[43membeddings\u001b[49m\u001b[38;5;241;43m=\u001b[39;49m\u001b[43membeddings\u001b[49m\u001b[43m,\u001b[49m\u001b[43m \u001b[49m\u001b[43mk\u001b[49m\u001b[38;5;241;43m=\u001b[39;49m\u001b[43mk\u001b[49m\u001b[43m,\u001b[49m\u001b[43m \u001b[49m\u001b[38;5;28;43mfilter\u001b[39;49m\u001b[38;5;241;43m=\u001b[39;49m\u001b[38;5;28;43mfilter\u001b[39;49m\u001b[43m,\u001b[49m\u001b[43m \u001b[49m\u001b[38;5;241;43m*\u001b[39;49m\u001b[38;5;241;43m*\u001b[39;49m\u001b[43mkwargs\u001b[49m\n\u001b[1;32m    345\u001b[0m \u001b[43m    \u001b[49m\u001b[43m)\u001b[49m\n\u001b[1;32m    347\u001b[0m     \u001b[38;5;66;03m# Process results based on options\u001b[39;00m\n\u001b[1;32m    348\u001b[0m     \u001b[38;5;28;01mfor\u001b[39;00m i, query_results \u001b[38;5;129;01min\u001b[39;00m \u001b[38;5;28menumerate\u001b[39m(results):\n",
      "File \u001b[0;32m~/langchain-google/libs/community/langchain_google_community/feature_store/featurestore.py:236\u001b[0m, in \u001b[0;36mVertexFSVectorStore._similarity_search_by_vectors_with_scores_and_embeddings\u001b[0;34m(self, embeddings, filter, k, batch_size, **kwargs)\u001b[0m\n\u001b[1;32m    234\u001b[0m \u001b[38;5;28;01mfor\u001b[39;00m query_embedding \u001b[38;5;129;01min\u001b[39;00m embeddings:\n\u001b[1;32m    235\u001b[0m     documents \u001b[38;5;241m=\u001b[39m []\n\u001b[0;32m--> 236\u001b[0m     results \u001b[38;5;241m=\u001b[39m \u001b[38;5;28;43mself\u001b[39;49m\u001b[38;5;241;43m.\u001b[39;49m\u001b[43m_search_embedding\u001b[49m\u001b[43m(\u001b[49m\u001b[43membedding\u001b[49m\u001b[38;5;241;43m=\u001b[39;49m\u001b[43mquery_embedding\u001b[49m\u001b[43m,\u001b[49m\u001b[43m \u001b[49m\u001b[43mk\u001b[49m\u001b[38;5;241;43m=\u001b[39;49m\u001b[43mk\u001b[49m\u001b[43m,\u001b[49m\u001b[43m \u001b[49m\u001b[38;5;241;43m*\u001b[39;49m\u001b[38;5;241;43m*\u001b[39;49m\u001b[43mkwargs\u001b[49m\u001b[43m)\u001b[49m\n\u001b[1;32m    238\u001b[0m     \u001b[38;5;28;01mfor\u001b[39;00m result \u001b[38;5;129;01min\u001b[39;00m results:\n\u001b[1;32m    239\u001b[0m         metadata, embedding \u001b[38;5;241m=\u001b[39m {}, \u001b[38;5;28;01mNone\u001b[39;00m\n",
      "File \u001b[0;32m~/langchain-google/libs/community/langchain_google_community/feature_store/featurestore.py:395\u001b[0m, in \u001b[0;36mVertexFSVectorStore._search_embedding\u001b[0;34m(self, embedding, entity_id, k, string_filters, per_crowding_attribute_neighbor_count, approximate_neighbor_candidates, leaf_nodes_search_fraction)\u001b[0m\n\u001b[1;32m    383\u001b[0m query \u001b[38;5;241m=\u001b[39m NearestNeighborQuery(\n\u001b[1;32m    384\u001b[0m     entity_id\u001b[38;5;241m=\u001b[39mentity_id,\n\u001b[1;32m    385\u001b[0m     embedding\u001b[38;5;241m=\u001b[39membedding,\n\u001b[0;32m   (...)\u001b[0m\n\u001b[1;32m    392\u001b[0m     },\n\u001b[1;32m    393\u001b[0m )\n\u001b[1;32m    394\u001b[0m \u001b[38;5;28;01mwith\u001b[39;00m telemetry\u001b[38;5;241m.\u001b[39mtool_context_manager(\u001b[38;5;28mself\u001b[39m\u001b[38;5;241m.\u001b[39m_user_agent):\n\u001b[0;32m--> 395\u001b[0m     result \u001b[38;5;241m=\u001b[39m \u001b[38;5;28;43mself\u001b[39;49m\u001b[38;5;241;43m.\u001b[39;49m\u001b[43m_search_client\u001b[49m\u001b[38;5;241;43m.\u001b[39;49m\u001b[43msearch_nearest_entities\u001b[49m\u001b[43m(\u001b[49m\n\u001b[1;32m    396\u001b[0m \u001b[43m        \u001b[49m\u001b[43mrequest\u001b[49m\u001b[38;5;241;43m=\u001b[39;49m\u001b[43mfeature_online_store_service\u001b[49m\u001b[38;5;241;43m.\u001b[39;49m\u001b[43mSearchNearestEntitiesRequest\u001b[49m\u001b[43m(\u001b[49m\n\u001b[1;32m    397\u001b[0m \u001b[43m            \u001b[49m\u001b[43mfeature_view\u001b[49m\u001b[38;5;241;43m=\u001b[39;49m\u001b[38;5;28;43mself\u001b[39;49m\u001b[38;5;241;43m.\u001b[39;49m\u001b[43m_feature_view\u001b[49m\u001b[38;5;241;43m.\u001b[39;49m\u001b[43mgca_resource\u001b[49m\u001b[38;5;241;43m.\u001b[39;49m\u001b[43mname\u001b[49m\u001b[43m,\u001b[49m\u001b[43m  \u001b[49m\u001b[38;5;66;43;03m# type: ignore[union-attr]\u001b[39;49;00m\n\u001b[1;32m    398\u001b[0m \u001b[43m            \u001b[49m\u001b[43mquery\u001b[49m\u001b[38;5;241;43m=\u001b[39;49m\u001b[43mquery\u001b[49m\u001b[43m,\u001b[49m\n\u001b[1;32m    399\u001b[0m \u001b[43m            \u001b[49m\u001b[43mreturn_full_entity\u001b[49m\u001b[38;5;241;43m=\u001b[39;49m\u001b[38;5;28;43;01mTrue\u001b[39;49;00m\u001b[43m,\u001b[49m\u001b[43m  \u001b[49m\u001b[38;5;66;43;03m# returning entities with metadata\u001b[39;49;00m\n\u001b[1;32m    400\u001b[0m \u001b[43m        \u001b[49m\u001b[43m)\u001b[49m\n\u001b[1;32m    401\u001b[0m \u001b[43m    \u001b[49m\u001b[43m)\u001b[49m\n\u001b[1;32m    402\u001b[0m \u001b[38;5;28;01mreturn\u001b[39;00m result\u001b[38;5;241m.\u001b[39mnearest_neighbors\u001b[38;5;241m.\u001b[39mneighbors\n",
      "File \u001b[0;32m~/.pyenv/versions/3.10.9/lib/python3.10/site-packages/google/cloud/aiplatform_v1beta1/services/feature_online_store_service/client.py:1002\u001b[0m, in \u001b[0;36mFeatureOnlineStoreServiceClient.search_nearest_entities\u001b[0;34m(self, request, retry, timeout, metadata)\u001b[0m\n\u001b[1;32m    999\u001b[0m \u001b[38;5;28mself\u001b[39m\u001b[38;5;241m.\u001b[39m_validate_universe_domain()\n\u001b[1;32m   1001\u001b[0m \u001b[38;5;66;03m# Send the request.\u001b[39;00m\n\u001b[0;32m-> 1002\u001b[0m response \u001b[38;5;241m=\u001b[39m \u001b[43mrpc\u001b[49m\u001b[43m(\u001b[49m\n\u001b[1;32m   1003\u001b[0m \u001b[43m    \u001b[49m\u001b[43mrequest\u001b[49m\u001b[43m,\u001b[49m\n\u001b[1;32m   1004\u001b[0m \u001b[43m    \u001b[49m\u001b[43mretry\u001b[49m\u001b[38;5;241;43m=\u001b[39;49m\u001b[43mretry\u001b[49m\u001b[43m,\u001b[49m\n\u001b[1;32m   1005\u001b[0m \u001b[43m    \u001b[49m\u001b[43mtimeout\u001b[49m\u001b[38;5;241;43m=\u001b[39;49m\u001b[43mtimeout\u001b[49m\u001b[43m,\u001b[49m\n\u001b[1;32m   1006\u001b[0m \u001b[43m    \u001b[49m\u001b[43mmetadata\u001b[49m\u001b[38;5;241;43m=\u001b[39;49m\u001b[43mmetadata\u001b[49m\u001b[43m,\u001b[49m\n\u001b[1;32m   1007\u001b[0m \u001b[43m\u001b[49m\u001b[43m)\u001b[49m\n\u001b[1;32m   1009\u001b[0m \u001b[38;5;66;03m# Done; return the response.\u001b[39;00m\n\u001b[1;32m   1010\u001b[0m \u001b[38;5;28;01mreturn\u001b[39;00m response\n",
      "File \u001b[0;32m~/.pyenv/versions/3.10.9/lib/python3.10/site-packages/google/api_core/gapic_v1/method.py:131\u001b[0m, in \u001b[0;36m_GapicCallable.__call__\u001b[0;34m(self, timeout, retry, compression, *args, **kwargs)\u001b[0m\n\u001b[1;32m    128\u001b[0m \u001b[38;5;28;01mif\u001b[39;00m \u001b[38;5;28mself\u001b[39m\u001b[38;5;241m.\u001b[39m_compression \u001b[38;5;129;01mis\u001b[39;00m \u001b[38;5;129;01mnot\u001b[39;00m \u001b[38;5;28;01mNone\u001b[39;00m:\n\u001b[1;32m    129\u001b[0m     kwargs[\u001b[38;5;124m\"\u001b[39m\u001b[38;5;124mcompression\u001b[39m\u001b[38;5;124m\"\u001b[39m] \u001b[38;5;241m=\u001b[39m compression\n\u001b[0;32m--> 131\u001b[0m \u001b[38;5;28;01mreturn\u001b[39;00m \u001b[43mwrapped_func\u001b[49m\u001b[43m(\u001b[49m\u001b[38;5;241;43m*\u001b[39;49m\u001b[43margs\u001b[49m\u001b[43m,\u001b[49m\u001b[43m \u001b[49m\u001b[38;5;241;43m*\u001b[39;49m\u001b[38;5;241;43m*\u001b[39;49m\u001b[43mkwargs\u001b[49m\u001b[43m)\u001b[49m\n",
      "File \u001b[0;32m~/.pyenv/versions/3.10.9/lib/python3.10/site-packages/google/api_core/grpc_helpers.py:78\u001b[0m, in \u001b[0;36m_wrap_unary_errors.<locals>.error_remapped_callable\u001b[0;34m(*args, **kwargs)\u001b[0m\n\u001b[1;32m     76\u001b[0m     \u001b[38;5;28;01mreturn\u001b[39;00m callable_(\u001b[38;5;241m*\u001b[39margs, \u001b[38;5;241m*\u001b[39m\u001b[38;5;241m*\u001b[39mkwargs)\n\u001b[1;32m     77\u001b[0m \u001b[38;5;28;01mexcept\u001b[39;00m grpc\u001b[38;5;241m.\u001b[39mRpcError \u001b[38;5;28;01mas\u001b[39;00m exc:\n\u001b[0;32m---> 78\u001b[0m     \u001b[38;5;28;01mraise\u001b[39;00m exceptions\u001b[38;5;241m.\u001b[39mfrom_grpc_error(exc) \u001b[38;5;28;01mfrom\u001b[39;00m \u001b[38;5;21;01mexc\u001b[39;00m\n",
      "\u001b[0;31mServiceUnavailable\u001b[0m: 503 DNS resolution failed for :443: unparseable host:port"
     ]
    }
   ],
   "source": [
    "## Now using BQ search\n",
    "store.similarity_search(\"test\",k=6)"
   ]
  },
  {
   "cell_type": "code",
   "execution_count": null,
   "metadata": {},
   "outputs": [],
   "source": [
    "store = store.get_vertex_fs_vector_store()"
   ]
  },
  {
   "cell_type": "code",
   "execution_count": null,
   "metadata": {
    "scrolled": true
   },
   "outputs": [],
   "source": [
    "## Now using FS search\n",
    "store.similarity_search(\"test\",k=6)"
   ]
  },
  {
   "cell_type": "code",
   "execution_count": null,
   "metadata": {
    "scrolled": true
   },
   "outputs": [],
   "source": [
    "vertex_fs.add_documents(doc_splits)"
   ]
  },
  {
   "cell_type": "code",
   "execution_count": null,
   "metadata": {},
   "outputs": [],
   "source": []
  },
  {
   "cell_type": "code",
   "execution_count": null,
   "metadata": {},
   "outputs": [],
   "source": [
    "from google.cloud.aiplatform_v1beta1 import NearestNeighborQuery\n",
    "\n",
    "\n"
   ]
  },
  {
   "cell_type": "code",
   "execution_count": null,
   "metadata": {
    "colab": {
     "base_uri": "https://localhost:8080/"
    },
    "id": "WAPITufi-Qca",
    "outputId": "558c53e2-eaae-44f3-8b47-1c8d095eadaf",
    "scrolled": true
   },
   "outputs": [],
   "source": [
    "%%time\n",
    "\n",
    "vertex_fs.similarity_search(\n",
    "            \"treat\",\n",
    "            k=6,\n",
    "            # \\string_filters=[\n",
    "            #    NearestNeighborQuery.StringFilter({\"name\":\"kind\",\"deny_tokens\":[\"treat\"]})\n",
    "            # ]\n",
    "        )"
   ]
  },
  {
   "cell_type": "markdown",
   "metadata": {
    "id": "Y0RTlZLY_LFP"
   },
   "source": [
    "Verify the BigQueryVectorSearch with similarity search"
   ]
  },
  {
   "cell_type": "markdown",
   "metadata": {},
   "source": [
    "### Get a langchain retriever\n",
    "The retriever will be used in a Langchain Chain to find the most similar documents for a given query."
   ]
  },
  {
   "cell_type": "code",
   "execution_count": null,
   "metadata": {},
   "outputs": [],
   "source": [
    "langchain_retriever = vertex_fs.as_retriever()"
   ]
  },
  {
   "cell_type": "markdown",
   "metadata": {},
   "source": [
    "### Compose a Langchain Chain\n",
    "\n",
    "We are going to use the [`RetrievalQA` chain](https://python.langchain.com/docs/modules/chains/popular/vector_db_qa)\n",
    "There are several different chain types available, listed [here](https://docs.langchain.com/docs/components/chains/index_related_chains)."
   ]
  },
  {
   "cell_type": "code",
   "execution_count": null,
   "metadata": {},
   "outputs": [],
   "source": [
    "%%time\n",
    "from langchain_google_vertexai import VertexAI\n",
    "from langchain.chains import RetrievalQA\n",
    "from langchain.globals import set_debug\n",
    "\n",
    "# Set high verbosity\n",
    "set_debug(True)\n",
    "\n",
    "llm = VertexAI(model_name=\"gemini-pro\")\n",
    "\n",
    "search_query = \"What should I do when call the emergency roadside assistance?\"  # @param {type:\"string\"}\n",
    "\n",
    "retrieval_qa = RetrievalQA.from_chain_type(\n",
    "    llm=llm, chain_type=\"stuff\", retriever=langchain_retriever\n",
    ")\n",
    "response = retrieval_qa.invoke(search_query)\n",
    "print(\"\\n################ Final Answer ################\\n\")\n",
    "print(response[\"result\"])"
   ]
  },
  {
   "cell_type": "markdown",
   "metadata": {},
   "source": [
    "## Low latency Vector Search with FeatureStore\n",
    "\n",
    "We are now ready to perform low latency serving with Feature Store! \n",
    "\n",
    "To do that, you can simply use the method `set_executor`, to `feature_online_store` type. \n",
    "\n",
    "See the [function definition](TODO) for all the parameters you can use."
   ]
  },
  {
   "cell_type": "code",
   "execution_count": null,
   "metadata": {},
   "outputs": [],
   "source": [
    "vertex_fs.set_executor({\"type\": \"feature_online_store\"})"
   ]
  },
  {
   "cell_type": "markdown",
   "metadata": {},
   "source": [
    "#### Kick off a synchronization process\n",
    "\n",
    "You can use the method `sync` to synchronize the data from BigQuery to the Feature Online Store, to achieve low latency serving.\n",
    "When in a production environment, you can also use `cron_schedule` to setup an automatic scheduled synchronization. \n",
    "\n",
    "The synchronization process will take around ~20 minutes. "
   ]
  },
  {
   "cell_type": "code",
   "execution_count": null,
   "metadata": {
    "scrolled": true
   },
   "outputs": [],
   "source": [
    "vertex_fs.sync()"
   ]
  },
  {
   "cell_type": "markdown",
   "metadata": {},
   "source": [
    "You can also monitor the synchronization process from GCP Console: [Vertex AI Feature Store Tab](https://console.cloud.google.com/vertex-ai/feature-store/online-stores)"
   ]
  },
  {
   "cell_type": "markdown",
   "metadata": {},
   "source": [
    "#### Serve with Feature Online Store\n",
    "\n",
    "You are now ready to serve with Feature Store! You can re-use the same retriever to perform low-latency Vector Search."
   ]
  },
  {
   "cell_type": "code",
   "execution_count": null,
   "metadata": {},
   "outputs": [],
   "source": [
    "results = langchain_retriever.invoke(search_query)\n",
    "results[0]"
   ]
  },
  {
   "cell_type": "code",
   "execution_count": null,
   "metadata": {},
   "outputs": [],
   "source": [
    "%%time\n",
    "results = langchain_retriever.invoke(\"Leaks under the vehicle\")"
   ]
  },
  {
   "cell_type": "code",
   "execution_count": null,
   "metadata": {},
   "outputs": [],
   "source": [
    "%%time\n",
    "response = retrieval_qa.invoke(search_query)\n",
    "print(\"\\n################ Final Answer ################\\n\")\n",
    "print(response[\"result\"])"
   ]
  },
  {
   "cell_type": "markdown",
   "metadata": {},
   "source": [
    "### Filtering by metadata\n"
   ]
  },
  {
   "cell_type": "code",
   "execution_count": null,
   "metadata": {},
   "outputs": [],
   "source": []
  },
  {
   "cell_type": "markdown",
   "metadata": {},
   "source": [
    "# Appendix\n",
    "\n",
    "We add here other useful examples to work with the `VertexFeatureStore` Langchain integration."
   ]
  },
  {
   "cell_type": "markdown",
   "metadata": {},
   "source": [
    "### Local Bruteforce\n",
    "\n",
    "You can also prototype by using a (local) bruteforce executor. During initialization, data is downloaded from BQ to your memory.\n",
    "\n",
    "You can use it for prototyping when the number of documents is low. "
   ]
  },
  {
   "cell_type": "markdown",
   "metadata": {},
   "source": [
    "### Get documents by ID\n",
    "\n",
    "You can also use the function `get_documents` to retrieve a set of documents given a document ID:\n"
   ]
  },
  {
   "cell_type": "code",
   "execution_count": null,
   "metadata": {},
   "outputs": [],
   "source": [
    "vertex_fs.get_documents(ids=[\"65a6b83ec5ae428ab8a9607a4f845e47\"])"
   ]
  },
  {
   "cell_type": "code",
   "execution_count": null,
   "metadata": {},
   "outputs": [],
   "source": []
  }
 ],
 "metadata": {
  "kernelspec": {
   "display_name": "Python 3 (ipykernel)",
   "language": "python",
   "name": "python3"
  },
  "language_info": {
   "codemirror_mode": {
    "name": "ipython",
    "version": 3
   },
   "file_extension": ".py",
   "mimetype": "text/x-python",
   "name": "python",
   "nbconvert_exporter": "python",
   "pygments_lexer": "ipython3",
   "version": "3.10.9"
  }
 },
 "nbformat": 4,
 "nbformat_minor": 4
}
